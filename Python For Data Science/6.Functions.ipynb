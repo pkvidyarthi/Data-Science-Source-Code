{
 "cells": [
  {
   "cell_type": "code",
   "execution_count": 10,
   "metadata": {},
   "outputs": [
    {
     "name": "stdout",
     "output_type": "stream",
     "text": [
      "Hello! Coding Ideas\n"
     ]
    }
   ],
   "source": [
    "# PYTHON FUNCTIONS :\n",
    "#! A function is a block of code which only runs when it is called.\n",
    "#! We can pass data, known as parameters, into a function.\n",
    "#! A function can return data as a result.\n",
    "\n",
    "# Creating a Function => In Python a function is defined using the def keyword.\n",
    "\n",
    "def abc():                           # Definig a Function\n",
    "    print(\"Hello! Coding Ideas\")     # Function Body\n",
    "abc()                                # Calling a Function\n",
    "\n",
    "# Output => Hello! Coding Ideas"
   ]
  },
  {
   "cell_type": "code",
   "execution_count": 11,
   "metadata": {},
   "outputs": [
    {
     "name": "stdout",
     "output_type": "stream",
     "text": [
      "30\n",
      "30\n"
     ]
    }
   ],
   "source": [
    "#Q - Define function named sum and print addition of any 2 numbers.\n",
    "''' Solution: '''\n",
    "def sum():\n",
    "    print(10+20)\n",
    "sum()\n",
    "\n",
    "# Output => 30\n",
    "\n",
    "#! OR \n",
    "# Creating parameters in a function.\n",
    "def sum(a,b):\n",
    "    print(a+b)\n",
    "sum(10, 20)\n",
    "\n",
    "# Output => 30\n"
   ]
  },
  {
   "cell_type": "code",
   "execution_count": null,
   "metadata": {},
   "outputs": [],
   "source": [
    "def sum(a, b):\n",
    "    print(a+b)\n",
    "sum(40, 50)\n",
    "sum(100, 1200)\n",
    "sum(30, -40)"
   ]
  },
  {
   "cell_type": "code",
   "execution_count": 12,
   "metadata": {},
   "outputs": [
    {
     "name": "stdout",
     "output_type": "stream",
     "text": [
      "90\n",
      "1300\n",
      "-10\n",
      "123.05\n"
     ]
    },
    {
     "data": {
      "text/plain": [
       "' \\nOutputs => \\n90\\n1300\\n-10 \\n123.05\\n'"
      ]
     },
     "execution_count": 12,
     "metadata": {},
     "output_type": "execute_result"
    }
   ],
   "source": [
    "# Advantages of functions:\n",
    "#! Reducing duplication of code.\n",
    "#! Decomposing complex problems into simpler pieces.\n",
    "#! Improving clarity of the code.\n",
    "#! Reuse of code.\n",
    "\n",
    "def sum(a, b):\n",
    "    print(a+b)\n",
    "sum(40, 50)\n",
    "sum(100, 1200)\n",
    "sum(30, -40)\n",
    "sum(100.25,22.8)\n",
    "''' \n",
    "Outputs => \n",
    "90\n",
    "1300\n",
    "-10 \n",
    "123.05\n",
    "'''\n",
    "\n"
   ]
  },
  {
   "cell_type": "code",
   "execution_count": 13,
   "metadata": {},
   "outputs": [
    {
     "name": "stdout",
     "output_type": "stream",
     "text": [
      "5\n",
      "15\n",
      "10\n",
      "-35\n"
     ]
    },
    {
     "data": {
      "text/plain": [
       "' \\nOutputs :\\n5\\n15\\n10\\n-35\\n'"
      ]
     },
     "execution_count": 13,
     "metadata": {},
     "output_type": "execute_result"
    }
   ],
   "source": [
    "#Q - Define function named sub and print subtraction of any 2 numbers.\n",
    "''' Solution: '''\n",
    "def sub(a,b):\n",
    "    print(a-b)\n",
    "sub(10, 5)\n",
    "sub(10, -5)\n",
    "sub(-10,-20)\n",
    "sub(-20,15)\n",
    "\n",
    "''' \n",
    "Outputs :\n",
    "5\n",
    "15\n",
    "10\n",
    "-35\n",
    "'''"
   ]
  },
  {
   "cell_type": "code",
   "execution_count": 14,
   "metadata": {},
   "outputs": [
    {
     "name": "stdout",
     "output_type": "stream",
     "text": [
      "Addition:  23\n",
      "Subtraction:  17\n",
      "Multiplication:  60\n",
      "Division:  6.666666666666667\n",
      "Remainder:  2\n",
      "Floor Division:  6\n",
      "Exponention:  8000\n"
     ]
    }
   ],
   "source": [
    "#Q - Define a function calculator and calculate all the mathematical operators inside it.\n",
    "def calculator(a, b):\n",
    "    print(\"Addition: \",a+b)\n",
    "    print(\"Subtraction: \",a-b)\n",
    "    print(\"Multiplication: \",a*b)\n",
    "    print(\"Division: \",a/b)\n",
    "    print(\"Remainder: \",a%b)\n",
    "    print(\"Floor Division: \",a//b)\n",
    "    print(\"Exponention: \",a**b)\n",
    "calculator(20,3)"
   ]
  },
  {
   "cell_type": "code",
   "execution_count": 1,
   "metadata": {},
   "outputs": [
    {
     "name": "stdout",
     "output_type": "stream",
     "text": [
      "Addition : 23\n",
      "Subtraction: 17\n",
      "Multiplication : 60\n",
      "Division : 6.666666666666667\n",
      "Modulus : 2\n",
      "Floor Division : 6\n",
      "Power or Exponention : 8000\n"
     ]
    },
    {
     "data": {
      "text/plain": [
       "' \\nOutput:\\nEnter a number: 20\\nEnter second number: 3\\nAddition : 23\\nSubtraction: 17\\nMultiplication : 60\\nDivision : 6.666666666666667\\nModulus : 2\\nFloor Division : 6\\nPower or Exponention : 8000\\n'"
      ]
     },
     "execution_count": 1,
     "metadata": {},
     "output_type": "execute_result"
    }
   ],
   "source": [
    "#Q - Define a function calculator and calculate all the mathematical operators inside it in a presentable manner.\n",
    "''' Solution: '''\n",
    "def calculator():\n",
    "    a = int(input(\"Enter a number: \"))\n",
    "    b = int(input(\"Enter second number: \"))\n",
    "    print(\"Addition :\", a+b)\n",
    "    print(\"Subtraction:\", a-b)\n",
    "    print(\"Multiplication :\", a*b)\n",
    "    print(\"Division :\", a/b)\n",
    "    print(\"Modulus :\", a%b)\n",
    "    print(\"Floor Division :\", a//b)\n",
    "    print(\"Power or Exponention :\", a**b)\n",
    "calculator()\n",
    "\n",
    "''' \n",
    "Output:\n",
    "Enter a number: 20\n",
    "Enter second number: 3\n",
    "Addition : 23\n",
    "Subtraction: 17\n",
    "Multiplication : 60\n",
    "Division : 6.666666666666667\n",
    "Modulus : 2\n",
    "Floor Division : 6\n",
    "Power or Exponention : 8000\n",
    "'''"
   ]
  },
  {
   "cell_type": "code",
   "execution_count": 7,
   "metadata": {},
   "outputs": [
    {
     "name": "stdout",
     "output_type": "stream",
     "text": [
      "Base:  3\n",
      "Height:  4\n",
      "Hypotenuse:  5.0\n",
      "------------------\n",
      "Base:  5\n",
      "Height:  12\n",
      "Hypotenuse:  13.0\n",
      "------------------\n",
      "Base:  8\n",
      "Height:  15\n",
      "Hypotenuse:  17.0\n",
      "------------------\n"
     ]
    }
   ],
   "source": [
    "#Q - Define a function and calculate Pythagoras Theorem.\n",
    "''' Solution: '''\n",
    "def pythagoras(base, height):\n",
    "    hyp = (base**2 + height**2) ** (1/2)\n",
    "    # hyp = (base*base + height*height) ** (1/2)\n",
    "    print(\"Base: \",base)\n",
    "    print(\"Height: \",height)\n",
    "    print(\"Hypotenuse: \",hyp)\n",
    "    print(\"------------------\")   # Divider\n",
    "pythagoras(3, 4)\n",
    "pythagoras(5,12)\n",
    "pythagoras(8,15)"
   ]
  },
  {
   "cell_type": "code",
   "execution_count": 8,
   "metadata": {},
   "outputs": [
    {
     "name": "stdout",
     "output_type": "stream",
     "text": [
      "Mass in Kg =  20.0\n",
      "Energy =  1800000000000.0 MJ\n"
     ]
    }
   ],
   "source": [
    "#Q - Define a function and calculate the energy using the energy mass equivalence formula.\n",
    "''' Solution: \n",
    "Method 1 :\n",
    "'''\n",
    "def energy():\n",
    "    mass = float(input(\"Enter the mass (in Kg): \"))\n",
    "    c = 3*(10**8)                        # we can take 'speed of light (c)' as user input.\n",
    "    e = (mass*c*c)/1000000\n",
    "    print(\"Mass in Kg = \", mass)\n",
    "    print(\"Energy = \",e,\"MJ\")       # 1 MJ = 1000000 J\n",
    "energy()"
   ]
  },
  {
   "cell_type": "code",
   "execution_count": null,
   "metadata": {},
   "outputs": [],
   "source": [
    "# Method 2:\n",
    "#! Take mass in Kg.\n",
    "def energy(mass):\n",
    "    c = 3*(10**8)   # Speed of light.\n",
    "    e = (mass*c*c)/1000000\n",
    "    print(\"Mass in Kg = \", mass)\n",
    "    print(\"Energy = \",e,\"MJ\") \n",
    "    print(\"-------------------------------\")     # Divider\n",
    "energy(32)\n",
    "energy(50)\n",
    "energy(127)\n",
    "energy(20)\n",
    "    "
   ]
  },
  {
   "cell_type": "code",
   "execution_count": 15,
   "metadata": {},
   "outputs": [
    {
     "name": "stdout",
     "output_type": "stream",
     "text": [
      "Inside Function [10, 20, 30, 40, 50]\n",
      "Outside Function: [10, 20, 30, 40, 50]\n"
     ]
    }
   ],
   "source": [
    "# call by reference\n",
    "\n",
    "\n",
    "def add_more(list):\n",
    "\tlist.append(50)\n",
    "\tprint(\"Inside Function\", list)\n",
    "\n",
    "# Driver's code\n",
    "mylist = [10,20,30,40]\n",
    "\n",
    "add_more(mylist)\n",
    "print(\"Outside Function:\", mylist)"
   ]
  }
 ],
 "metadata": {
  "kernelspec": {
   "display_name": "Python 3.10.5 64-bit",
   "language": "python",
   "name": "python3"
  },
  "language_info": {
   "codemirror_mode": {
    "name": "ipython",
    "version": 3
   },
   "file_extension": ".py",
   "mimetype": "text/x-python",
   "name": "python",
   "nbconvert_exporter": "python",
   "pygments_lexer": "ipython3",
   "version": "3.10.5"
  },
  "orig_nbformat": 4,
  "vscode": {
   "interpreter": {
    "hash": "26de051ba29f2982a8de78e945f0abaf191376122a1563185a90213a26c5da77"
   }
  }
 },
 "nbformat": 4,
 "nbformat_minor": 2
}
