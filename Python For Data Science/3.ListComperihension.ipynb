{
 "cells": [
  {
   "cell_type": "code",
   "execution_count": 6,
   "metadata": {},
   "outputs": [
    {
     "name": "stdout",
     "output_type": "stream",
     "text": [
      "[1, 2, 3, 4, 5, 6, 7, 8, 9]\n",
      "[1, 2, 3, 4, 5, 6, 7, 8, 9]\n",
      "[1, 3, 5, 7, 9, 11]\n",
      "[3, 6, 9, 12]\n"
     ]
    }
   ],
   "source": [
    "#Range Function/Statement\n",
    "a = list(range(1,10))\n",
    "print(a)                       # Output => [1, 2, 3, 4, 5, 6, 7, 8, 9]\n",
    "print(list(range(1,10)))       # Output => [1, 2, 3, 4, 5, 6, 7, 8, 9]\n",
    "''' It prints range between Initial to End (excluding End) \n",
    "means print(list(range(1,10))) prints range between 1 to 9 It doesn't include last element. '''\n",
    "\n",
    "b = list(range(1,12,2))        # It will print range between 1 to 11 with 2 jump.\n",
    "print(b)                       # Output => [1, 3, 5, 7, 9, 11]\n",
    "\n",
    "c = list(range(3,13,3))\n",
    "print(c)                       # Output => [3, 6, 9, 12]\n"
   ]
  },
  {
   "cell_type": "code",
   "execution_count": 11,
   "metadata": {},
   "outputs": [
    {
     "name": "stdout",
     "output_type": "stream",
     "text": [
      "[2, 4, 6, 8, 10]\n",
      "[2, 4, 6, 8, 10]\n"
     ]
    }
   ],
   "source": [
    "# Basic questions related to range function.\n",
    "#! Question: Using range display/print the list of even numbers till 10.\n",
    "''' Solution:  '''\n",
    "even = list(range(2,11,2))\n",
    "print(even)\n",
    "# Output => [2, 4, 6, 8, 10]\n",
    "\n",
    "''' Explanation:\n",
    "We have to print even numbers upto 10 so\n",
    "1. We have to take range between 2 to 11.\n",
    "   Because If we take 10, range function will exclude 10. While we have to print 10.\n",
    "2. Use 2 jump, because if we start counting from an even number \n",
    "   every 2nd number will be an even number.'''\n",
    "\n",
    "print(even)\n",
    "\n"
   ]
  },
  {
   "cell_type": "code",
   "execution_count": 13,
   "metadata": {},
   "outputs": [
    {
     "name": "stdout",
     "output_type": "stream",
     "text": [
      "[10, 9, 8, 7, 6, 5, 4, 3, 2, 1]\n"
     ]
    }
   ],
   "source": [
    "\n",
    "#! Question: Print the list of 1st 10 natural numbers in reverse using range.\n",
    "''' Solution: '''\n",
    "revNumber = list(range(10,0,-1))\n",
    "print(revNumber)\n",
    "\n",
    "# Output => [10, 9, 8, 7, 6, 5, 4, 3, 2, 1]\n",
    "''' Explanation:\n",
    "=> We have to take range in reverse manner, so range will start from 10 to 0.\n",
    "=> zero(0) will be excluded by default, so It will print list upto 1.\n",
    "=> We have to use reverse jump using -1 to print reverse order of the list.'''\n"
   ]
  },
  {
   "cell_type": "code",
   "execution_count": 14,
   "metadata": {},
   "outputs": [
    {
     "name": "stdout",
     "output_type": "stream",
     "text": [
      "1\n",
      "2\n",
      "3\n",
      "4\n",
      "5\n",
      "6\n",
      "7\n",
      "8\n",
      "9\n",
      "10\n"
     ]
    }
   ],
   "source": [
    "# LOOP \n",
    "#! for Loop => It is an iterative process.\n",
    "for x in range(1,11):\n",
    "    print(x)\n",
    "# Output =>\n",
    "''' \n",
    "1\n",
    "2\n",
    "3\n",
    "4\n",
    "5\n",
    "6\n",
    "7\n",
    "8\n",
    "9\n",
    "10 \n",
    "'''\n",
    "\n"
   ]
  },
  {
   "cell_type": "code",
   "execution_count": null,
   "metadata": {},
   "outputs": [],
   "source": [
    "''' Python Indentation => \n",
    "    1. Indentation refers to the spaces at the beginning of a code line.\n",
    "    2. Python uses indentation to indicate a block of code. '''\n",
    "# 1 Indent => 1 Tab or 4 Spaces"
   ]
  },
  {
   "cell_type": "code",
   "execution_count": 15,
   "metadata": {},
   "outputs": [
    {
     "name": "stdout",
     "output_type": "stream",
     "text": [
      "[1, 2, 3, 4, 5, 6, 7, 8, 9, 10]\n"
     ]
    }
   ],
   "source": [
    "#List Comprehensions => The operations performed inside a list.\n",
    "#! Question: Print the first 10 natural numbers using list comprehensions.\n",
    "# Solution: \n",
    "a = [x for x in range(1,11)]   # List Comprehensions\n",
    "print(a)                       # Output => [1, 2, 3, 4, 5, 6, 7, 8, 9, 10]\n"
   ]
  },
  {
   "cell_type": "code",
   "execution_count": 25,
   "metadata": {},
   "outputs": [
    {
     "name": "stdout",
     "output_type": "stream",
     "text": [
      "['Apple', 'Banana', 'Dragon Fruit', 'Guava', 'Grapes', 'Mango', 'Pineapple']\n",
      "7\n",
      "['Apple', 'Banana', 'Dragon Fruit', 'Guava', 'Grapes', 'Mango', 'Pineapple']\n",
      "['Guava', 'Grapes']\n",
      "['Apple', 'Pineapple']\n",
      "['Banana', 'Dragon Fruit', 'Guava', 'Grapes', 'Mango', 'Pineapple']\n",
      "['Apple']\n",
      "['Apple']\n",
      "['Apple', 'Pineapple']\n",
      "['Apple', 'Banana', 'Dragon Fruit', 'Mango', 'Pineapple']\n"
     ]
    }
   ],
   "source": [
    "b = ['Apple','Banana','Dragon Fruit','Guava','Grapes','Mango','Pineapple']\n",
    "print(b)\n",
    "print(len(b))         # Output => 7           \n",
    "\n",
    "#copy => Alternative of copy function using list comprehension.\n",
    "a = [x for x in b] \n",
    "print(a)              # Output => ['Apple', 'Banana', 'Dragon Fruit', 'Guava', 'Grapes', 'Mango', 'Pineapple']\n",
    "\n",
    "#Filtering list\n",
    "c = [x for x in b if 'G' in x]\n",
    "print(c)              # Output => ['Guava', 'Grapes']\n",
    "c = [x for x in b if 'le' in x]\n",
    "print(c)              # Output => ['Apple', 'Pineapple']\n",
    "c = [x for x in b if 'a' in x]\n",
    "print(c)              # Output => ['Banana', 'Dragon Fruit', 'Guava', 'Grapes', 'Mango', 'Pineapple']\n",
    "c = [x for x in b if 'a' not in x]\n",
    "print(c)              # Output => ['Apple']\n",
    "c = [x for x in b if 'A' in x]\n",
    "print(c)              # Output => ['Apple']\n",
    "c = [x for x in b if 'pp' in x]\n",
    "print(c)              # Output => ['Apple', 'Pineapple']\n",
    "c = [x for x in b if 'G' not in x]\n",
    "print(c)              # Output =>['Apple', 'Banana', 'Dragon Fruit', 'Mango', 'Pineapple']"
   ]
  },
  {
   "cell_type": "code",
   "execution_count": 28,
   "metadata": {},
   "outputs": [
    {
     "name": "stdout",
     "output_type": "stream",
     "text": [
      "['Apple', 'Banana', 'Dragon Fruit', 'Guava', 'Grapes', 'Mango', 'Pineapple']\n",
      "['Apple', 'Pineapple']\n"
     ]
    }
   ],
   "source": [
    "#Creating a list comprehension from scratch.\n",
    "print(b)\n",
    "a = []\n",
    "for x in b: \n",
    "    if 'pp' in x:\n",
    "        a.append(x)\n",
    "print(a)\n",
    "\n",
    "# Output => ['Apple', 'Pineapple']"
   ]
  },
  {
   "cell_type": "code",
   "execution_count": 8,
   "metadata": {},
   "outputs": [
    {
     "name": "stdout",
     "output_type": "stream",
     "text": [
      "[1, 2, 3, 97, 98, 99, 4, 5, 6]\n",
      "[1, 2, 3]\n",
      "[4, 5, 6]\n"
     ]
    }
   ],
   "source": [
    "# Question : \n",
    "''' lst = [1, 2, 3, 4, 5, 6],\n",
    "    Between 3 & 4 insert 3 more numbers - 97,98,99 without using the insert function.\n",
    "    Expected Output => [1, 2, 3, 97, 98, 99, 4, 5, 6]. '''\n",
    "\n",
    "#Solution: \n",
    "lst = [1, 2, 3, 4, 5, 6]\n",
    "num = [97, 98, 99]\n",
    "ans = lst[:3] + num + lst[3:]\n",
    "print(ans)\n",
    "\n",
    "# Explanation: \n",
    "'''\n",
    "1. lst[:3] => [1, 2, 3], It will exclude 3rd index i.e 4\n",
    "2. num = [97, 98, 99]\n",
    "3. lst[3:] => from 3rd index to the last. => [4, 5, 6]\n",
    "'''\n",
    "print(lst[:3])\n",
    "print(lst[3:])"
   ]
  },
  {
   "cell_type": "code",
   "execution_count": 7,
   "metadata": {},
   "outputs": [
    {
     "name": "stdout",
     "output_type": "stream",
     "text": [
      "[1, 2, 3, 4, 5]\n"
     ]
    }
   ],
   "source": [
    "#del [a:b] => Deletion through slicing.\n",
    "a = [1, 2, 3, 97, 98, 99, 4, 5]\n",
    "del a[3:6]\n",
    "print(a)        \n",
    "# It will delete elements from 3rd index to 5th index,\n",
    "# Because 6th index will be excluded from deletion. => Output => [1, 2, 3, 4, 5]"
   ]
  }
 ],
 "metadata": {
  "kernelspec": {
   "display_name": "Python 3.10.5 64-bit",
   "language": "python",
   "name": "python3"
  },
  "language_info": {
   "codemirror_mode": {
    "name": "ipython",
    "version": 3
   },
   "file_extension": ".py",
   "mimetype": "text/x-python",
   "name": "python",
   "nbconvert_exporter": "python",
   "pygments_lexer": "ipython3",
   "version": "3.10.5"
  },
  "orig_nbformat": 4,
  "vscode": {
   "interpreter": {
    "hash": "26de051ba29f2982a8de78e945f0abaf191376122a1563185a90213a26c5da77"
   }
  }
 },
 "nbformat": 4,
 "nbformat_minor": 2
}
