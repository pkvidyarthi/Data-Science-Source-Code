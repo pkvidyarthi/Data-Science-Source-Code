{
 "cells": [
  {
   "cell_type": "code",
   "execution_count": null,
   "metadata": {},
   "outputs": [],
   "source": [
    "# There are four types of data structures in python :    \n",
    "# 1. Lists => []\n",
    "# 2. Dictionaries => {}\n",
    "# 3. Sets => {}\n",
    "# 4. Tuples => ()"
   ]
  },
  {
   "cell_type": "code",
   "execution_count": 9,
   "metadata": {},
   "outputs": [
    {
     "name": "stdout",
     "output_type": "stream",
     "text": [
      "[]\n",
      "<class 'list'>\n",
      "[10, 20, 30, 'Coding Ideas!', 40, 50, 60]\n",
      "<class 'list'>\n",
      "[10, 20, 30, 'Coding Ideas!', 40, 50, 60, [100, 20]]\n",
      "[10, 20, 30, 'Coding Ideas!', 40, 50, 60]\n",
      "[10, 20, 30, 'Coding Ideas!', 40, 50, 60, 70, 80, 90, 100]\n",
      "[10, 20, 30, 40, 50, 60, 70, 80, 90, 100]\n",
      "10\n",
      "10\n",
      "70\n",
      "[10, 20, 30, 40, 50, 60, 70, 80, 90, 100]\n",
      "*****************************************\n",
      "[10, 20, 30, 40, 50, 60, 70, 80, 90, 100]\n",
      "[]\n",
      "<class 'list'>\n",
      "[10, 20, 30, 40, 50, 60, 70, 80, 90, 100]\n"
     ]
    },
    {
     "ename": "NameError",
     "evalue": "name 'a' is not defined",
     "output_type": "error",
     "traceback": [
      "\u001b[1;31m---------------------------------------------------------------------------\u001b[0m",
      "\u001b[1;31mNameError\u001b[0m                                 Traceback (most recent call last)",
      "\u001b[1;32mc:\\Users\\PKVidyarthi\\Desktop\\Data Science\\Notes\\PythonList2.ipynb Cell 2\u001b[0m in \u001b[0;36m<cell line: 46>\u001b[1;34m()\u001b[0m\n\u001b[0;32m     <a href='vscode-notebook-cell:/c%3A/Users/PKVidyarthi/Desktop/Data%20Science/Notes/PythonList2.ipynb#ch0000000?line=43'>44</a>\u001b[0m \u001b[39mprint\u001b[39m(a)\n\u001b[0;32m     <a href='vscode-notebook-cell:/c%3A/Users/PKVidyarthi/Desktop/Data%20Science/Notes/PythonList2.ipynb#ch0000000?line=44'>45</a>\u001b[0m \u001b[39mdel\u001b[39;00m a \n\u001b[1;32m---> <a href='vscode-notebook-cell:/c%3A/Users/PKVidyarthi/Desktop/Data%20Science/Notes/PythonList2.ipynb#ch0000000?line=45'>46</a>\u001b[0m \u001b[39mprint\u001b[39m(a)\n",
      "\u001b[1;31mNameError\u001b[0m: name 'a' is not defined"
     ]
    }
   ],
   "source": [
    "# LIST                                                                          \n",
    "\n",
    "a = []             # Empty List\n",
    "print(a)           # Output => []\n",
    "print(type(a))     # Output => <class 'list'>\n",
    "a = [10, 20, 30, \"Coding Ideas!\",  40, 50, 60]\n",
    "print(a)           #Output => [10, 20, 30, 'Coding Ideas!', 40, 50, 60]\n",
    "print(type(a))\n",
    "\n",
    "#! append => It adds an element to the last position of the list.\n",
    "a.append(100)\n",
    "print(a)           #Output => [10, 20, 30, 'Coding Ideas!', 40, 50, 60, 100]\n",
    "\n",
    "#! pop => It deletes the last element of the list.\n",
    "a.pop()            \n",
    "print(a)           # Output => [10, 20, 30, 'Coding Ideas!', 40, 50, 60]\n",
    "\n",
    "#! extend => It adds multiple elements starting from the last element of the list.\n",
    "a.extend([70, 80, 90, 100])\n",
    "print(a)           # Output => [10, 20, 30, 'Coding Ideas!', 40, 50, 60, 70, 80, 90, 100]\n",
    "\n",
    "#! remove => Deletes an element of the list by just typing the name of the element. \n",
    "a.remove(\"Coding Ideas!\")\n",
    "print(a)           # Output => [10, 20, 30, 40, 50, 60, 70, 80, 90, 100]\n",
    "\n",
    "# Length\n",
    "print(len(a))      # Output => 10\n",
    "# Find Element\n",
    "print(a[0])        # Output => 10\n",
    "print(a[6])        # Output => 70\n",
    "\n",
    "#! copy => Copies all the elements of a list to another list. \n",
    "b = a.copy()\n",
    "print(b)           # Output => [10, 20, 30, 40, 50, 60, 70, 80, 90, 100]\n",
    "\n",
    "#! clear =>  Deletes all the elements of a list. \n",
    "print(\"*****************************************\")\n",
    "print(b)           # Output => [10, 20, 30, 40, 50, 60, 70, 80, 90, 100]\n",
    "b.clear() \n",
    "print(b)           # Output => []        \n",
    "print(type(b))     # Output => <class 'list'>\n",
    "\n",
    "#! del => Deletes the list from the root level. \n",
    "print(a)\n",
    "del a \n",
    "print(a)           # Output => NameError: name 'a' is not defined.\n"
   ]
  },
  {
   "cell_type": "code",
   "execution_count": null,
   "metadata": {},
   "outputs": [
    {
     "name": "stdout",
     "output_type": "stream",
     "text": [
      "Hello World\n"
     ]
    }
   ],
   "source": [
    "# Comment Multiple Lines  => Lines will be commented which will be written inside  ''' '''\n",
    "# Shortcut Key => 1. Select Multiple Lines 2. press ctrl + /\n",
    "''' \n",
    "HELLO LEARNERS! \n",
    "Welcome to Coding Ideas\n",
    "'''\n",
    "print(\"Hello World\")\n"
   ]
  },
  {
   "cell_type": "code",
   "execution_count": 8,
   "metadata": {},
   "outputs": [
    {
     "name": "stdout",
     "output_type": "stream",
     "text": [
      "[40, 5, 4, 1, 11, 10.5, 17, 21, 25, 70]\n",
      "<class 'list'>\n",
      "[1, 4, 5, 10.5, 11, 17, 21, 25, 40, 70]\n",
      "[70, 40, 25, 21, 17, 11, 10.5, 5, 4, 1]\n",
      "[70, 25, 21, 17, 10.5, 11, 1, 4, 5, 40]\n",
      "[1, 4, 5, 10.5, 11, 17, 21, 25, 40, 70]\n"
     ]
    }
   ],
   "source": [
    "\n",
    "#! sort => It will sort the elements of list in ascending order.\n",
    "a = [40, 5, 4, 1, 11, 10.5, 17, 21, 25, 70]\n",
    "print(a)                    # Output => [40, 5, 4, 1, 11, 10.5, 17, 21, 25, 70]\n",
    "print(type(a))\n",
    "a.sort()\n",
    "print(a)                    # Output => [1, 4, 5, 10.5, 11, 17, 21, 25, 40, 70]   => (Sorted List)\n",
    "\n",
    "#! sort(reverse=true) => It sorts the elements in descending order.\n",
    "b = [40, 5, 4, 1, 11, 10.5, 17, 21, 25, 70]\n",
    "b.sort(reverse=True)        # Use \"True\" not \"true\", otherwise it will show an error. \n",
    "print( b)                   # Output => [70, 40, 25, 21, 17, 11, 10.5, 5, 4, 1]   => (Sorted in reverse order)\n",
    "\n",
    "#! reverse() - It reverses the list irrespective of any order.\n",
    "a = [40, 5, 4, 1, 11, 10.5, 17, 21, 25, 70]\n",
    "a.reverse()                 # It does reverse the list only, doesn't sort.\n",
    "print(a)                    # Output => [70, 25, 21, 17, 10.5, 11, 1, 4, 5, 40] \n",
    "\n",
    "#sort(reverse=False)\n",
    "a.sort(reverse=False)       # It does sort the list, doesn't reverse.\n",
    "print(a)                    # Output => [1, 4, 5, 10.5, 11, 17, 21, 25, 40, 70]"
   ]
  },
  {
   "cell_type": "code",
   "execution_count": 9,
   "metadata": {},
   "outputs": [
    {
     "name": "stdout",
     "output_type": "stream",
     "text": [
      "5\n",
      "2\n",
      "6\n",
      "25\n",
      "25\n"
     ]
    },
    {
     "data": {
      "text/plain": [
       "7"
      ]
     },
     "execution_count": 9,
     "metadata": {},
     "output_type": "execute_result"
    }
   ],
   "source": [
    "\n",
    "#! index() => It displays/prints the index position of an element of list.\n",
    "a = [1, 4, 5, 10.5, 11, 17, 21, 25, 40, 70]\n",
    "print(a.index(17))          # a.index(17) will print the index of element 17 (Which is 5). => Output => 5\n",
    "\n",
    "#! count - Returns the count of an element of list.\n",
    "a = [1, 4, 5, 10.5, 11, 17, 25, 25, 40, 70]\n",
    "print(a.count(25))          # Total no. of 25 in List (i.e 2 times). => Output => 2 \n",
    "print(a.index(25))          # Prints index of 25 which comes first.  => Output => 6\n",
    "\n",
    "print(a[6])                 # Output => 25\n",
    "print(a[7])                 # Output => 25\n",
    "''' Because 25 is present in the list at index 6 and index 7. '''\n",
    "a.index(25)                 # a.index(element)\n",
    "a.index(25,7)               # a.index(element, indexNumber)"
   ]
  },
  {
   "cell_type": "code",
   "execution_count": 10,
   "metadata": {},
   "outputs": [
    {
     "name": "stdout",
     "output_type": "stream",
     "text": [
      "[5, 8, 11, 17, 21, 25]\n",
      "[11, 17, 21, 25]\n",
      "[21, 25, 400, 400]\n",
      "[17, 21, 25, 400, 400]\n",
      "[1, 4, 5, 8, 11]\n",
      "[1, 4, 5, 8, 11]\n"
     ]
    },
    {
     "data": {
      "text/plain": [
       "' a[0:5] and a[:5] have same meaning.\\nIt will cut all elements from the 5th index to last index . '"
      ]
     },
     "execution_count": 10,
     "metadata": {},
     "output_type": "execute_result"
    }
   ],
   "source": [
    "# Slicing & Dicing of Lists\n",
    "\n",
    "#! SLICING => [m:n] => It cuts the elemets of list before mth index and from nth index to last index.\n",
    "''' Syntax => List[ Initial : End ]\n",
    "List slicing returns a new list from the existing list. '''\n",
    "\n",
    "a = [1, 4, 5, 8, 11, 17, 21, 25, 400, 400]\n",
    "print(a[2:8])               # Output => [5, 8, 11, 17, 21, 25]\n",
    "print(a[4:8])               # Output => [11, 17, 21, 25]\n",
    "print(a[6:10])              # Output => [21, 25, 400, 400]\n",
    "\n",
    "print(a[5:])                #Output => [17, 21, 25, 400, 400]             \n",
    "#It will cut all elements which are before the 5th index only.\n",
    "\n",
    "print(a[0:5])               # Output => [1, 4, 5, 8, 11]\n",
    "print(a[:5])                # Output => [1, 4, 5, 8, 11]\n",
    "''' a[0:5] and a[:5] have same meaning.\n",
    "It will cut all elements from the 5th index to last index . '''\n"
   ]
  },
  {
   "cell_type": "code",
   "execution_count": null,
   "metadata": {},
   "outputs": [
    {
     "name": "stdout",
     "output_type": "stream",
     "text": [
      "400\n",
      "25\n",
      "4\n"
     ]
    }
   ],
   "source": [
    "\n",
    "#! Reverse Indexing \n",
    "print(a[-1])                 # Output => 400\n",
    "print(a[-3])                 # Output => 25\n",
    "print(a[-9])                 # Output => 4"
   ]
  },
  {
   "cell_type": "code",
   "execution_count": 11,
   "metadata": {},
   "outputs": [
    {
     "name": "stdout",
     "output_type": "stream",
     "text": [
      "[25, 21, 17, 11, 10.5, 5]\n",
      "[70, 40, 25, 21, 17, 11, 10.5, 5, 4, 1]\n",
      "[11, 17, 21]\n",
      "[8, 11, 17, 21, 25, 400, 400]\n",
      "[1, 4, 5, 8, 11]\n"
     ]
    }
   ],
   "source": [
    "\n",
    "#! Reverse Indexing Slicing\n",
    "print(b[-8:-2])              # Output => [5, 8, 11, 17, 21, 25]\n",
    "print(b)                     # Output => [1, 4, 5, 8, 11, 17, 21, 25, 400, 400]\n",
    "print(a[-6:-3])              # Output => [11, 17, 21]\n",
    "print(a[-7:])                # Output => [8, 11, 17, 21, 25, 400, 400]\n",
    "print(a[:-5])                # Output => [8, 11, 17, 21, 25, 400, 400]\n"
   ]
  },
  {
   "cell_type": "code",
   "execution_count": 20,
   "metadata": {},
   "outputs": [
    {
     "name": "stdout",
     "output_type": "stream",
     "text": [
      "[1, 4, 5, 8, 11, 17, 21, 25, 400, 400]\n",
      "[5, 11, 21]\n",
      "[1, 5, 11, 21, 400]\n",
      "[1, 400]\n",
      "[5, 11, 21]\n",
      "5\n",
      "400\n"
     ]
    }
   ],
   "source": [
    "\n",
    "#! DICING => Slicing a list with index jumping.\n",
    "# Syntax:  List[ Initial : End : IndexJump ]\n",
    "print(a)\n",
    "print(a[2:8:2])             # Output => [5, 11, 21]\n",
    "print(a[::2])               # Output => [1, 5, 11, 21, 400]  => There is no slicing only jumping of 2 indexes.\n",
    "print(a[::9])\n",
    "\n",
    "#! Dicing in reverse indexing slicing.\n",
    "print(a[-8:-2:2])          # Output => [5, 11, 21]\n",
    "# Explanation: \n",
    "print(a[-8])               # Output => 5\n",
    "print(a[-2])               # Output => 400\n",
    "''' So, print(a[-8:-2:2]) will print the elements between 5 and 400 \n",
    "with jumping of 2 indexes in which 5(Initial) will be included while 400(End) will be excluded.   '''"
   ]
  },
  {
   "cell_type": "code",
   "execution_count": 34,
   "metadata": {},
   "outputs": [
    {
     "name": "stdout",
     "output_type": "stream",
     "text": [
      "[1, 4, 5, 8, 11, 17, 21, 25, 400, 400]\n",
      "[25, 21, 17, 11, 8, 5]\n",
      "[]\n",
      "[21, 8]\n"
     ]
    }
   ],
   "source": [
    "#Reverse slicing, indexing and dicing\n",
    "print(a)\n",
    "print(a[-3:-9:-1])          # Output => [25, 21, 17, 11, 8, 5]\n",
    "''' Here Slicing will be reverse b between -9th index and -3rd index \n",
    "and 1 index jumping in reverse order.'''\n",
    "print(a[-9:-3:-1])          # Output => []  => Empty List\n",
    "\n",
    "print(a[-4:-10:-3])         # Output => [21, 8]\n"
   ]
  },
  {
   "cell_type": "code",
   "execution_count": 38,
   "metadata": {},
   "outputs": [
    {
     "name": "stdout",
     "output_type": "stream",
     "text": [
      "[1, 4, 5, 8, 11, 17, 21, 25, 400, 400]\n",
      "[25, 21, 17, 11, 8, 5]\n",
      "[]\n",
      "[400, 21, 11]\n"
     ]
    }
   ],
   "source": [
    "#Slicing and negative dicing\n",
    "print(a)\n",
    "print(a[7:1:-1])            # Output => [25, 21, 17, 11, 8, 5]\n",
    "print(a[1:7:-1])            # Output => []\n",
    "\n",
    "print(a[8:3:-2])            # Output => [400, 21, 11]\n"
   ]
  },
  {
   "cell_type": "code",
   "execution_count": 47,
   "metadata": {},
   "outputs": [
    {
     "name": "stdout",
     "output_type": "stream",
     "text": [
      "[1, 4, 5, 8, 11, 17, 21, 25, 400, 400]\n",
      "[5, 8, 11, 17, 21, 25]\n",
      "[5, 8, 11, 17, 21, 25]\n",
      "[5, 17]\n",
      "[400, 1]\n",
      "[400, 1]\n",
      "[400, 1]\n",
      "[400, 1]\n"
     ]
    }
   ],
   "source": [
    "#Dicing and negative slicing\n",
    "print(a)\n",
    "print(a[-8:-2:1])           # Output => [5, 8, 11, 17, 21, 25]\n",
    "print(a[2:8:1])             # Output => [5, 8, 11, 17, 21, 25]\n",
    "''' Both of above have same meaning and we can remove 1 from index positon \n",
    "because by default Slicing or Dicing takes 1 index jump.'''\n",
    "print(a[-8:-2:3])           # Output => [5, 17]\n",
    "\n",
    "print(a[10::-9])            # Output => [400, 1] => a[10::-9] and a[10:0:-9] have same meaning.\n",
    "print(a[-1:-11:-9])         # Output => [400, 1]\n",
    "print(a[-1::-9])            # Output => [400, 1]\n",
    "print(a[::-9])              # Output => [400, 1]"
   ]
  },
  {
   "cell_type": "code",
   "execution_count": 49,
   "metadata": {},
   "outputs": [
    {
     "name": "stdout",
     "output_type": "stream",
     "text": [
      "[1, 4, 5, 8, 11, 17, 21, 25, 400, 400]\n",
      "[400, 400, 25, 21, 17, 11, 8, 5, 4, 1]\n"
     ]
    }
   ],
   "source": [
    "# Alternative for reverse function.\n",
    "print(a)                    # Output => [1, 4, 5, 8, 11, 17, 21, 25, 400, 400]\n",
    "print(a[::-1])              # Output => [400, 400, 25, 21, 17, 11, 8, 5, 4, 1]"
   ]
  }
 ],
 "metadata": {
  "kernelspec": {
   "display_name": "Python 3.10.5 64-bit",
   "language": "python",
   "name": "python3"
  },
  "language_info": {
   "codemirror_mode": {
    "name": "ipython",
    "version": 3
   },
   "file_extension": ".py",
   "mimetype": "text/x-python",
   "name": "python",
   "nbconvert_exporter": "python",
   "pygments_lexer": "ipython3",
   "version": "3.10.5"
  },
  "orig_nbformat": 4,
  "vscode": {
   "interpreter": {
    "hash": "26de051ba29f2982a8de78e945f0abaf191376122a1563185a90213a26c5da77"
   }
  }
 },
 "nbformat": 4,
 "nbformat_minor": 2
}
