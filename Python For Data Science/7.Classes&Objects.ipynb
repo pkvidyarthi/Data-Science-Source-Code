{
 "cells": [
  {
   "cell_type": "code",
   "execution_count": 4,
   "metadata": {},
   "outputs": [
    {
     "name": "stdout",
     "output_type": "stream",
     "text": [
      "Coding Ideas\n",
      "Coding Ideas\n"
     ]
    }
   ],
   "source": [
    "# Python Objects and Classes :\n",
    "#! => An object is simply a collection of data (variables) and methods (functions) that act on those data.\n",
    "#! =>  Similarly, a class is a blueprint for that object.\n",
    "\n",
    "# To create a class, use the keyword class:\n",
    "class Myclass:                # Class\n",
    "    text = \"Coding Ideas\"\n",
    "    print(text)\n",
    "# Now we can use the class named MyClass to create objects:\n",
    "obj1 = Myclass()              # Object\n",
    "print(obj1.text)\n"
   ]
  },
  {
   "cell_type": "code",
   "execution_count": 2,
   "metadata": {},
   "outputs": [
    {
     "name": "stdout",
     "output_type": "stream",
     "text": [
      "<__main__.student object at 0x0000025350B11790>\n",
      "<__main__.student object at 0x0000025350B10550>\n"
     ]
    },
    {
     "data": {
      "text/plain": [
       "' \\nutput => \\n<__main__.student object at 0x000001F4169FD990>   #! Address of student1\\n<__main__.student object at 0x000001F4169FD8A0>   #! Address of student2\\n'"
      ]
     },
     "execution_count": 2,
     "metadata": {},
     "output_type": "execute_result"
    }
   ],
   "source": [
    "# Classes => Templates\n",
    "# Object => Instance of the class.\n",
    "\n",
    "#! But Why do we make Class ?\n",
    "# Reason => Concept of DRY.\n",
    "''' DRY => Do not Repeat yourself. \n",
    "    It saves time and effort.\n",
    "''' \n",
    "\n",
    "class student:\n",
    "    pass           # Blank Template.\n",
    "\n",
    "student1 = student()\n",
    "student2 = student()\n",
    "\n",
    "print(student1)\n",
    "print(student2)\n",
    "''' \n",
    "utput => \n",
    "<__main__.student object at 0x000001F4169FD990>   #! Address of student1\n",
    "<__main__.student object at 0x000001F4169FD8A0>   #! Address of student2\n",
    "'''\n"
   ]
  },
  {
   "cell_type": "code",
   "execution_count": 3,
   "metadata": {},
   "outputs": [
    {
     "name": "stdout",
     "output_type": "stream",
     "text": [
      "Varun Dahiya 12 A\n",
      "Nivedita 10 ['Physics', 'English']\n"
     ]
    },
    {
     "ename": "AttributeError",
     "evalue": "'student' object has no attribute 'sec'",
     "output_type": "error",
     "traceback": [
      "\u001b[1;31m---------------------------------------------------------------------------\u001b[0m",
      "\u001b[1;31mAttributeError\u001b[0m                            Traceback (most recent call last)",
      "Cell \u001b[1;32mIn[3], line 16\u001b[0m\n\u001b[0;32m     14\u001b[0m \u001b[39mprint\u001b[39m(student1\u001b[39m.\u001b[39mname,student1\u001b[39m.\u001b[39mstd, student1\u001b[39m.\u001b[39msec)\n\u001b[0;32m     15\u001b[0m \u001b[39mprint\u001b[39m(student2\u001b[39m.\u001b[39mname, student2\u001b[39m.\u001b[39mstd, student2\u001b[39m.\u001b[39msub)\n\u001b[1;32m---> 16\u001b[0m \u001b[39mprint\u001b[39m(student2\u001b[39m.\u001b[39;49msec)                  \u001b[39m# Error : AttributeError: 'student' object has no attribute 'sec'\u001b[39;00m\n",
      "\u001b[1;31mAttributeError\u001b[0m: 'student' object has no attribute 'sec'"
     ]
    }
   ],
   "source": [
    "class student:\n",
    "    pass           # class => Blank Template.\n",
    "\n",
    "student1 = student()       # Object 1\n",
    "student2 = student()       # Object 2\n",
    "\n",
    "student1.name = \"Varun Dahiya\"\n",
    "student1.std =  12\n",
    "student1.sec = \"A\"\n",
    "student2.name = \"Nivedita\"\n",
    "student2.std = 10\n",
    "student2.sub = ['Physics', 'English']\n",
    "\n",
    "print(student1.name,student1.std, student1.sec)\n",
    "print(student2.name, student2.std, student2.sub)\n",
    "print(student2.sec)                  # Error : AttributeError: 'student' object has no attribute 'sec'"
   ]
  },
  {
   "cell_type": "code",
   "execution_count": null,
   "metadata": {},
   "outputs": [
    {
     "name": "stdout",
     "output_type": "stream",
     "text": [
      "450000\n",
      "Full Stack Developer\n",
      "10\n",
      "10\n",
      "10\n",
      "10\n",
      "10\n",
      "10\n",
      "25\n",
      "25\n",
      "25\n"
     ]
    }
   ],
   "source": [
    "class Employee:\n",
    "    leaves = 10\n",
    "    pass\n",
    "rohit = Employee()\n",
    "varun = Employee()\n",
    "\n",
    "rohit.name = \"Rohit Mishra\"\n",
    "rohit.salary = 700000\n",
    "rohit.role = \"Full Stack Developer\"\n",
    "\n",
    "varun.name = \"Varun Dahiya\"\n",
    "varun.salary = 450000\n",
    "varun.role = \"Web Developer\"\n",
    "\n",
    "print(varun.salary)                  # Output => 450000\n",
    "print(rohit.role)                    # Output => Full Stack Developer\n",
    "\n",
    "print(rohit.leaves)                  # Output => 10\n",
    "print(varun.leaves)                  # Output => 10\n",
    "print(Employee.leaves)               # Output => 10\n",
    "# leaves for all are same because leaves is derived inside class.\n",
    "# Now try to chnage the value of leaves using object rohit (object 'rohit' is derived outside class Employee).\n",
    "rohit.leaves = 20\n",
    "print(rohit.leaves)                  # Output => 20\n",
    "print(varun.leaves)                  # Output => 10\n",
    "print(Employee.leaves)               # Output => 10\n",
    "''' rohit.leaves makes a new instance variable for object rohit. \n",
    "So only rohit.leaves will change. '''\n",
    "\n",
    "Employee.leaves = 25\n",
    "print(rohit.leaves)                  # Output => 20\n",
    "print(varun.leaves)                  # Output => 25\n",
    "print(Employee.leaves)               # Output => 25\n",
    "''' Now leaves for varun and employee all are changed except 'leaves.rohit'.\n",
    "    Because value of rohit.leaves already declared outside the class which is 20.'''\n",
    "\n",
    "\n"
   ]
  },
  {
   "cell_type": "code",
   "execution_count": null,
   "metadata": {},
   "outputs": [
    {
     "name": "stdout",
     "output_type": "stream",
     "text": [
      "{'name': 'Rohit Mishra', 'salary': 700000, 'role': 'Full Stack Developer'}\n",
      "{'name': 'Varun Dahiya', 'salary': 450000, 'role': 'Web Developer'}\n"
     ]
    }
   ],
   "source": [
    "# Attribute => __dict__ =>  All objects in Python have an attribute __dict__\n",
    "\n",
    "#! __dict__ => A dictionary object containing all attributes defined for that object itself. \n",
    "#!          => The mapping of attributes with its values is done to generate a dictionary.\n",
    "\n",
    "class Employee:\n",
    "    leaves = 10\n",
    "    pass\n",
    "rohit = Employee()\n",
    "varun = Employee()\n",
    "\n",
    "rohit.name = \"Rohit Mishra\"\n",
    "rohit.salary = 700000\n",
    "rohit.role = \"Full Stack Developer\"\n",
    "\n",
    "varun.name = \"Varun Dahiya\"\n",
    "varun.salary = 450000\n",
    "varun.role = \"Web Developer\"\n",
    "\n",
    "print(rohit.__dict__)\n",
    "print(varun.__dict__)\n"
   ]
  },
  {
   "cell_type": "code",
   "execution_count": null,
   "metadata": {},
   "outputs": [],
   "source": [
    "\n",
    "# Call by value and Call by reference in Python.\n",
    "# OR\n",
    "# Call by Object and Call by Object reference in Python.\n",
    "\n",
    "#! Mutable Object => An object whose internal state can be changed is called mutable.\n",
    "# => for example a list, a set, and a dictionary. \n",
    "\n",
    "#! Immutable Object => An object whose internal state cannot be changed is called immutable.\n",
    "# => for example a number, a string, and a tuple.\n"
   ]
  },
  {
   "cell_type": "code",
   "execution_count": null,
   "metadata": {},
   "outputs": [
    {
     "name": "stdout",
     "output_type": "stream",
     "text": [
      "Coding Ideas\n",
      "[10, 20, 30, 40]\n",
      "[10, 50, 30, 40]\n"
     ]
    },
    {
     "ename": "TypeError",
     "evalue": "'str' object does not support item assignment",
     "output_type": "error",
     "traceback": [
      "\u001b[1;31m---------------------------------------------------------------------------\u001b[0m",
      "\u001b[1;31mTypeError\u001b[0m                                 Traceback (most recent call last)",
      "\u001b[1;32mc:\\Users\\PKVidyarthi\\Desktop\\Data Science\\Notes\\Classes&Objects.ipynb Cell 3\u001b[0m in \u001b[0;36m<cell line: 12>\u001b[1;34m()\u001b[0m\n\u001b[0;32m      <a href='vscode-notebook-cell:/c%3A/Users/PKVidyarthi/Desktop/Data%20Science/Notes/Classes%26Objects.ipynb#ch0000002?line=7'>8</a>\u001b[0m \u001b[39mprint\u001b[39m(lst)                   \u001b[39m# Output => [10, 50, 30, 40]\u001b[39;00m\n\u001b[0;32m     <a href='vscode-notebook-cell:/c%3A/Users/PKVidyarthi/Desktop/Data%20Science/Notes/Classes%26Objects.ipynb#ch0000002?line=9'>10</a>\u001b[0m \u001b[39m# Values of list can be change so list is mutable in Python.\u001b[39;00m\n\u001b[1;32m---> <a href='vscode-notebook-cell:/c%3A/Users/PKVidyarthi/Desktop/Data%20Science/Notes/Classes%26Objects.ipynb#ch0000002?line=11'>12</a>\u001b[0m \u001b[39mstr\u001b[39m[\u001b[39m1\u001b[39m] \u001b[39m=\u001b[39m \u001b[39m\"\u001b[39m\u001b[39mGate\u001b[39m\u001b[39m\"\u001b[39m\n\u001b[0;32m     <a href='vscode-notebook-cell:/c%3A/Users/PKVidyarthi/Desktop/Data%20Science/Notes/Classes%26Objects.ipynb#ch0000002?line=12'>13</a>\u001b[0m \u001b[39mprint\u001b[39m(\u001b[39mstr\u001b[39m)\n",
      "\u001b[1;31mTypeError\u001b[0m: 'str' object does not support item assignment"
     ]
    }
   ],
   "source": [
    "# Difference between mutable and Immutable objects:\n",
    "\n",
    "str = \"Coding Ideas\"\n",
    "lst = [10, 20, 30, 40]\n",
    "print(str)                   # Output => Coding Ideas\n",
    "print(lst)                   # Output => [10, 20, 30, 40]\n",
    "lst[1] = lst[1] + lst[2]     \n",
    "print(lst)                   # Output => [10, 50, 30, 40]\n",
    "\n",
    "# Values of list can be changed so list is mutable in Python.\n",
    "\n",
    "str[1] = \"Gate\"              # Error => TypeError: 'str' object does not support item assignment\n",
    "print(str)                   # Cannot be printed because error in above line.\n",
    "\n",
    "# 'str' object does not support item assignment. Hence string is immutable in Python."
   ]
  },
  {
   "cell_type": "code",
   "execution_count": null,
   "metadata": {},
   "outputs": [],
   "source": [
    "# Call by value and Call by reference in Python.\n",
    "# OR\n",
    "# Call by Object and Call by Object reference in Python.\n",
    "\n",
    "#! Call by value => Just a copy of the original variable is passed so the original variable cannot be changed.\n",
    "#! Call by reference => The variable itself is passed so the original variable may be changed (altered)."
   ]
  },
  {
   "cell_type": "code",
   "execution_count": null,
   "metadata": {},
   "outputs": [
    {
     "name": "stdout",
     "output_type": "stream",
     "text": [
      "Inside the Function:  Coding Ideas!\n",
      "Outside the Function:  Coding and Gate\n"
     ]
    }
   ],
   "source": [
    "\n",
    "#! call by value\n",
    "\n",
    "str = \"Coding and Gate\"\n",
    "def teststr(str):\n",
    "    str = \"Coding Ideas!\"\n",
    "    print(\"Inside the Function: \", str)\n",
    "teststr(str)                            # passing value not an address.\n",
    "print(\"Outside the Function: \",str)     # changing the value of 'str' inside the function does not affect here."
   ]
  },
  {
   "cell_type": "code",
   "execution_count": null,
   "metadata": {},
   "outputs": [
    {
     "name": "stdout",
     "output_type": "stream",
     "text": [
      "Inside the Function [10, 100, 30, 40]\n",
      "Outside the Function: [10, 100, 30, 40]\n"
     ]
    }
   ],
   "source": [
    "\n",
    "#! call by reference\n",
    "\n",
    "def testlist(lst):\n",
    "\tlst[1] = 100\n",
    "\tprint(\"Inside the Function\", lst)\n",
    "mylist = [10,20,30,40]\n",
    "\n",
    "testlist(mylist)                        # passing the address of 'lst' not the value.\n",
    "print(\"Outside the Function:\", mylist)  \n",
    "# So, after changing the value of 'lst inside the function,\n",
    "# value of 'mylist' also be changed."
   ]
  },
  {
   "cell_type": "code",
   "execution_count": null,
   "metadata": {},
   "outputs": [
    {
     "data": {
      "text/plain": [
       "[8, 11, 15, 17, 25]"
      ]
     },
     "execution_count": 3,
     "metadata": {},
     "output_type": "execute_result"
    }
   ],
   "source": [
    "#Define or call a function that returns a list\n",
    "def myfunc(a):\n",
    "  return a\n",
    "myfunc([5,2,3,7,4]) #Call by value \n",
    "myfunc([8,11,15,17,25])   #Call by value \n",
    "\n",
    "''' return => Returns only last function. '''\n",
    "# Output => [8, 11, 15, 17, 25]"
   ]
  },
  {
   "cell_type": "code",
   "execution_count": null,
   "metadata": {},
   "outputs": [
    {
     "name": "stdout",
     "output_type": "stream",
     "text": [
      "[5, 2, 3, 7, 4]\n",
      "[8, 11, 15, 17, 25]\n"
     ]
    }
   ],
   "source": [
    "def myfunc(a):\n",
    "      print(a) \n",
    "myfunc([5,2,3,7,4])  \n",
    "myfunc([8,11,15,17,25])\n",
    "\n",
    "''' print => Prints all the functions.\n",
    "Output :\n",
    "[5, 2, 3, 7, 4]\n",
    "[8, 11, 15, 17, 25]\n",
    "'''"
   ]
  },
  {
   "cell_type": "code",
   "execution_count": null,
   "metadata": {},
   "outputs": [
    {
     "name": "stdout",
     "output_type": "stream",
     "text": [
      "6.0\n"
     ]
    }
   ],
   "source": [
    "# Question: Define a function mean and calculate the mean of a list.\n",
    "# eg: Input => [2, 4, 10, 9, 5]\n",
    "#     Output => 6.0\n",
    "''' Solution:  '''\n",
    "def mean(lst):\n",
    "    m = sum(lst) / len(lst)\n",
    "    print(m)\n",
    "mean([2, 4, 10, 9, 5])\n",
    "\n",
    "''' Explanation:\n",
    "sum(lst) => sum of 2, 4, 10, 9, 5 => 30\n",
    "len(lst) => length of list => 5\n",
    "m = 30/5 => 6.0\n",
    "'''"
   ]
  },
  {
   "cell_type": "code",
   "execution_count": null,
   "metadata": {},
   "outputs": [
    {
     "name": "stdout",
     "output_type": "stream",
     "text": [
      "6.0\n",
      "47.5\n",
      "3.0\n"
     ]
    }
   ],
   "source": [
    "# Calculating mean of list:\n",
    "def mean(lst):\n",
    "    m = sum(lst) / len(lst)\n",
    "    print(m)\n",
    "\n",
    "mean([2, 4, 10, 9, 5])\n",
    "mean([10, 20, 25, 45, 60, 125 ])\n",
    "mean([1, 2, 3, 4, 5])"
   ]
  },
  {
   "cell_type": "code",
   "execution_count": null,
   "metadata": {},
   "outputs": [
    {
     "name": "stdout",
     "output_type": "stream",
     "text": [
      "PK\n",
      "Student\n",
      "Single\n",
      "23\n"
     ]
    }
   ],
   "source": [
    "#Define a class and print your name, profession, marital status, and age\n",
    "class status:\n",
    "    name = 'PK'\n",
    "    profession = \"Student\"\n",
    "    ms = \"Single\"\n",
    "    age = 23\n",
    "print(status.name)\n",
    "print(status.profession)\n",
    "print(status.ms)\n",
    "print(status.age)"
   ]
  },
  {
   "cell_type": "code",
   "execution_count": null,
   "metadata": {},
   "outputs": [
    {
     "name": "stdout",
     "output_type": "stream",
     "text": [
      "PK\n",
      "Student\n",
      "Single\n",
      "23\n"
     ]
    }
   ],
   "source": [
    "# Create object (using class 'status')\n",
    "obj1 = status()\n",
    "print(obj1.name)\n",
    "print(obj1.profession)\n",
    "print(obj1.ms)\n",
    "print(obj1.age)"
   ]
  },
  {
   "cell_type": "code",
   "execution_count": null,
   "metadata": {},
   "outputs": [],
   "source": [
    "# CONSTRUCTORS in Python\n",
    "''' \n",
    "=> Constructors are generally used for representing by an object.               \n",
    "=> The task of constructors is to assign values to the data members of the class \n",
    "   when an object of the class is created. \n",
    "\n",
    "=> In Python the __init__() method is called the constructor and \n",
    "   it is always called when an object is created.\n",
    "\n",
    "=> In Python, the method the __init__() simulates the constructor of the class. \n",
    "=> It accepts the self-keyword as a first argument which allows accessing the attributes of the class.\n",
    "'''\n",
    "# Syntax: \n",
    "''' \n",
    "def __init__(self):\n",
    "    # body of the constructor\n",
    "'''"
   ]
  },
  {
   "cell_type": "code",
   "execution_count": null,
   "metadata": {},
   "outputs": [
    {
     "data": {
      "text/plain": [
       "11"
      ]
     },
     "execution_count": 18,
     "metadata": {},
     "output_type": "execute_result"
    }
   ],
   "source": [
    "# Create a constructor/def__init__\n",
    "class sum2:\n",
    "  def __init__(self,a,b):\n",
    "    self.a = a\n",
    "    self.b = b\n",
    "  def add1(self):\n",
    "    c = self.a + self.b\n",
    "    return c\n",
    "obj2 = sum2(5,6)\n",
    "obj2.add1() #Calling by reference\n"
   ]
  },
  {
   "cell_type": "code",
   "execution_count": null,
   "metadata": {},
   "outputs": [
    {
     "name": "stdout",
     "output_type": "stream",
     "text": [
      "5\n",
      "6\n"
     ]
    }
   ],
   "source": [
    "print(obj2.a)\n",
    "print(obj2.b)"
   ]
  },
  {
   "cell_type": "code",
   "execution_count": null,
   "metadata": {},
   "outputs": [
    {
     "data": {
      "text/plain": [
       "80"
      ]
     },
     "execution_count": 21,
     "metadata": {},
     "output_type": "execute_result"
    }
   ],
   "source": [
    "obj2.a = 30\n",
    "obj2.b = 50\n",
    "obj2.add1()"
   ]
  },
  {
   "cell_type": "code",
   "execution_count": null,
   "metadata": {},
   "outputs": [
    {
     "data": {
      "text/plain": [
       "20.0"
      ]
     },
     "execution_count": 22,
     "metadata": {},
     "output_type": "execute_result"
    }
   ],
   "source": [
    "#Q - define a class and constructor and solve division\n",
    "class div:\n",
    "  def __init__(self,a,b):\n",
    "    self.a = a\n",
    "    self.b = b\n",
    "  def divide1(self):\n",
    "    d = self.a/self.b\n",
    "    return d\n",
    "obj3 = div(60,3)\n",
    "obj3.divide1()"
   ]
  },
  {
   "cell_type": "code",
   "execution_count": null,
   "metadata": {},
   "outputs": [],
   "source": [
    "# Practice Questions:\n",
    "#! Q1. Solve Pythagoras theorem using class and typecast function.\n",
    "#! Q2. Solve Einstein's formula using both with & without type cast."
   ]
  },
  {
   "cell_type": "code",
   "execution_count": null,
   "metadata": {},
   "outputs": [
    {
     "name": "stdout",
     "output_type": "stream",
     "text": [
      "Base: 3\n",
      "Perpendicular: 4\n",
      "Hypotenuse: 5.0\n",
      "-----------------\n",
      "Base: 40\n",
      "Perpendicular: 9\n",
      "Hypotenuse: 41.0\n",
      "-----------------\n",
      "Base: 8\n",
      "Perpendicular: 15\n",
      "Hypotenuse: 17.0\n",
      "-----------------\n"
     ]
    }
   ],
   "source": [
    "# Solution 1. Solve Pythagoras theorem using class and typecast function.\n",
    "''' Solution: '''\n",
    "class Pythagoras:\n",
    "    def __init__(self, base, perp):\n",
    "        self.b = base\n",
    "        self.p = perp\n",
    "    def cal(self):\n",
    "        hyp = (self.b*self.b + self.p*self.p)**(1/2)\n",
    "        print(\"Base:\",self.b)\n",
    "        print(\"Perpendicular:\",self.p)\n",
    "        print(\"Hypotenuse:\",hyp)\n",
    "        print(\"-----------------\")          # As a Divider\n",
    "        \n",
    "obj = Pythagoras(3,4)\n",
    "obj.cal()\n",
    "\n",
    "obj1 = Pythagoras(40, 9)\n",
    "obj1.cal()\n",
    "\n",
    "obj2 = Pythagoras(8, 15)\n",
    "obj2.cal()"
   ]
  },
  {
   "cell_type": "code",
   "execution_count": null,
   "metadata": {},
   "outputs": [
    {
     "data": {
      "text/plain": [
       "900000000000000000"
      ]
     },
     "execution_count": 9,
     "metadata": {},
     "output_type": "execute_result"
    }
   ],
   "source": [
    "# Solution 2. Solve Einstein's formula using both with & without type cast.\n",
    "class Energy:\n",
    "    def __init__(self, mass):\n",
    "        self.m = mass\n",
    "    def calEnergy(self):\n",
    "        c = 3*(10**8)\n",
    "        e = self.m*(c*c)\n",
    "        return(e)\n",
    "obj = Energy(10)\n",
    "obj.calEnergy()"
   ]
  },
  {
   "cell_type": "code",
   "execution_count": null,
   "metadata": {},
   "outputs": [
    {
     "data": {
      "text/plain": [
       "[10, 20, 30, 40]"
      ]
     },
     "execution_count": 37,
     "metadata": {},
     "output_type": "execute_result"
    }
   ],
   "source": [
    "# Create a class name MyList and display the list.\n",
    "class MyList:\n",
    "    def __init__(self, lst):\n",
    "        self.lst = lst\n",
    "    def display(self):\n",
    "        return self.lst\n",
    "obj3 =MyList([10, 20, 30, 40])\n",
    "obj3.display()\n"
   ]
  },
  {
   "cell_type": "code",
   "execution_count": null,
   "metadata": {},
   "outputs": [
    {
     "data": {
      "text/plain": [
       "9.0"
      ]
     },
     "execution_count": 38,
     "metadata": {},
     "output_type": "execute_result"
    }
   ],
   "source": [
    "# Create a class name MyList1 and print the mean of a list.\n",
    "class MyList1:\n",
    "    def __init__(self, lst1):                  # Definate Constructor\n",
    "        self.lst1 = lst1\n",
    "    def mean(self):\n",
    "        mean = sum(self.lst1)/len(self.lst1)\n",
    "        return mean\n",
    "obj4 =MyList1([3, 15, 12, 10, 5, 9])\n",
    "obj4.mean()"
   ]
  },
  {
   "cell_type": "code",
   "execution_count": null,
   "metadata": {},
   "outputs": [
    {
     "name": "stdout",
     "output_type": "stream",
     "text": [
      "[10, 20, 30, 40]\n"
     ]
    },
    {
     "data": {
      "text/plain": [
       "25.0"
      ]
     },
     "execution_count": 40,
     "metadata": {},
     "output_type": "execute_result"
    }
   ],
   "source": [
    "#Connector - Connecting object of one class to another class.\n",
    "\n",
    "obj4.lst1 = obj3.lst\n",
    "print(obj4.lst1)\n",
    "\n",
    "obj4.mean()"
   ]
  }
 ],
 "metadata": {
  "kernelspec": {
   "display_name": "Python 3 (ipykernel)",
   "language": "python",
   "name": "python3"
  },
  "orig_nbformat": 4,
  "vscode": {
   "interpreter": {
    "hash": "dcfc0490250201be3bacaee72815d188724ead5dd8e0f022433c84fb6ce39933"
   }
  }
 },
 "nbformat": 4,
 "nbformat_minor": 2
}
