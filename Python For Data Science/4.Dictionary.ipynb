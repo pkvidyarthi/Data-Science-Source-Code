{
 "cells": [
  {
   "cell_type": "code",
   "execution_count": 73,
   "metadata": {},
   "outputs": [
    {
     "name": "stdout",
     "output_type": "stream",
     "text": [
      "{}\n",
      "<class 'dict'>\n"
     ]
    }
   ],
   "source": [
    "a = {}\n",
    "print(a)\n",
    "print(type(a))"
   ]
  },
  {
   "cell_type": "code",
   "execution_count": 74,
   "metadata": {},
   "outputs": [
    {
     "name": "stdout",
     "output_type": "stream",
     "text": [
      "{1: 1, 2: 4, 3: 9, 4: 16, 5: 25}\n",
      "<class 'dict'>\n",
      "5\n",
      "dict_keys([1, 2, 3, 4, 5])\n",
      "dict_values([1, 4, 9, 16, 25])\n",
      "dict_items([(1, 1), (2, 4), (3, 9), (4, 16), (5, 25)])\n"
     ]
    }
   ],
   "source": [
    "# DICTIONARY \n",
    "#! Dicitionary is a combination of keys and values.\n",
    "#! Keys and values in a doctionary are collectively known as items.\n",
    "#! Changeable and do not allow duplicates.\n",
    "#! Dictionaries are written with curly brackets, and have keys and values.\n",
    "\n",
    "a = {1:1,2:4,3:9,4:16,5:25}\n",
    "print(a)                 # Output => {1: 1, 2: 4, 3: 9, 4: 16, 5: 25}\n",
    "print(type(a))           # Output => <class 'dict'>\n",
    "print(len(a))            # Output => 5\n",
    "\n",
    "print(a.keys())          # Output => dict_keys([1, 2, 3, 4, 5])\n",
    "print(a.values())        # Output => dict_values([1, 4, 9, 16, 25])\n",
    "print(a.items())         # Output => dict_items([(1, 1), (2, 4), (3, 9), (4, 16), (5, 25)])"
   ]
  },
  {
   "cell_type": "code",
   "execution_count": 75,
   "metadata": {},
   "outputs": [
    {
     "name": "stdout",
     "output_type": "stream",
     "text": [
      "25\n",
      "9\n"
     ]
    }
   ],
   "source": [
    "# Accessing values with the help of keys.\n",
    "print(a[5])\n",
    "# Output => 25\n",
    "print(a[3])\n",
    "# Output => 9"
   ]
  },
  {
   "cell_type": "code",
   "execution_count": 76,
   "metadata": {},
   "outputs": [
    {
     "name": "stdout",
     "output_type": "stream",
     "text": [
      "{1: 1, 2: 4, 3: 9, 4: 16, 5: 125}\n",
      "{1: 1, 2: 8, 3: 27, 4: 64, 5: 125}\n",
      "dict_keys([1, 2, 3, 4, 5])\n",
      "dict_values([1, 8, 27, 64, 125])\n",
      "dict_items([(1, 1), (2, 8), (3, 27), (4, 64), (5, 125)])\n"
     ]
    }
   ],
   "source": [
    "# Updating values with the help of keys.\n",
    "a[5] = 125\n",
    "print(a)             # Output => {1: 1, 2: 4, 3: 9, 4: 16, 5: 125}\n",
    "\n",
    "a[2] = 8\n",
    "a[3] = 27\n",
    "a[4] = 64\n",
    "# All values are updated.\n",
    "print(a)             # Output => {1: 1, 2: 8, 3: 27, 4: 64, 5: 125}\n",
    "\n",
    "print(a.keys())      # Output => dict_keys([1, 2, 3, 4, 5])\n",
    "print(a.values())    # Output => dict_values([1, 8, 27, 64, 125])\n",
    "print(a.items())     # Output => dict_items([(1, 1), (2, 8), (3, 27), (4, 64), (5, 125)])"
   ]
  },
  {
   "cell_type": "code",
   "execution_count": 77,
   "metadata": {},
   "outputs": [
    {
     "name": "stdout",
     "output_type": "stream",
     "text": [
      "{1: 1, 2: 8, 3: 27, 4: 64, 5: 125, 6: 216}\n",
      "{1: 1, 2: 8, 3: 27, 4: 64, 5: 125, 6: 216, 7: 343, 8: 512}\n"
     ]
    }
   ],
   "source": [
    "# Adding values in a dictionary.\n",
    "a[6] = 216 \n",
    "print(a)            # Output => {1: 1, 2: 8, 3: 27, 4: 64, 5: 125, 6: 216}\n",
    "a[7] = 343 \n",
    "a[8] = 512 \n",
    "print(a)            # Output => {1: 1, 2: 8, 3: 27, 4: 64, 5: 125, 6: 216, 7: 343, 8: 512}"
   ]
  },
  {
   "cell_type": "code",
   "execution_count": 78,
   "metadata": {},
   "outputs": [
    {
     "name": "stdout",
     "output_type": "stream",
     "text": [
      "64\n",
      "343\n",
      "{1: 1, 2: 8, 3: 27, 4: 64, 5: 125, 6: 216, 7: 343, 8: 512}\n",
      "{}\n"
     ]
    },
    {
     "ename": "NameError",
     "evalue": "name 'a' is not defined",
     "output_type": "error",
     "traceback": [
      "\u001b[1;31m---------------------------------------------------------------------------\u001b[0m",
      "\u001b[1;31mNameError\u001b[0m                                 Traceback (most recent call last)",
      "\u001b[1;32mc:\\Users\\PKVidyarthi\\Desktop\\Data Science\\Notes\\Code\\Dictionary.ipynb Cell 6\u001b[0m in \u001b[0;36m<cell line: 15>\u001b[1;34m()\u001b[0m\n\u001b[0;32m     <a href='vscode-notebook-cell:/c%3A/Users/PKVidyarthi/Desktop/Data%20Science/Notes/Code/Dictionary.ipynb#ch0000005?line=12'>13</a>\u001b[0m \u001b[39m#del => Deletes from the root\u001b[39;00m\n\u001b[0;32m     <a href='vscode-notebook-cell:/c%3A/Users/PKVidyarthi/Desktop/Data%20Science/Notes/Code/Dictionary.ipynb#ch0000005?line=13'>14</a>\u001b[0m \u001b[39mdel\u001b[39;00m a\n\u001b[1;32m---> <a href='vscode-notebook-cell:/c%3A/Users/PKVidyarthi/Desktop/Data%20Science/Notes/Code/Dictionary.ipynb#ch0000005?line=14'>15</a>\u001b[0m \u001b[39mdel\u001b[39;00m a\n",
      "\u001b[1;31mNameError\u001b[0m: name 'a' is not defined"
     ]
    }
   ],
   "source": [
    "#get function => To access values with the help of keys.\n",
    "print(a.get(4))     # Output => 64\n",
    "print(a.get(7))     # Output => 343\n",
    "\n",
    "#copy\n",
    "b = a.copy()\n",
    "print(b)            # Output => {1: 1, 2: 8, 3: 27, 4: 64, 5: 125, 6: 216, 7: 343, 8: 512}\n",
    "\n",
    "#clear\n",
    "a.clear() \n",
    "print(a)            # Output => {}\n",
    "\n",
    "#del => Deletes from the root\n",
    "del a\n",
    "del a         # Already deleted so, it shows an error. \n",
    "                       # While 'clear' function doesn't show an error after using again and again."
   ]
  }
 ],
 "metadata": {
  "kernelspec": {
   "display_name": "Python 3.9.12 ('base')",
   "language": "python",
   "name": "python3"
  },
  "language_info": {
   "codemirror_mode": {
    "name": "ipython",
    "version": 3
   },
   "file_extension": ".py",
   "mimetype": "text/x-python",
   "name": "python",
   "nbconvert_exporter": "python",
   "pygments_lexer": "ipython3",
   "version": "3.9.12"
  },
  "orig_nbformat": 4,
  "vscode": {
   "interpreter": {
    "hash": "dcfc0490250201be3bacaee72815d188724ead5dd8e0f022433c84fb6ce39933"
   }
  }
 },
 "nbformat": 4,
 "nbformat_minor": 2
}
