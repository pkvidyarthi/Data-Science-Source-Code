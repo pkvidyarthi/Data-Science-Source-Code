{
 "cells": [
  {
   "cell_type": "code",
   "execution_count": 1,
   "metadata": {},
   "outputs": [
    {
     "name": "stdout",
     "output_type": "stream",
     "text": [
      "5\n",
      "<class 'int'>\n"
     ]
    }
   ],
   "source": [
    "#Comment in Python - Non readable code represented by '#' \n",
    "\n",
    "a = 5\n",
    "print(a)       #output = 5\n",
    "\n",
    "#Data Types - \n",
    "#! Int => Integer Numbers\n",
    "\n",
    "print(type(a)) \n",
    "#output = <class 'int'> \n",
    "#It means type of 'a' is \"integer\".\n",
    "\n"
   ]
  },
  {
   "cell_type": "code",
   "execution_count": 1,
   "metadata": {},
   "outputs": [
    {
     "name": "stdout",
     "output_type": "stream",
     "text": [
      "2.5\n",
      "<class 'float'>\n"
     ]
    },
    {
     "data": {
      "text/plain": [
       "float"
      ]
     },
     "execution_count": 1,
     "metadata": {},
     "output_type": "execute_result"
    }
   ],
   "source": [
    "\n",
    "#! Float => Decimal Numbers\n",
    "b = 2.5\n",
    "print(b)    \n",
    "print(type(b))      #Output => <class 'float'>\n",
    "type(b)             #Output => float\n"
   ]
  },
  {
   "cell_type": "code",
   "execution_count": 2,
   "metadata": {},
   "outputs": [
    {
     "name": "stdout",
     "output_type": "stream",
     "text": [
      "Coding Ideas!\n",
      "<class 'str'>\n"
     ]
    }
   ],
   "source": [
    "\n",
    "#! String => Alphabets\n",
    "c = \"Coding Ideas!\"\n",
    "print(c)\n",
    "print(type(c))   #Output => <class 'str'>"
   ]
  },
  {
   "cell_type": "code",
   "execution_count": 3,
   "metadata": {},
   "outputs": [
    {
     "name": "stdout",
     "output_type": "stream",
     "text": [
      "True\n",
      "False\n",
      "<class 'bool'>\n"
     ]
    }
   ],
   "source": [
    "\n",
    "#! Boolean => True or False\n",
    "a = 5.5\n",
    "print(a > 5)   #Output => True\n",
    "b = a < 5\n",
    "print(b)       #Output => False\n",
    "print(type(b)) #Output => <class 'bool'>"
   ]
  },
  {
   "cell_type": "code",
   "execution_count": null,
   "metadata": {},
   "outputs": [],
   "source": [
    "#Logical Operators in Python =>  <,>,>=,<="
   ]
  },
  {
   "cell_type": "code",
   "execution_count": 39,
   "metadata": {},
   "outputs": [
    {
     "name": "stdout",
     "output_type": "stream",
     "text": [
      "25\n",
      "25\n",
      "-5\n",
      "5\n",
      "0.6666666666666666\n",
      "1.5\n",
      "7.5\n",
      "150\n",
      "150\n",
      "10\n",
      "5\n",
      "3\n",
      "5\n",
      "6.333333333333333\n",
      "6\n",
      "1000\n",
      "1000\n",
      "256\n"
     ]
    }
   ],
   "source": [
    "\n",
    "#Mathematical Operators\n",
    "#! Additional Operator (+)\n",
    "a = 10\n",
    "b = 15\n",
    "print(a+b)    #Ouput => 25\n",
    "\n",
    "c = a+b\n",
    "print(c)      #Ouput => 25\n",
    "\n",
    "#! Subtraction Operator (-)\n",
    "print(a-b)   #Output => -5\n",
    "d = b - a\n",
    "print(d)     #Output => 5\n",
    "\n",
    "#! Division Operator (/)\n",
    "print(a/b)     #Output => 0.66666\n",
    "e = b / a\n",
    "print (e)      #Output => 1.5\n",
    "print(15 / 2)  #Output => 7.5\n",
    "\n",
    "#! Multiplication Operator\n",
    "print (a * b)   #Output => 150\n",
    "m = a * b \n",
    "print(m)        #Output => 150\n",
    "\n",
    "# !Modulus or Modulo Operator => Is used for printing the remainder - %\n",
    "print(a % b)   #Output => 10\n",
    "n = b % a \n",
    "print(n)       #Output => 5\n",
    "print(15 % 6)  #Output => 3\n",
    "\n",
    "#! Floor division - // => Whole number and cuts out all the other decimals\n",
    "print(36 // 7)  #Output => 5\n",
    "\n",
    "# Difference between / and //\n",
    "print(19 / 3)   #Output => 6.3333333\n",
    "print(19 // 3)  #Output => 6\n",
    "\n",
    "#! Exponentiation Operator - Gives out the power of the left number **\n",
    "x = 10\n",
    "y = 3\n",
    "print(x ** y)   #Output => 1000\n",
    "z = x ** y \n",
    "print(z)        #Output => 1000\n",
    " \n",
    "print( 2 ** 8)  #Output => 256\n",
    "print(7 ** 3)   #Output => 343"
   ]
  }
 ],
 "metadata": {
  "kernelspec": {
   "display_name": "Python 3.9.12 ('base')",
   "language": "python",
   "name": "python3"
  },
  "language_info": {
   "codemirror_mode": {
    "name": "ipython",
    "version": 3
   },
   "file_extension": ".py",
   "mimetype": "text/x-python",
   "name": "python",
   "nbconvert_exporter": "python",
   "pygments_lexer": "ipython3",
   "version": "3.9.12"
  },
  "orig_nbformat": 4,
  "vscode": {
   "interpreter": {
    "hash": "dcfc0490250201be3bacaee72815d188724ead5dd8e0f022433c84fb6ce39933"
   }
  }
 },
 "nbformat": 4,
 "nbformat_minor": 2
}
