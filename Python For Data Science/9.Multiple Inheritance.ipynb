{
 "cells": [
  {
   "cell_type": "code",
   "execution_count": 1,
   "metadata": {},
   "outputs": [
    {
     "data": {
      "text/plain": [
       "'I am string of Parent1.'"
      ]
     },
     "execution_count": 1,
     "metadata": {},
     "output_type": "execute_result"
    }
   ],
   "source": [
    "\n",
    "#! Multiple Inheritance: \n",
    "''' \n",
    "=> In multiple inheritance , the child inherits from more than 1 parent.\n",
    "\n",
    "               Parent 1                 Parent 2\n",
    "                 |_________________________|\n",
    "                               |\n",
    "                             Child\n",
    "'''\n",
    "# Example: \n",
    "#! Parent Class One\n",
    "class Parent1:\n",
    "    def assign_string_one(self, str1):\n",
    "        self.str1 = str1\n",
    "    def show_string_one(self):\n",
    "        return self.str1\n",
    "#! Parent Class Two\n",
    "class Parent2:\n",
    "    def assign_string_two(self, str2):\n",
    "        self.str2 = str2\n",
    "    def show_string_two(self):\n",
    "        return self.str2\n",
    "#! Child Class\n",
    "class Child(Parent1, Parent2):\n",
    "    def assign_string_three(self, str3):\n",
    "        self.str3 = str3\n",
    "    def show_string_three(self):\n",
    "        return self.str3\n",
    "my_child = Child()          # Instantiating object of Child Class.\n",
    "# Invoking methods\n",
    "my_child.assign_string_one(\"I am string of Parent1.\")\n",
    "my_child.assign_string_two(\"I am string of Parent2.\")\n",
    "my_child.assign_string_three(\"I am string of Child.\")\n",
    "\n",
    "my_child.show_string_one()"
   ]
  },
  {
   "cell_type": "code",
   "execution_count": 2,
   "metadata": {},
   "outputs": [
    {
     "data": {
      "text/plain": [
       "'I am string of Parent2.'"
      ]
     },
     "execution_count": 2,
     "metadata": {},
     "output_type": "execute_result"
    }
   ],
   "source": [
    "my_child.show_string_two()"
   ]
  },
  {
   "cell_type": "code",
   "execution_count": 3,
   "metadata": {},
   "outputs": [
    {
     "data": {
      "text/plain": [
       "'I am string of Child.'"
      ]
     },
     "execution_count": 3,
     "metadata": {},
     "output_type": "execute_result"
    }
   ],
   "source": [
    "my_child.show_string_three()"
   ]
  }
 ],
 "metadata": {
  "kernelspec": {
   "display_name": "Python 3.10.5 64-bit",
   "language": "python",
   "name": "python3"
  },
  "language_info": {
   "codemirror_mode": {
    "name": "ipython",
    "version": 3
   },
   "file_extension": ".py",
   "mimetype": "text/x-python",
   "name": "python",
   "nbconvert_exporter": "python",
   "pygments_lexer": "ipython3",
   "version": "3.10.5"
  },
  "orig_nbformat": 4,
  "vscode": {
   "interpreter": {
    "hash": "26de051ba29f2982a8de78e945f0abaf191376122a1563185a90213a26c5da77"
   }
  }
 },
 "nbformat": 4,
 "nbformat_minor": 2
}
