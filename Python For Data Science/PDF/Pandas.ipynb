{
  "cells": [
    {
      "cell_type": "code",
      "execution_count": 1,
      "metadata": {
        "id": "A-zmghgwAHDG"
      },
      "outputs": [],
      "source": [
        "import pandas as pd"
      ]
    },
    {
      "cell_type": "code",
      "execution_count": 2,
      "metadata": {
        "id": "BDxKmQ3NBCJ-"
      },
      "outputs": [],
      "source": [
        "#Creation of Series\n",
        "a = [5,2,7,4,1]\n",
        "s = pd.Series(data=a)"
      ]
    },
    {
      "cell_type": "code",
      "execution_count": 3,
      "metadata": {
        "colab": {
          "base_uri": "https://localhost:8080/"
        },
        "id": "Rd5d2JQQBXHq",
        "outputId": "0b8bcef7-4759-44a6-9658-7f7a30471671"
      },
      "outputs": [
        {
          "data": {
            "text/plain": [
              "0    5\n",
              "1    2\n",
              "2    7\n",
              "3    4\n",
              "4    1\n",
              "dtype: int64"
            ]
          },
          "execution_count": 3,
          "metadata": {},
          "output_type": "execute_result"
        }
      ],
      "source": [
        "s"
      ]
    },
    {
      "cell_type": "code",
      "execution_count": 4,
      "metadata": {
        "colab": {
          "base_uri": "https://localhost:8080/"
        },
        "id": "KQMCMTAlBc4g",
        "outputId": "4049a670-6cb4-48dc-c98b-d6e087955705"
      },
      "outputs": [
        {
          "data": {
            "text/plain": [
              "0     8\n",
              "1    11\n",
              "2    15\n",
              "3    17\n",
              "4    25\n",
              "dtype: int64"
            ]
          },
          "execution_count": 4,
          "metadata": {},
          "output_type": "execute_result"
        }
      ],
      "source": [
        "b = [8,11,15,17,25]\n",
        "s1 = pd.Series(data=b)\n",
        "s1"
      ]
    },
    {
      "cell_type": "code",
      "execution_count": 5,
      "metadata": {
        "colab": {
          "base_uri": "https://localhost:8080/"
        },
        "id": "eeQXHGMHCEzR",
        "outputId": "d60d2785-264c-4110-e2c9-2eb3ce3d35cf"
      },
      "outputs": [
        {
          "data": {
            "text/plain": [
              "0    13\n",
              "1    13\n",
              "2    22\n",
              "3    21\n",
              "4    26\n",
              "dtype: int64"
            ]
          },
          "execution_count": 5,
          "metadata": {},
          "output_type": "execute_result"
        }
      ],
      "source": [
        "#Basic arithmetic operations \n",
        "s+s1"
      ]
    },
    {
      "cell_type": "code",
      "execution_count": 6,
      "metadata": {
        "colab": {
          "base_uri": "https://localhost:8080/"
        },
        "id": "aQ7vRiCkCQEg",
        "outputId": "8b746835-e849-40c8-f705-e6a627f81691"
      },
      "outputs": [
        {
          "data": {
            "text/plain": [
              "0    -3\n",
              "1    -9\n",
              "2    -8\n",
              "3   -13\n",
              "4   -24\n",
              "dtype: int64"
            ]
          },
          "execution_count": 6,
          "metadata": {},
          "output_type": "execute_result"
        }
      ],
      "source": [
        "s-s1"
      ]
    },
    {
      "cell_type": "code",
      "execution_count": 7,
      "metadata": {
        "colab": {
          "base_uri": "https://localhost:8080/"
        },
        "id": "BNaz2qSwCQlM",
        "outputId": "57bbe9ed-a41d-4d0d-ef7c-8efb992e10d9"
      },
      "outputs": [
        {
          "data": {
            "text/plain": [
              "0     40\n",
              "1     22\n",
              "2    105\n",
              "3     68\n",
              "4     25\n",
              "dtype: int64"
            ]
          },
          "execution_count": 7,
          "metadata": {},
          "output_type": "execute_result"
        }
      ],
      "source": [
        "s*s1"
      ]
    },
    {
      "cell_type": "code",
      "execution_count": 8,
      "metadata": {
        "colab": {
          "base_uri": "https://localhost:8080/"
        },
        "id": "ibmijeVPCRyD",
        "outputId": "2db14e31-1f08-44c3-87eb-57b7b585dfbf"
      },
      "outputs": [
        {
          "data": {
            "text/plain": [
              "0    0.625000\n",
              "1    0.181818\n",
              "2    0.466667\n",
              "3    0.235294\n",
              "4    0.040000\n",
              "dtype: float64"
            ]
          },
          "execution_count": 8,
          "metadata": {},
          "output_type": "execute_result"
        }
      ],
      "source": [
        "s/s1"
      ]
    },
    {
      "cell_type": "code",
      "execution_count": 9,
      "metadata": {
        "colab": {
          "base_uri": "https://localhost:8080/"
        },
        "id": "RvKFwrBgCSUJ",
        "outputId": "19620e50-be3d-4881-fa2b-df00c8a7c6c9"
      },
      "outputs": [
        {
          "data": {
            "text/plain": [
              "0           390625\n",
              "1             2048\n",
              "2    4747561509943\n",
              "3      17179869184\n",
              "4                1\n",
              "dtype: int64"
            ]
          },
          "execution_count": 9,
          "metadata": {},
          "output_type": "execute_result"
        }
      ],
      "source": [
        "s**s1"
      ]
    },
    {
      "cell_type": "code",
      "execution_count": 10,
      "metadata": {
        "colab": {
          "base_uri": "https://localhost:8080/"
        },
        "id": "W-bQddt2CTTz",
        "outputId": "3d30998c-b2d8-4e97-a813-bc946c012a78"
      },
      "outputs": [
        {
          "data": {
            "text/plain": [
              "0    5\n",
              "1    2\n",
              "2    7\n",
              "3    4\n",
              "4    1\n",
              "dtype: int64"
            ]
          },
          "execution_count": 10,
          "metadata": {},
          "output_type": "execute_result"
        }
      ],
      "source": [
        "s%s1"
      ]
    },
    {
      "cell_type": "code",
      "execution_count": 11,
      "metadata": {
        "colab": {
          "base_uri": "https://localhost:8080/"
        },
        "id": "7Mue-SP8CUn2",
        "outputId": "6110fb4f-1ac0-47da-d86a-b306d0f44101"
      },
      "outputs": [
        {
          "data": {
            "text/plain": [
              "0    0\n",
              "1    0\n",
              "2    0\n",
              "3    0\n",
              "4    0\n",
              "dtype: int64"
            ]
          },
          "execution_count": 11,
          "metadata": {},
          "output_type": "execute_result"
        }
      ],
      "source": [
        "s//s1"
      ]
    },
    {
      "cell_type": "code",
      "execution_count": 12,
      "metadata": {
        "id": "WoTiOcGJCWCx"
      },
      "outputs": [],
      "source": [
        "c = [1,2,3,4,5]"
      ]
    },
    {
      "cell_type": "code",
      "execution_count": 13,
      "metadata": {
        "id": "fL4W8SPTC4Vj"
      },
      "outputs": [],
      "source": [
        "d = ['one','two','three','four','five']"
      ]
    },
    {
      "cell_type": "code",
      "execution_count": 14,
      "metadata": {
        "colab": {
          "base_uri": "https://localhost:8080/"
        },
        "id": "yHDvQ7yRCgi1",
        "outputId": "f3e61aa1-d8e6-449c-9cb6-b450b4988097"
      },
      "outputs": [
        {
          "data": {
            "text/plain": [
              "list"
            ]
          },
          "execution_count": 14,
          "metadata": {},
          "output_type": "execute_result"
        }
      ],
      "source": [
        "type(c)"
      ]
    },
    {
      "cell_type": "code",
      "execution_count": 15,
      "metadata": {
        "colab": {
          "base_uri": "https://localhost:8080/"
        },
        "id": "suIBP-txChR3",
        "outputId": "805c9b08-3d90-46e2-f57f-f07acbd613aa"
      },
      "outputs": [
        {
          "data": {
            "text/plain": [
              "[1, 2, 3, 4, 5]"
            ]
          },
          "execution_count": 15,
          "metadata": {},
          "output_type": "execute_result"
        }
      ],
      "source": [
        "c"
      ]
    },
    {
      "cell_type": "code",
      "execution_count": 16,
      "metadata": {
        "id": "PvhDu2_AChZ_"
      },
      "outputs": [],
      "source": [
        "s = pd.Series(data=a,index=c)"
      ]
    },
    {
      "cell_type": "code",
      "execution_count": 17,
      "metadata": {
        "colab": {
          "base_uri": "https://localhost:8080/"
        },
        "id": "rSsPsrW2CxUL",
        "outputId": "09ee03bd-ec81-4882-f7e2-a4b67fb5a6bf"
      },
      "outputs": [
        {
          "data": {
            "text/plain": [
              "1    5\n",
              "2    2\n",
              "3    7\n",
              "4    4\n",
              "5    1\n",
              "dtype: int64"
            ]
          },
          "execution_count": 17,
          "metadata": {},
          "output_type": "execute_result"
        }
      ],
      "source": [
        "s"
      ]
    },
    {
      "cell_type": "code",
      "execution_count": 18,
      "metadata": {
        "id": "gvk3Hk5ZCx64"
      },
      "outputs": [],
      "source": [
        "s = pd.Series(data=a,index=d)"
      ]
    },
    {
      "cell_type": "code",
      "execution_count": 19,
      "metadata": {
        "colab": {
          "base_uri": "https://localhost:8080/"
        },
        "id": "mm-6-SxCDBKN",
        "outputId": "1760d4fa-8c43-4584-bc7b-f9d8e9b4fab5"
      },
      "outputs": [
        {
          "data": {
            "text/plain": [
              "one      5\n",
              "two      2\n",
              "three    7\n",
              "four     4\n",
              "five     1\n",
              "dtype: int64"
            ]
          },
          "execution_count": 19,
          "metadata": {},
          "output_type": "execute_result"
        }
      ],
      "source": [
        "s"
      ]
    },
    {
      "cell_type": "code",
      "execution_count": 20,
      "metadata": {
        "colab": {
          "base_uri": "https://localhost:8080/"
        },
        "id": "pHxmo1mKDBhC",
        "outputId": "8101e660-6d12-4e49-f8a8-027e5fc5a839"
      },
      "outputs": [
        {
          "data": {
            "text/plain": [
              "one       8\n",
              "two      11\n",
              "three    15\n",
              "four     17\n",
              "five     25\n",
              "dtype: int64"
            ]
          },
          "execution_count": 20,
          "metadata": {},
          "output_type": "execute_result"
        }
      ],
      "source": [
        "s1 = pd.Series(data=b,index=d)\n",
        "s1"
      ]
    },
    {
      "cell_type": "code",
      "execution_count": 21,
      "metadata": {
        "colab": {
          "base_uri": "https://localhost:8080/"
        },
        "id": "MioiiALwDGxx",
        "outputId": "880c62ba-8998-4a2e-c6ed-1b64b254fa73"
      },
      "outputs": [
        {
          "data": {
            "text/plain": [
              "one      5\n",
              "two      2\n",
              "three    7\n",
              "four     4\n",
              "five     1\n",
              "dtype: int64"
            ]
          },
          "execution_count": 21,
          "metadata": {},
          "output_type": "execute_result"
        }
      ],
      "source": [
        "s = pd.Series(a,d)\n",
        "s"
      ]
    },
    {
      "cell_type": "code",
      "execution_count": 22,
      "metadata": {
        "id": "55fG28pdDL1g"
      },
      "outputs": [],
      "source": [
        "s1 = pd.Series(b,d)"
      ]
    },
    {
      "cell_type": "code",
      "execution_count": 23,
      "metadata": {
        "colab": {
          "base_uri": "https://localhost:8080/"
        },
        "id": "yv_IKjYhDQy_",
        "outputId": "79c49d89-dd2f-4312-895b-e9e84e3a2498"
      },
      "outputs": [
        {
          "data": {
            "text/plain": [
              "one       8\n",
              "two      11\n",
              "three    15\n",
              "four     17\n",
              "five     25\n",
              "dtype: int64"
            ]
          },
          "execution_count": 23,
          "metadata": {},
          "output_type": "execute_result"
        }
      ],
      "source": [
        "s1"
      ]
    },
    {
      "cell_type": "code",
      "execution_count": 24,
      "metadata": {
        "colab": {
          "base_uri": "https://localhost:8080/"
        },
        "id": "HrvjElaLDRJN",
        "outputId": "80f637d0-eacc-4c95-e672-e124e58fede3"
      },
      "outputs": [
        {
          "data": {
            "text/plain": [
              "1    5\n",
              "2    2\n",
              "3    7\n",
              "4    4\n",
              "5    1\n",
              "dtype: int64"
            ]
          },
          "execution_count": 24,
          "metadata": {},
          "output_type": "execute_result"
        }
      ],
      "source": [
        "s = pd.Series(data=a,index=[1,2,3,4,5])\n",
        "s"
      ]
    },
    {
      "cell_type": "code",
      "execution_count": 25,
      "metadata": {
        "colab": {
          "base_uri": "https://localhost:8080/"
        },
        "id": "RQAnWT1zDjQl",
        "outputId": "b4f4eff5-d578-4eeb-b4b9-21380c0f5ccb"
      },
      "outputs": [
        {
          "data": {
            "text/plain": [
              "one      5\n",
              "two      2\n",
              "three    7\n",
              "four     4\n",
              "five     1\n",
              "dtype: int64"
            ]
          },
          "execution_count": 25,
          "metadata": {},
          "output_type": "execute_result"
        }
      ],
      "source": [
        "s = pd.Series(data=a,index=['one','two','three','four','five'])\n",
        "s"
      ]
    },
    {
      "cell_type": "code",
      "execution_count": 26,
      "metadata": {
        "colab": {
          "base_uri": "https://localhost:8080/"
        },
        "id": "luV4iEyIDreF",
        "outputId": "8e97c95d-59c1-4537-d8b7-3d6bf0cb6f51"
      },
      "outputs": [
        {
          "data": {
            "text/plain": [
              "one       8\n",
              "two      11\n",
              "three    15\n",
              "four     17\n",
              "five     25\n",
              "dtype: int64"
            ]
          },
          "execution_count": 26,
          "metadata": {},
          "output_type": "execute_result"
        }
      ],
      "source": [
        "s1 = pd.Series(data=b,index=['one','two','three','four','five'])\n",
        "s1"
      ]
    },
    {
      "cell_type": "code",
      "execution_count": 27,
      "metadata": {
        "id": "G5zU1jYfDxHv"
      },
      "outputs": [],
      "source": [
        "#concat - Joining of two series from columns and automatic creation of a data frame\n",
        "df1 = pd.concat([s,s1],axis=1)"
      ]
    },
    {
      "cell_type": "code",
      "execution_count": 28,
      "metadata": {
        "colab": {
          "base_uri": "https://localhost:8080/",
          "height": 204
        },
        "id": "0LZelituEqjr",
        "outputId": "06ad4bdf-8bbb-4035-f43e-57a06bf9d3aa"
      },
      "outputs": [
        {
          "data": {
            "text/html": [
              "<div>\n",
              "<style scoped>\n",
              "    .dataframe tbody tr th:only-of-type {\n",
              "        vertical-align: middle;\n",
              "    }\n",
              "\n",
              "    .dataframe tbody tr th {\n",
              "        vertical-align: top;\n",
              "    }\n",
              "\n",
              "    .dataframe thead th {\n",
              "        text-align: right;\n",
              "    }\n",
              "</style>\n",
              "<table border=\"1\" class=\"dataframe\">\n",
              "  <thead>\n",
              "    <tr style=\"text-align: right;\">\n",
              "      <th></th>\n",
              "      <th>0</th>\n",
              "      <th>1</th>\n",
              "    </tr>\n",
              "  </thead>\n",
              "  <tbody>\n",
              "    <tr>\n",
              "      <th>one</th>\n",
              "      <td>5</td>\n",
              "      <td>8</td>\n",
              "    </tr>\n",
              "    <tr>\n",
              "      <th>two</th>\n",
              "      <td>2</td>\n",
              "      <td>11</td>\n",
              "    </tr>\n",
              "    <tr>\n",
              "      <th>three</th>\n",
              "      <td>7</td>\n",
              "      <td>15</td>\n",
              "    </tr>\n",
              "    <tr>\n",
              "      <th>four</th>\n",
              "      <td>4</td>\n",
              "      <td>17</td>\n",
              "    </tr>\n",
              "    <tr>\n",
              "      <th>five</th>\n",
              "      <td>1</td>\n",
              "      <td>25</td>\n",
              "    </tr>\n",
              "  </tbody>\n",
              "</table>\n",
              "</div>"
            ],
            "text/plain": [
              "       0   1\n",
              "one    5   8\n",
              "two    2  11\n",
              "three  7  15\n",
              "four   4  17\n",
              "five   1  25"
            ]
          },
          "execution_count": 28,
          "metadata": {},
          "output_type": "execute_result"
        }
      ],
      "source": [
        "df1"
      ]
    },
    {
      "cell_type": "code",
      "execution_count": 29,
      "metadata": {
        "colab": {
          "base_uri": "https://localhost:8080/"
        },
        "id": "0nV-p6UfErck",
        "outputId": "5fe50655-3c8b-47e3-fe7c-52a11c93a79e"
      },
      "outputs": [
        {
          "data": {
            "text/plain": [
              "one      5\n",
              "two      2\n",
              "three    7\n",
              "four     4\n",
              "five     1\n",
              "dtype: int64"
            ]
          },
          "execution_count": 29,
          "metadata": {},
          "output_type": "execute_result"
        }
      ],
      "source": [
        "s"
      ]
    },
    {
      "cell_type": "code",
      "execution_count": 30,
      "metadata": {
        "colab": {
          "base_uri": "https://localhost:8080/"
        },
        "id": "8VOm4QxBEuMZ",
        "outputId": "90d86dcf-edc9-4e8a-d98b-5b8cc1b8a7a6"
      },
      "outputs": [
        {
          "data": {
            "text/plain": [
              "one       8\n",
              "two      11\n",
              "three    15\n",
              "four     17\n",
              "five     25\n",
              "dtype: int64"
            ]
          },
          "execution_count": 30,
          "metadata": {},
          "output_type": "execute_result"
        }
      ],
      "source": [
        "s1"
      ]
    },
    {
      "cell_type": "code",
      "execution_count": 31,
      "metadata": {
        "colab": {
          "base_uri": "https://localhost:8080/"
        },
        "id": "El3ntVc9Ez79",
        "outputId": "04c86274-fb94-4bd5-a504-c5623bffc3a7"
      },
      "outputs": [
        {
          "data": {
            "text/plain": [
              "pandas.core.frame.DataFrame"
            ]
          },
          "execution_count": 31,
          "metadata": {},
          "output_type": "execute_result"
        }
      ],
      "source": [
        "type(df1)"
      ]
    },
    {
      "cell_type": "code",
      "execution_count": 32,
      "metadata": {
        "id": "jbamWlRpEujk"
      },
      "outputs": [],
      "source": [
        "#concat - Joining of two series from rows.\n",
        "#The end outcome will also result in a series\n",
        "df2 = pd.concat([s,s1],axis=0,sort=False)"
      ]
    },
    {
      "cell_type": "code",
      "execution_count": 33,
      "metadata": {
        "colab": {
          "base_uri": "https://localhost:8080/"
        },
        "id": "5zCc-z8UE8-U",
        "outputId": "00599171-ec57-45ec-f399-95862db7af6b"
      },
      "outputs": [
        {
          "data": {
            "text/plain": [
              "one       5\n",
              "two       2\n",
              "three     7\n",
              "four      4\n",
              "five      1\n",
              "one       8\n",
              "two      11\n",
              "three    15\n",
              "four     17\n",
              "five     25\n",
              "dtype: int64"
            ]
          },
          "execution_count": 33,
          "metadata": {},
          "output_type": "execute_result"
        }
      ],
      "source": [
        "df2"
      ]
    },
    {
      "cell_type": "code",
      "execution_count": 34,
      "metadata": {
        "colab": {
          "base_uri": "https://localhost:8080/"
        },
        "id": "PimB6CysE9aa",
        "outputId": "340b065e-f954-4bc6-bb94-2cf2d48c5f7d"
      },
      "outputs": [
        {
          "data": {
            "text/plain": [
              "pandas.core.series.Series"
            ]
          },
          "execution_count": 34,
          "metadata": {},
          "output_type": "execute_result"
        }
      ],
      "source": [
        "type(df2)"
      ]
    },
    {
      "cell_type": "code",
      "execution_count": null,
      "metadata": {
        "id": "TkCQ2VQWFAQ-"
      },
      "outputs": [],
      "source": []
    }
  ],
  "metadata": {
    "colab": {
      "name": "Pandas.ipynb",
      "provenance": []
    },
    "kernelspec": {
      "display_name": "Python 3.10.5 64-bit",
      "language": "python",
      "name": "python3"
    },
    "language_info": {
      "codemirror_mode": {
        "name": "ipython",
        "version": 3
      },
      "file_extension": ".py",
      "mimetype": "text/x-python",
      "name": "python",
      "nbconvert_exporter": "python",
      "pygments_lexer": "ipython3",
      "version": "3.10.5"
    },
    "vscode": {
      "interpreter": {
        "hash": "26de051ba29f2982a8de78e945f0abaf191376122a1563185a90213a26c5da77"
      }
    }
  },
  "nbformat": 4,
  "nbformat_minor": 0
}
