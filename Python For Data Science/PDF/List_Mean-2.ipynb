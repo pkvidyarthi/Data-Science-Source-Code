{
  "cells": [
    {
      "cell_type": "code",
      "execution_count": null,
      "metadata": {
        "colab": {
          "base_uri": "https://localhost:8080/"
        },
        "id": "qJeqdqmNw0eU",
        "outputId": "ca4c235b-1ff1-44ac-df02-6828cb9030ee"
      },
      "outputs": [
        {
          "data": {
            "text/plain": [
              "9.5"
            ]
          },
          "execution_count": 1,
          "metadata": {},
          "output_type": "execute_result"
        }
      ],
      "source": [
        "def mean(a):\n",
        "  b = sum(a)/len(a)\n",
        "  return b\n",
        "mean([5,2,7,4,1,8,11,15,17,25])"
      ]
    },
    {
      "cell_type": "code",
      "execution_count": null,
      "metadata": {
        "colab": {
          "base_uri": "https://localhost:8080/"
        },
        "id": "7vgHEuxGw1L0",
        "outputId": "db0acc1d-7150-45f6-f272-4a1814865547"
      },
      "outputs": [
        {
          "data": {
            "text/plain": [
              "19"
            ]
          },
          "execution_count": 2,
          "metadata": {},
          "output_type": "execute_result"
        }
      ],
      "source": [
        "a = [5,2,7,4,1]\n",
        "sum(a)"
      ]
    },
    {
      "cell_type": "code",
      "execution_count": null,
      "metadata": {
        "colab": {
          "base_uri": "https://localhost:8080/"
        },
        "id": "PMHauDy6xAqG",
        "outputId": "ba6db4e9-0a00-404d-cd33-69fd20c207fd"
      },
      "outputs": [
        {
          "data": {
            "text/plain": [
              "3.8"
            ]
          },
          "execution_count": 13,
          "metadata": {},
          "output_type": "execute_result"
        }
      ],
      "source": [
        "a = [5,2,7,4,1]\n",
        "b = sum(a)\n",
        "l = len(a)\n",
        "b/l"
      ]
    },
    {
      "cell_type": "code",
      "execution_count": null,
      "metadata": {
        "colab": {
          "base_uri": "https://localhost:8080/"
        },
        "id": "FXmGOGPxAg2Z",
        "outputId": "4d6236af-950e-419d-d08e-0a1fb2f76c58"
      },
      "outputs": [
        {
          "data": {
            "text/plain": [
              "15.2"
            ]
          },
          "execution_count": 6,
          "metadata": {},
          "output_type": "execute_result"
        }
      ],
      "source": [
        "x = [8,11,15,17,25]\n",
        "b = sum(x)\n",
        "l = len(x)\n",
        "b/l"
      ]
    },
    {
      "cell_type": "code",
      "execution_count": null,
      "metadata": {
        "colab": {
          "base_uri": "https://localhost:8080/"
        },
        "id": "4cQY33cZxTgd",
        "outputId": "fd4d74fa-d332-4230-b9b9-4ef360b34a8b"
      },
      "outputs": [
        {
          "data": {
            "text/plain": [
              "3.0"
            ]
          },
          "execution_count": 4,
          "metadata": {},
          "output_type": "execute_result"
        }
      ],
      "source": [
        "mean([1,2,3,4,5])"
      ]
    },
    {
      "cell_type": "code",
      "execution_count": null,
      "metadata": {
        "colab": {
          "base_uri": "https://localhost:8080/"
        },
        "id": "M4hH8hctALNB",
        "outputId": "20d695a5-c301-438c-c9ef-f18f2d36af16"
      },
      "outputs": [
        {
          "data": {
            "text/plain": [
              "[5, 2, 7, 4, 1]"
            ]
          },
          "execution_count": 7,
          "metadata": {},
          "output_type": "execute_result"
        }
      ],
      "source": [
        "#Q - Create a class named mylist and create and display a list\n",
        "class mylist:\n",
        "  def __init__(self,a):\n",
        "    self.a = a\n",
        "  def display(self):\n",
        "    return self.a\n",
        "obj6 = mylist([5,2,7,4,1])\n",
        "obj6.display()"
      ]
    },
    {
      "cell_type": "code",
      "execution_count": null,
      "metadata": {
        "colab": {
          "base_uri": "https://localhost:8080/"
        },
        "id": "mE9viSPUxaNN",
        "outputId": "3c034b3e-a0af-45fc-dca8-68c77927862f"
      },
      "outputs": [
        {
          "data": {
            "text/plain": [
              "15.2"
            ]
          },
          "execution_count": 5,
          "metadata": {},
          "output_type": "execute_result"
        }
      ],
      "source": [
        "#Q - Create a class named mylist1 and print the mean of the list\n",
        "class mylist1:\n",
        "  def __init__(self,a1):\n",
        "    self.a1 = a1\n",
        "  def display1(self):\n",
        "    mean = sum(self.a1)/len(self.a1)\n",
        "    return mean\n",
        "obj7 = mylist1([8,11,15,17,25])\n",
        "obj7.display1()"
      ]
    },
    {
      "cell_type": "code",
      "execution_count": null,
      "metadata": {
        "id": "_6I38M7PAXWf"
      },
      "outputs": [],
      "source": [
        "#Connector - Connecting object of one class to another class\n",
        "obj7.a1 = obj6.a"
      ]
    },
    {
      "cell_type": "code",
      "execution_count": null,
      "metadata": {
        "colab": {
          "base_uri": "https://localhost:8080/"
        },
        "id": "mYaGre_OBBXn",
        "outputId": "e0fb15ae-6f08-4bbd-e90f-208ad3b875bd"
      },
      "outputs": [
        {
          "data": {
            "text/plain": [
              "[5, 2, 7, 4, 1]"
            ]
          },
          "execution_count": 11,
          "metadata": {},
          "output_type": "execute_result"
        }
      ],
      "source": [
        "obj7.a1"
      ]
    },
    {
      "cell_type": "code",
      "execution_count": null,
      "metadata": {
        "colab": {
          "base_uri": "https://localhost:8080/"
        },
        "id": "bVnZsuXFBFgJ",
        "outputId": "a81a655f-6efa-412e-eb90-a7151d8c8e27"
      },
      "outputs": [
        {
          "data": {
            "text/plain": [
              "3.8"
            ]
          },
          "execution_count": 12,
          "metadata": {},
          "output_type": "execute_result"
        }
      ],
      "source": [
        "obj7.display1()"
      ]
    },
    {
      "cell_type": "code",
      "execution_count": null,
      "metadata": {
        "id": "CiIH9d5mBi3M"
      },
      "outputs": [],
      "source": []
    }
  ],
  "metadata": {
    "colab": {
      "name": "List_Mean.ipynb",
      "provenance": []
    },
    "kernelspec": {
      "display_name": "Python 3.9.12 ('base')",
      "language": "python",
      "name": "python3"
    },
    "language_info": {
      "name": "python",
      "version": "3.9.12"
    },
    "vscode": {
      "interpreter": {
        "hash": "dcfc0490250201be3bacaee72815d188724ead5dd8e0f022433c84fb6ce39933"
      }
    }
  },
  "nbformat": 4,
  "nbformat_minor": 0
}
