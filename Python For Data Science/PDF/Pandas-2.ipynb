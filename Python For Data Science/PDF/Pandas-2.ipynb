{
  "cells": [
    {
      "cell_type": "code",
      "execution_count": 2,
      "metadata": {
        "id": "A-zmghgwAHDG"
      },
      "outputs": [],
      "source": [
        "import pandas as pd"
      ]
    },
    {
      "cell_type": "code",
      "execution_count": 3,
      "metadata": {
        "id": "BDxKmQ3NBCJ-"
      },
      "outputs": [],
      "source": [
        "#Creation of Series\n",
        "a = [5,2,7,4,1]\n",
        "s = pd.Series(data=a)"
      ]
    },
    {
      "cell_type": "code",
      "execution_count": 4,
      "metadata": {
        "colab": {
          "base_uri": "https://localhost:8080/"
        },
        "id": "Rd5d2JQQBXHq",
        "outputId": "c6ef7bb4-c272-4f99-cb78-2cdc1c9a1f79"
      },
      "outputs": [
        {
          "data": {
            "text/plain": [
              "0    5\n",
              "1    2\n",
              "2    7\n",
              "3    4\n",
              "4    1\n",
              "dtype: int64"
            ]
          },
          "execution_count": 4,
          "metadata": {},
          "output_type": "execute_result"
        }
      ],
      "source": [
        "s"
      ]
    },
    {
      "cell_type": "code",
      "execution_count": 5,
      "metadata": {
        "colab": {
          "base_uri": "https://localhost:8080/"
        },
        "id": "KQMCMTAlBc4g",
        "outputId": "1dfc8665-8c2d-4beb-83f6-4215e8e53a07"
      },
      "outputs": [
        {
          "data": {
            "text/plain": [
              "0     8\n",
              "1    11\n",
              "2    15\n",
              "3    17\n",
              "4    25\n",
              "dtype: int64"
            ]
          },
          "execution_count": 5,
          "metadata": {},
          "output_type": "execute_result"
        }
      ],
      "source": [
        "b = [8,11,15,17,25]\n",
        "s1 = pd.Series(data=b)\n",
        "s1"
      ]
    },
    {
      "cell_type": "code",
      "execution_count": 6,
      "metadata": {
        "colab": {
          "base_uri": "https://localhost:8080/"
        },
        "id": "eeQXHGMHCEzR",
        "outputId": "0491c75e-0900-4aeb-bbe3-37c8046fbf9c"
      },
      "outputs": [
        {
          "data": {
            "text/plain": [
              "0    13\n",
              "1    13\n",
              "2    22\n",
              "3    21\n",
              "4    26\n",
              "dtype: int64"
            ]
          },
          "execution_count": 6,
          "metadata": {},
          "output_type": "execute_result"
        }
      ],
      "source": [
        "#Basic arithmetic operations \n",
        "s+s1"
      ]
    },
    {
      "cell_type": "code",
      "execution_count": 7,
      "metadata": {
        "colab": {
          "base_uri": "https://localhost:8080/"
        },
        "id": "aQ7vRiCkCQEg",
        "outputId": "12a02d82-fd1b-44f0-8ab2-91f34d9b02c2"
      },
      "outputs": [
        {
          "data": {
            "text/plain": [
              "0    -3\n",
              "1    -9\n",
              "2    -8\n",
              "3   -13\n",
              "4   -24\n",
              "dtype: int64"
            ]
          },
          "execution_count": 7,
          "metadata": {},
          "output_type": "execute_result"
        }
      ],
      "source": [
        "s-s1"
      ]
    },
    {
      "cell_type": "code",
      "execution_count": 8,
      "metadata": {
        "colab": {
          "base_uri": "https://localhost:8080/"
        },
        "id": "BNaz2qSwCQlM",
        "outputId": "4c68553a-7bd2-498d-9df8-263ee22f11ed"
      },
      "outputs": [
        {
          "data": {
            "text/plain": [
              "0     40\n",
              "1     22\n",
              "2    105\n",
              "3     68\n",
              "4     25\n",
              "dtype: int64"
            ]
          },
          "execution_count": 8,
          "metadata": {},
          "output_type": "execute_result"
        }
      ],
      "source": [
        "s*s1"
      ]
    },
    {
      "cell_type": "code",
      "execution_count": 9,
      "metadata": {
        "colab": {
          "base_uri": "https://localhost:8080/"
        },
        "id": "ibmijeVPCRyD",
        "outputId": "f352b062-e6a2-410d-c575-4a53082b57a2"
      },
      "outputs": [
        {
          "data": {
            "text/plain": [
              "0    0.625000\n",
              "1    0.181818\n",
              "2    0.466667\n",
              "3    0.235294\n",
              "4    0.040000\n",
              "dtype: float64"
            ]
          },
          "execution_count": 9,
          "metadata": {},
          "output_type": "execute_result"
        }
      ],
      "source": [
        "s/s1"
      ]
    },
    {
      "cell_type": "code",
      "execution_count": 10,
      "metadata": {
        "colab": {
          "base_uri": "https://localhost:8080/"
        },
        "id": "RvKFwrBgCSUJ",
        "outputId": "80ee0817-9147-4052-9921-25ca931fd439"
      },
      "outputs": [
        {
          "data": {
            "text/plain": [
              "0           390625\n",
              "1             2048\n",
              "2    4747561509943\n",
              "3      17179869184\n",
              "4                1\n",
              "dtype: int64"
            ]
          },
          "execution_count": 10,
          "metadata": {},
          "output_type": "execute_result"
        }
      ],
      "source": [
        "s**s1"
      ]
    },
    {
      "cell_type": "code",
      "execution_count": 11,
      "metadata": {
        "colab": {
          "base_uri": "https://localhost:8080/"
        },
        "id": "W-bQddt2CTTz",
        "outputId": "728b6aca-d4a2-4af0-85a3-576bf75e6563"
      },
      "outputs": [
        {
          "data": {
            "text/plain": [
              "0    5\n",
              "1    2\n",
              "2    7\n",
              "3    4\n",
              "4    1\n",
              "dtype: int64"
            ]
          },
          "execution_count": 11,
          "metadata": {},
          "output_type": "execute_result"
        }
      ],
      "source": [
        "s%s1"
      ]
    },
    {
      "cell_type": "code",
      "execution_count": 12,
      "metadata": {
        "colab": {
          "base_uri": "https://localhost:8080/"
        },
        "id": "7Mue-SP8CUn2",
        "outputId": "c819b0f7-ac3f-4687-c278-f2ebeafcefbe"
      },
      "outputs": [
        {
          "data": {
            "text/plain": [
              "0    0\n",
              "1    0\n",
              "2    0\n",
              "3    0\n",
              "4    0\n",
              "dtype: int64"
            ]
          },
          "execution_count": 12,
          "metadata": {},
          "output_type": "execute_result"
        }
      ],
      "source": [
        "s//s1"
      ]
    },
    {
      "cell_type": "code",
      "execution_count": 13,
      "metadata": {
        "id": "WoTiOcGJCWCx"
      },
      "outputs": [],
      "source": [
        "c = [1,2,3,4,5]"
      ]
    },
    {
      "cell_type": "code",
      "execution_count": 14,
      "metadata": {
        "id": "fL4W8SPTC4Vj"
      },
      "outputs": [],
      "source": [
        "d = ['one','two','three','four','five']"
      ]
    },
    {
      "cell_type": "code",
      "execution_count": 15,
      "metadata": {
        "colab": {
          "base_uri": "https://localhost:8080/"
        },
        "id": "yHDvQ7yRCgi1",
        "outputId": "6df0f7c8-1795-48b2-e628-055960ca5d1d"
      },
      "outputs": [
        {
          "data": {
            "text/plain": [
              "list"
            ]
          },
          "execution_count": 15,
          "metadata": {},
          "output_type": "execute_result"
        }
      ],
      "source": [
        "type(c)"
      ]
    },
    {
      "cell_type": "code",
      "execution_count": 16,
      "metadata": {
        "colab": {
          "base_uri": "https://localhost:8080/"
        },
        "id": "suIBP-txChR3",
        "outputId": "19261e83-fec7-4b7b-a8c7-4b71c51bb228"
      },
      "outputs": [
        {
          "data": {
            "text/plain": [
              "[1, 2, 3, 4, 5]"
            ]
          },
          "execution_count": 16,
          "metadata": {},
          "output_type": "execute_result"
        }
      ],
      "source": [
        "c"
      ]
    },
    {
      "cell_type": "code",
      "execution_count": 17,
      "metadata": {
        "id": "PvhDu2_AChZ_"
      },
      "outputs": [],
      "source": [
        "s = pd.Series(data=a,index=c)"
      ]
    },
    {
      "cell_type": "code",
      "execution_count": 18,
      "metadata": {
        "colab": {
          "base_uri": "https://localhost:8080/"
        },
        "id": "rSsPsrW2CxUL",
        "outputId": "3b32a1d0-a9c2-477f-ee36-8f6817493800"
      },
      "outputs": [
        {
          "data": {
            "text/plain": [
              "1    5\n",
              "2    2\n",
              "3    7\n",
              "4    4\n",
              "5    1\n",
              "dtype: int64"
            ]
          },
          "execution_count": 18,
          "metadata": {},
          "output_type": "execute_result"
        }
      ],
      "source": [
        "s"
      ]
    },
    {
      "cell_type": "code",
      "execution_count": 19,
      "metadata": {
        "id": "gvk3Hk5ZCx64"
      },
      "outputs": [],
      "source": [
        "s = pd.Series(data=a,index=d)"
      ]
    },
    {
      "cell_type": "code",
      "execution_count": 20,
      "metadata": {
        "colab": {
          "base_uri": "https://localhost:8080/"
        },
        "id": "mm-6-SxCDBKN",
        "outputId": "4bc2911d-1030-4e13-8a6c-2e330a554e5a"
      },
      "outputs": [
        {
          "data": {
            "text/plain": [
              "one      5\n",
              "two      2\n",
              "three    7\n",
              "four     4\n",
              "five     1\n",
              "dtype: int64"
            ]
          },
          "execution_count": 20,
          "metadata": {},
          "output_type": "execute_result"
        }
      ],
      "source": [
        "s"
      ]
    },
    {
      "cell_type": "code",
      "execution_count": 21,
      "metadata": {
        "colab": {
          "base_uri": "https://localhost:8080/"
        },
        "id": "pHxmo1mKDBhC",
        "outputId": "034cb647-2277-490b-ba5a-daef26ecc116"
      },
      "outputs": [
        {
          "data": {
            "text/plain": [
              "one       8\n",
              "two      11\n",
              "three    15\n",
              "four     17\n",
              "five     25\n",
              "dtype: int64"
            ]
          },
          "execution_count": 21,
          "metadata": {},
          "output_type": "execute_result"
        }
      ],
      "source": [
        "s1 = pd.Series(data=b,index=d)\n",
        "s1"
      ]
    },
    {
      "cell_type": "code",
      "execution_count": 22,
      "metadata": {
        "colab": {
          "base_uri": "https://localhost:8080/"
        },
        "id": "MioiiALwDGxx",
        "outputId": "89d0bcad-5b60-4fae-ef7b-5078d8bda84c"
      },
      "outputs": [
        {
          "data": {
            "text/plain": [
              "one      5\n",
              "two      2\n",
              "three    7\n",
              "four     4\n",
              "five     1\n",
              "dtype: int64"
            ]
          },
          "execution_count": 22,
          "metadata": {},
          "output_type": "execute_result"
        }
      ],
      "source": [
        "s = pd.Series(a,d)\n",
        "s"
      ]
    },
    {
      "cell_type": "code",
      "execution_count": 23,
      "metadata": {
        "id": "55fG28pdDL1g"
      },
      "outputs": [],
      "source": [
        "s1 = pd.Series(b,d)"
      ]
    },
    {
      "cell_type": "code",
      "execution_count": 24,
      "metadata": {
        "colab": {
          "base_uri": "https://localhost:8080/"
        },
        "id": "yv_IKjYhDQy_",
        "outputId": "d6fb271d-ab2f-4079-c70d-b3fa530fa73c"
      },
      "outputs": [
        {
          "data": {
            "text/plain": [
              "one       8\n",
              "two      11\n",
              "three    15\n",
              "four     17\n",
              "five     25\n",
              "dtype: int64"
            ]
          },
          "execution_count": 24,
          "metadata": {},
          "output_type": "execute_result"
        }
      ],
      "source": [
        "s1"
      ]
    },
    {
      "cell_type": "code",
      "execution_count": 25,
      "metadata": {
        "colab": {
          "base_uri": "https://localhost:8080/"
        },
        "id": "HrvjElaLDRJN",
        "outputId": "b2ef77f0-a432-4a27-9860-b08614244564"
      },
      "outputs": [
        {
          "data": {
            "text/plain": [
              "1    5\n",
              "2    2\n",
              "3    7\n",
              "4    4\n",
              "5    1\n",
              "dtype: int64"
            ]
          },
          "execution_count": 25,
          "metadata": {},
          "output_type": "execute_result"
        }
      ],
      "source": [
        "s = pd.Series(data=a,index=[1,2,3,4,5])\n",
        "s"
      ]
    },
    {
      "cell_type": "code",
      "execution_count": 26,
      "metadata": {
        "colab": {
          "base_uri": "https://localhost:8080/"
        },
        "id": "RQAnWT1zDjQl",
        "outputId": "e3fac8aa-ef83-401c-e752-8e00a9f7adba"
      },
      "outputs": [
        {
          "data": {
            "text/plain": [
              "one      5\n",
              "two      2\n",
              "three    7\n",
              "four     4\n",
              "five     1\n",
              "dtype: int64"
            ]
          },
          "execution_count": 26,
          "metadata": {},
          "output_type": "execute_result"
        }
      ],
      "source": [
        "s = pd.Series(data=a,index=['one','two','three','four','five'])\n",
        "s"
      ]
    },
    {
      "cell_type": "code",
      "execution_count": 27,
      "metadata": {
        "colab": {
          "base_uri": "https://localhost:8080/"
        },
        "id": "luV4iEyIDreF",
        "outputId": "d3ca3ce2-600b-4a32-f449-ab7ee0be01c8"
      },
      "outputs": [
        {
          "data": {
            "text/plain": [
              "one       8\n",
              "two      11\n",
              "three    15\n",
              "four     17\n",
              "five     25\n",
              "dtype: int64"
            ]
          },
          "execution_count": 27,
          "metadata": {},
          "output_type": "execute_result"
        }
      ],
      "source": [
        "s1 = pd.Series(data=b,index=['one','two','three','four','five'])\n",
        "s1"
      ]
    },
    {
      "cell_type": "code",
      "execution_count": 82,
      "metadata": {},
      "outputs": [
        {
          "data": {
            "text/plain": [
              "one      5\n",
              "two      2\n",
              "three    7\n",
              "four     4\n",
              "five     1\n",
              "dtype: int64"
            ]
          },
          "execution_count": 82,
          "metadata": {},
          "output_type": "execute_result"
        }
      ],
      "source": [
        "s"
      ]
    },
    {
      "cell_type": "code",
      "execution_count": 83,
      "metadata": {},
      "outputs": [
        {
          "data": {
            "text/plain": [
              "one       8\n",
              "two      11\n",
              "three    15\n",
              "four     17\n",
              "five     25\n",
              "dtype: int64"
            ]
          },
          "execution_count": 83,
          "metadata": {},
          "output_type": "execute_result"
        }
      ],
      "source": [
        "s1"
      ]
    },
    {
      "cell_type": "code",
      "execution_count": 28,
      "metadata": {
        "id": "G5zU1jYfDxHv"
      },
      "outputs": [],
      "source": [
        "#concat - Joining of two series from columns and automatic creation of a data frame\n",
        "df1 = pd.concat([s,s1],axis=1)"
      ]
    },
    {
      "cell_type": "code",
      "execution_count": 29,
      "metadata": {
        "colab": {
          "base_uri": "https://localhost:8080/",
          "height": 204
        },
        "id": "0LZelituEqjr",
        "outputId": "f587a3ec-08fd-48ec-ab3e-e4b8b736c8c0"
      },
      "outputs": [
        {
          "data": {
            "text/html": [
              "<div>\n",
              "<style scoped>\n",
              "    .dataframe tbody tr th:only-of-type {\n",
              "        vertical-align: middle;\n",
              "    }\n",
              "\n",
              "    .dataframe tbody tr th {\n",
              "        vertical-align: top;\n",
              "    }\n",
              "\n",
              "    .dataframe thead th {\n",
              "        text-align: right;\n",
              "    }\n",
              "</style>\n",
              "<table border=\"1\" class=\"dataframe\">\n",
              "  <thead>\n",
              "    <tr style=\"text-align: right;\">\n",
              "      <th></th>\n",
              "      <th>0</th>\n",
              "      <th>1</th>\n",
              "    </tr>\n",
              "  </thead>\n",
              "  <tbody>\n",
              "    <tr>\n",
              "      <th>one</th>\n",
              "      <td>5</td>\n",
              "      <td>8</td>\n",
              "    </tr>\n",
              "    <tr>\n",
              "      <th>two</th>\n",
              "      <td>2</td>\n",
              "      <td>11</td>\n",
              "    </tr>\n",
              "    <tr>\n",
              "      <th>three</th>\n",
              "      <td>7</td>\n",
              "      <td>15</td>\n",
              "    </tr>\n",
              "    <tr>\n",
              "      <th>four</th>\n",
              "      <td>4</td>\n",
              "      <td>17</td>\n",
              "    </tr>\n",
              "    <tr>\n",
              "      <th>five</th>\n",
              "      <td>1</td>\n",
              "      <td>25</td>\n",
              "    </tr>\n",
              "  </tbody>\n",
              "</table>\n",
              "</div>"
            ],
            "text/plain": [
              "       0   1\n",
              "one    5   8\n",
              "two    2  11\n",
              "three  7  15\n",
              "four   4  17\n",
              "five   1  25"
            ]
          },
          "execution_count": 29,
          "metadata": {},
          "output_type": "execute_result"
        }
      ],
      "source": [
        "df1"
      ]
    },
    {
      "cell_type": "code",
      "execution_count": 30,
      "metadata": {
        "colab": {
          "base_uri": "https://localhost:8080/"
        },
        "id": "0nV-p6UfErck",
        "outputId": "ba7c875b-e5bf-4236-fa58-95a1ea617090"
      },
      "outputs": [
        {
          "data": {
            "text/plain": [
              "one      5\n",
              "two      2\n",
              "three    7\n",
              "four     4\n",
              "five     1\n",
              "dtype: int64"
            ]
          },
          "execution_count": 30,
          "metadata": {},
          "output_type": "execute_result"
        }
      ],
      "source": [
        "s"
      ]
    },
    {
      "cell_type": "code",
      "execution_count": 31,
      "metadata": {
        "colab": {
          "base_uri": "https://localhost:8080/"
        },
        "id": "8VOm4QxBEuMZ",
        "outputId": "971cec76-8013-47c8-98ba-38885e2af60f"
      },
      "outputs": [
        {
          "data": {
            "text/plain": [
              "one       8\n",
              "two      11\n",
              "three    15\n",
              "four     17\n",
              "five     25\n",
              "dtype: int64"
            ]
          },
          "execution_count": 31,
          "metadata": {},
          "output_type": "execute_result"
        }
      ],
      "source": [
        "s1"
      ]
    },
    {
      "cell_type": "code",
      "execution_count": 32,
      "metadata": {
        "colab": {
          "base_uri": "https://localhost:8080/"
        },
        "id": "El3ntVc9Ez79",
        "outputId": "341c76ef-55fb-400f-e576-3c1b7c5625ca"
      },
      "outputs": [
        {
          "data": {
            "text/plain": [
              "pandas.core.frame.DataFrame"
            ]
          },
          "execution_count": 32,
          "metadata": {},
          "output_type": "execute_result"
        }
      ],
      "source": [
        "type(df1)"
      ]
    },
    {
      "cell_type": "code",
      "execution_count": 33,
      "metadata": {
        "id": "jbamWlRpEujk"
      },
      "outputs": [],
      "source": [
        "#concat - Joining of two series from rows.\n",
        "#The end outcome will also result in a series\n",
        "df2 = pd.concat([s,s1],axis=0)"
      ]
    },
    {
      "cell_type": "code",
      "execution_count": 34,
      "metadata": {
        "colab": {
          "base_uri": "https://localhost:8080/"
        },
        "id": "5zCc-z8UE8-U",
        "outputId": "4b8d1338-b97a-45b7-8c59-f0017daabe83"
      },
      "outputs": [
        {
          "data": {
            "text/plain": [
              "one       5\n",
              "two       2\n",
              "three     7\n",
              "four      4\n",
              "five      1\n",
              "one       8\n",
              "two      11\n",
              "three    15\n",
              "four     17\n",
              "five     25\n",
              "dtype: int64"
            ]
          },
          "execution_count": 34,
          "metadata": {},
          "output_type": "execute_result"
        }
      ],
      "source": [
        "df2"
      ]
    },
    {
      "cell_type": "code",
      "execution_count": 35,
      "metadata": {
        "colab": {
          "base_uri": "https://localhost:8080/"
        },
        "id": "PimB6CysE9aa",
        "outputId": "b9e9f817-8fdd-47fc-cc18-3078a38b1462"
      },
      "outputs": [
        {
          "data": {
            "text/plain": [
              "pandas.core.series.Series"
            ]
          },
          "execution_count": 35,
          "metadata": {},
          "output_type": "execute_result"
        }
      ],
      "source": [
        "type(df2)"
      ]
    },
    {
      "cell_type": "code",
      "execution_count": 36,
      "metadata": {
        "id": "U7tMPspG5DlJ"
      },
      "outputs": [],
      "source": [
        "import numpy as np"
      ]
    },
    {
      "cell_type": "code",
      "execution_count": 37,
      "metadata": {
        "id": "TkCQ2VQWFAQ-"
      },
      "outputs": [],
      "source": [
        "#Creation of a data frame\n",
        "df3 = pd.DataFrame(np.random.randn(5,5))"
      ]
    },
    {
      "cell_type": "code",
      "execution_count": 38,
      "metadata": {
        "colab": {
          "base_uri": "https://localhost:8080/",
          "height": 204
        },
        "id": "I3XwBQ2m5KmN",
        "outputId": "686e41e1-ffde-4c48-feba-ec046e2401e2"
      },
      "outputs": [
        {
          "data": {
            "text/html": [
              "<div>\n",
              "<style scoped>\n",
              "    .dataframe tbody tr th:only-of-type {\n",
              "        vertical-align: middle;\n",
              "    }\n",
              "\n",
              "    .dataframe tbody tr th {\n",
              "        vertical-align: top;\n",
              "    }\n",
              "\n",
              "    .dataframe thead th {\n",
              "        text-align: right;\n",
              "    }\n",
              "</style>\n",
              "<table border=\"1\" class=\"dataframe\">\n",
              "  <thead>\n",
              "    <tr style=\"text-align: right;\">\n",
              "      <th></th>\n",
              "      <th>0</th>\n",
              "      <th>1</th>\n",
              "      <th>2</th>\n",
              "      <th>3</th>\n",
              "      <th>4</th>\n",
              "    </tr>\n",
              "  </thead>\n",
              "  <tbody>\n",
              "    <tr>\n",
              "      <th>0</th>\n",
              "      <td>-0.373898</td>\n",
              "      <td>-0.474145</td>\n",
              "      <td>0.614979</td>\n",
              "      <td>0.785583</td>\n",
              "      <td>-0.634452</td>\n",
              "    </tr>\n",
              "    <tr>\n",
              "      <th>1</th>\n",
              "      <td>1.557984</td>\n",
              "      <td>-0.308716</td>\n",
              "      <td>0.085920</td>\n",
              "      <td>-0.325518</td>\n",
              "      <td>-1.947572</td>\n",
              "    </tr>\n",
              "    <tr>\n",
              "      <th>2</th>\n",
              "      <td>0.090482</td>\n",
              "      <td>-0.273892</td>\n",
              "      <td>-1.753362</td>\n",
              "      <td>0.233128</td>\n",
              "      <td>0.699863</td>\n",
              "    </tr>\n",
              "    <tr>\n",
              "      <th>3</th>\n",
              "      <td>-1.382653</td>\n",
              "      <td>0.177407</td>\n",
              "      <td>-0.192794</td>\n",
              "      <td>-0.834401</td>\n",
              "      <td>-1.764331</td>\n",
              "    </tr>\n",
              "    <tr>\n",
              "      <th>4</th>\n",
              "      <td>-0.592204</td>\n",
              "      <td>-0.193043</td>\n",
              "      <td>1.058954</td>\n",
              "      <td>0.885815</td>\n",
              "      <td>0.545031</td>\n",
              "    </tr>\n",
              "  </tbody>\n",
              "</table>\n",
              "</div>"
            ],
            "text/plain": [
              "          0         1         2         3         4\n",
              "0 -0.373898 -0.474145  0.614979  0.785583 -0.634452\n",
              "1  1.557984 -0.308716  0.085920 -0.325518 -1.947572\n",
              "2  0.090482 -0.273892 -1.753362  0.233128  0.699863\n",
              "3 -1.382653  0.177407 -0.192794 -0.834401 -1.764331\n",
              "4 -0.592204 -0.193043  1.058954  0.885815  0.545031"
            ]
          },
          "execution_count": 38,
          "metadata": {},
          "output_type": "execute_result"
        }
      ],
      "source": [
        "df3"
      ]
    },
    {
      "cell_type": "code",
      "execution_count": 39,
      "metadata": {
        "colab": {
          "base_uri": "https://localhost:8080/"
        },
        "id": "2scxENCl5LWb",
        "outputId": "aaacc704-1460-440e-f39c-c7567e9b6e3e"
      },
      "outputs": [
        {
          "data": {
            "text/plain": [
              "(5, 5)"
            ]
          },
          "execution_count": 39,
          "metadata": {},
          "output_type": "execute_result"
        }
      ],
      "source": [
        "df3.shape"
      ]
    },
    {
      "cell_type": "code",
      "execution_count": 40,
      "metadata": {
        "id": "z2sD10XE5vj5"
      },
      "outputs": [],
      "source": [
        "columns = ['zeroth_col','first_col','second_col','third_col','fourth_col']\n",
        "rows = ['zeroth_row','first_row','second_row','third_row','fourth_row']"
      ]
    },
    {
      "cell_type": "code",
      "execution_count": 41,
      "metadata": {
        "id": "-Jdg86ue5SJo"
      },
      "outputs": [],
      "source": [
        "df = pd.DataFrame(data = np.random.randn(5,5),index=rows,columns=columns)"
      ]
    },
    {
      "cell_type": "code",
      "execution_count": 42,
      "metadata": {
        "colab": {
          "base_uri": "https://localhost:8080/",
          "height": 204
        },
        "id": "YYB-XyD46ZF1",
        "outputId": "ee73510b-bf3d-4e3d-8142-88ffe70197ca"
      },
      "outputs": [
        {
          "data": {
            "text/html": [
              "<div>\n",
              "<style scoped>\n",
              "    .dataframe tbody tr th:only-of-type {\n",
              "        vertical-align: middle;\n",
              "    }\n",
              "\n",
              "    .dataframe tbody tr th {\n",
              "        vertical-align: top;\n",
              "    }\n",
              "\n",
              "    .dataframe thead th {\n",
              "        text-align: right;\n",
              "    }\n",
              "</style>\n",
              "<table border=\"1\" class=\"dataframe\">\n",
              "  <thead>\n",
              "    <tr style=\"text-align: right;\">\n",
              "      <th></th>\n",
              "      <th>zeroth_col</th>\n",
              "      <th>first_col</th>\n",
              "      <th>second_col</th>\n",
              "      <th>third_col</th>\n",
              "      <th>fourth_col</th>\n",
              "    </tr>\n",
              "  </thead>\n",
              "  <tbody>\n",
              "    <tr>\n",
              "      <th>zeroth_row</th>\n",
              "      <td>-2.072030</td>\n",
              "      <td>1.073720</td>\n",
              "      <td>0.800532</td>\n",
              "      <td>-0.998065</td>\n",
              "      <td>1.036825</td>\n",
              "    </tr>\n",
              "    <tr>\n",
              "      <th>first_row</th>\n",
              "      <td>1.450970</td>\n",
              "      <td>0.517635</td>\n",
              "      <td>0.259304</td>\n",
              "      <td>0.164285</td>\n",
              "      <td>-1.130995</td>\n",
              "    </tr>\n",
              "    <tr>\n",
              "      <th>second_row</th>\n",
              "      <td>-0.065364</td>\n",
              "      <td>-1.524064</td>\n",
              "      <td>-0.375354</td>\n",
              "      <td>1.711469</td>\n",
              "      <td>0.827991</td>\n",
              "    </tr>\n",
              "    <tr>\n",
              "      <th>third_row</th>\n",
              "      <td>-0.391266</td>\n",
              "      <td>0.148391</td>\n",
              "      <td>-0.493540</td>\n",
              "      <td>0.704497</td>\n",
              "      <td>-0.153961</td>\n",
              "    </tr>\n",
              "    <tr>\n",
              "      <th>fourth_row</th>\n",
              "      <td>-0.952707</td>\n",
              "      <td>-0.671805</td>\n",
              "      <td>1.465860</td>\n",
              "      <td>-0.627640</td>\n",
              "      <td>-0.101273</td>\n",
              "    </tr>\n",
              "  </tbody>\n",
              "</table>\n",
              "</div>"
            ],
            "text/plain": [
              "            zeroth_col  first_col  second_col  third_col  fourth_col\n",
              "zeroth_row   -2.072030   1.073720    0.800532  -0.998065    1.036825\n",
              "first_row     1.450970   0.517635    0.259304   0.164285   -1.130995\n",
              "second_row   -0.065364  -1.524064   -0.375354   1.711469    0.827991\n",
              "third_row    -0.391266   0.148391   -0.493540   0.704497   -0.153961\n",
              "fourth_row   -0.952707  -0.671805    1.465860  -0.627640   -0.101273"
            ]
          },
          "execution_count": 42,
          "metadata": {},
          "output_type": "execute_result"
        }
      ],
      "source": [
        "df"
      ]
    },
    {
      "cell_type": "code",
      "execution_count": 43,
      "metadata": {
        "colab": {
          "base_uri": "https://localhost:8080/",
          "height": 204
        },
        "id": "XbjfCdUk6emz",
        "outputId": "8889ff14-acd7-4126-f03d-2c5d0b302f2c"
      },
      "outputs": [
        {
          "data": {
            "text/html": [
              "<div>\n",
              "<style scoped>\n",
              "    .dataframe tbody tr th:only-of-type {\n",
              "        vertical-align: middle;\n",
              "    }\n",
              "\n",
              "    .dataframe tbody tr th {\n",
              "        vertical-align: top;\n",
              "    }\n",
              "\n",
              "    .dataframe thead th {\n",
              "        text-align: right;\n",
              "    }\n",
              "</style>\n",
              "<table border=\"1\" class=\"dataframe\">\n",
              "  <thead>\n",
              "    <tr style=\"text-align: right;\">\n",
              "      <th></th>\n",
              "      <th>zeroth_col</th>\n",
              "      <th>first_col</th>\n",
              "      <th>second_col</th>\n",
              "      <th>third_col</th>\n",
              "      <th>fourth_col</th>\n",
              "    </tr>\n",
              "  </thead>\n",
              "  <tbody>\n",
              "    <tr>\n",
              "      <th>zeroth_row</th>\n",
              "      <td>-2.072030</td>\n",
              "      <td>1.073720</td>\n",
              "      <td>0.800532</td>\n",
              "      <td>-0.998065</td>\n",
              "      <td>1.036825</td>\n",
              "    </tr>\n",
              "    <tr>\n",
              "      <th>first_row</th>\n",
              "      <td>1.450970</td>\n",
              "      <td>0.517635</td>\n",
              "      <td>0.259304</td>\n",
              "      <td>0.164285</td>\n",
              "      <td>-1.130995</td>\n",
              "    </tr>\n",
              "    <tr>\n",
              "      <th>second_row</th>\n",
              "      <td>-0.065364</td>\n",
              "      <td>-1.524064</td>\n",
              "      <td>-0.375354</td>\n",
              "      <td>1.711469</td>\n",
              "      <td>0.827991</td>\n",
              "    </tr>\n",
              "    <tr>\n",
              "      <th>third_row</th>\n",
              "      <td>-0.391266</td>\n",
              "      <td>0.148391</td>\n",
              "      <td>-0.493540</td>\n",
              "      <td>0.704497</td>\n",
              "      <td>-0.153961</td>\n",
              "    </tr>\n",
              "    <tr>\n",
              "      <th>fourth_row</th>\n",
              "      <td>-0.952707</td>\n",
              "      <td>-0.671805</td>\n",
              "      <td>1.465860</td>\n",
              "      <td>-0.627640</td>\n",
              "      <td>-0.101273</td>\n",
              "    </tr>\n",
              "  </tbody>\n",
              "</table>\n",
              "</div>"
            ],
            "text/plain": [
              "            zeroth_col  first_col  second_col  third_col  fourth_col\n",
              "zeroth_row   -2.072030   1.073720    0.800532  -0.998065    1.036825\n",
              "first_row     1.450970   0.517635    0.259304   0.164285   -1.130995\n",
              "second_row   -0.065364  -1.524064   -0.375354   1.711469    0.827991\n",
              "third_row    -0.391266   0.148391   -0.493540   0.704497   -0.153961\n",
              "fourth_row   -0.952707  -0.671805    1.465860  -0.627640   -0.101273"
            ]
          },
          "execution_count": 43,
          "metadata": {},
          "output_type": "execute_result"
        }
      ],
      "source": [
        "#Top 5 rows\n",
        "df.head(5)"
      ]
    },
    {
      "cell_type": "code",
      "execution_count": 44,
      "metadata": {
        "colab": {
          "base_uri": "https://localhost:8080/",
          "height": 204
        },
        "id": "vdR34Dgw7FaH",
        "outputId": "36ac826f-9414-4ba5-c719-3689791fba13"
      },
      "outputs": [
        {
          "data": {
            "text/html": [
              "<div>\n",
              "<style scoped>\n",
              "    .dataframe tbody tr th:only-of-type {\n",
              "        vertical-align: middle;\n",
              "    }\n",
              "\n",
              "    .dataframe tbody tr th {\n",
              "        vertical-align: top;\n",
              "    }\n",
              "\n",
              "    .dataframe thead th {\n",
              "        text-align: right;\n",
              "    }\n",
              "</style>\n",
              "<table border=\"1\" class=\"dataframe\">\n",
              "  <thead>\n",
              "    <tr style=\"text-align: right;\">\n",
              "      <th></th>\n",
              "      <th>zeroth_col</th>\n",
              "      <th>first_col</th>\n",
              "      <th>second_col</th>\n",
              "      <th>third_col</th>\n",
              "      <th>fourth_col</th>\n",
              "    </tr>\n",
              "  </thead>\n",
              "  <tbody>\n",
              "    <tr>\n",
              "      <th>zeroth_row</th>\n",
              "      <td>-2.072030</td>\n",
              "      <td>1.073720</td>\n",
              "      <td>0.800532</td>\n",
              "      <td>-0.998065</td>\n",
              "      <td>1.036825</td>\n",
              "    </tr>\n",
              "    <tr>\n",
              "      <th>first_row</th>\n",
              "      <td>1.450970</td>\n",
              "      <td>0.517635</td>\n",
              "      <td>0.259304</td>\n",
              "      <td>0.164285</td>\n",
              "      <td>-1.130995</td>\n",
              "    </tr>\n",
              "    <tr>\n",
              "      <th>second_row</th>\n",
              "      <td>-0.065364</td>\n",
              "      <td>-1.524064</td>\n",
              "      <td>-0.375354</td>\n",
              "      <td>1.711469</td>\n",
              "      <td>0.827991</td>\n",
              "    </tr>\n",
              "    <tr>\n",
              "      <th>third_row</th>\n",
              "      <td>-0.391266</td>\n",
              "      <td>0.148391</td>\n",
              "      <td>-0.493540</td>\n",
              "      <td>0.704497</td>\n",
              "      <td>-0.153961</td>\n",
              "    </tr>\n",
              "    <tr>\n",
              "      <th>fourth_row</th>\n",
              "      <td>-0.952707</td>\n",
              "      <td>-0.671805</td>\n",
              "      <td>1.465860</td>\n",
              "      <td>-0.627640</td>\n",
              "      <td>-0.101273</td>\n",
              "    </tr>\n",
              "  </tbody>\n",
              "</table>\n",
              "</div>"
            ],
            "text/plain": [
              "            zeroth_col  first_col  second_col  third_col  fourth_col\n",
              "zeroth_row   -2.072030   1.073720    0.800532  -0.998065    1.036825\n",
              "first_row     1.450970   0.517635    0.259304   0.164285   -1.130995\n",
              "second_row   -0.065364  -1.524064   -0.375354   1.711469    0.827991\n",
              "third_row    -0.391266   0.148391   -0.493540   0.704497   -0.153961\n",
              "fourth_row   -0.952707  -0.671805    1.465860  -0.627640   -0.101273"
            ]
          },
          "execution_count": 44,
          "metadata": {},
          "output_type": "execute_result"
        }
      ],
      "source": [
        "#bottom 5 rows\n",
        "df.tail()"
      ]
    },
    {
      "cell_type": "code",
      "execution_count": 45,
      "metadata": {
        "colab": {
          "base_uri": "https://localhost:8080/"
        },
        "id": "tRcsua0j7dDo",
        "outputId": "e0ce3105-55c8-4dc2-cf32-f95317efe5a7"
      },
      "outputs": [
        {
          "data": {
            "text/plain": [
              "zeroth_row    1.036825\n",
              "first_row    -1.130995\n",
              "second_row    0.827991\n",
              "third_row    -0.153961\n",
              "fourth_row   -0.101273\n",
              "Name: fourth_col, dtype: float64"
            ]
          },
          "execution_count": 45,
          "metadata": {},
          "output_type": "execute_result"
        }
      ],
      "source": [
        "#Accessing/displaying of single column in series\n",
        "df['fourth_col']"
      ]
    },
    {
      "cell_type": "code",
      "execution_count": 46,
      "metadata": {
        "colab": {
          "base_uri": "https://localhost:8080/",
          "height": 204
        },
        "id": "C0bKLT_A8LMY",
        "outputId": "1ae7c0fb-0711-44d0-8a10-8582b2cfdaea"
      },
      "outputs": [
        {
          "data": {
            "text/html": [
              "<div>\n",
              "<style scoped>\n",
              "    .dataframe tbody tr th:only-of-type {\n",
              "        vertical-align: middle;\n",
              "    }\n",
              "\n",
              "    .dataframe tbody tr th {\n",
              "        vertical-align: top;\n",
              "    }\n",
              "\n",
              "    .dataframe thead th {\n",
              "        text-align: right;\n",
              "    }\n",
              "</style>\n",
              "<table border=\"1\" class=\"dataframe\">\n",
              "  <thead>\n",
              "    <tr style=\"text-align: right;\">\n",
              "      <th></th>\n",
              "      <th>fourth_col</th>\n",
              "    </tr>\n",
              "  </thead>\n",
              "  <tbody>\n",
              "    <tr>\n",
              "      <th>zeroth_row</th>\n",
              "      <td>1.036825</td>\n",
              "    </tr>\n",
              "    <tr>\n",
              "      <th>first_row</th>\n",
              "      <td>-1.130995</td>\n",
              "    </tr>\n",
              "    <tr>\n",
              "      <th>second_row</th>\n",
              "      <td>0.827991</td>\n",
              "    </tr>\n",
              "    <tr>\n",
              "      <th>third_row</th>\n",
              "      <td>-0.153961</td>\n",
              "    </tr>\n",
              "    <tr>\n",
              "      <th>fourth_row</th>\n",
              "      <td>-0.101273</td>\n",
              "    </tr>\n",
              "  </tbody>\n",
              "</table>\n",
              "</div>"
            ],
            "text/plain": [
              "            fourth_col\n",
              "zeroth_row    1.036825\n",
              "first_row    -1.130995\n",
              "second_row    0.827991\n",
              "third_row    -0.153961\n",
              "fourth_row   -0.101273"
            ]
          },
          "execution_count": 46,
          "metadata": {},
          "output_type": "execute_result"
        }
      ],
      "source": [
        "#Accessing/displaying of single column in dataframe\n",
        "df[['fourth_col']]"
      ]
    },
    {
      "cell_type": "code",
      "execution_count": 47,
      "metadata": {
        "colab": {
          "base_uri": "https://localhost:8080/",
          "height": 204
        },
        "id": "iVmOUYEQ8b2t",
        "outputId": "6405c378-1654-45b4-abd7-8086a004f3bd"
      },
      "outputs": [
        {
          "data": {
            "text/html": [
              "<div>\n",
              "<style scoped>\n",
              "    .dataframe tbody tr th:only-of-type {\n",
              "        vertical-align: middle;\n",
              "    }\n",
              "\n",
              "    .dataframe tbody tr th {\n",
              "        vertical-align: top;\n",
              "    }\n",
              "\n",
              "    .dataframe thead th {\n",
              "        text-align: right;\n",
              "    }\n",
              "</style>\n",
              "<table border=\"1\" class=\"dataframe\">\n",
              "  <thead>\n",
              "    <tr style=\"text-align: right;\">\n",
              "      <th></th>\n",
              "      <th>zeroth_col</th>\n",
              "    </tr>\n",
              "  </thead>\n",
              "  <tbody>\n",
              "    <tr>\n",
              "      <th>zeroth_row</th>\n",
              "      <td>-2.072030</td>\n",
              "    </tr>\n",
              "    <tr>\n",
              "      <th>first_row</th>\n",
              "      <td>1.450970</td>\n",
              "    </tr>\n",
              "    <tr>\n",
              "      <th>second_row</th>\n",
              "      <td>-0.065364</td>\n",
              "    </tr>\n",
              "    <tr>\n",
              "      <th>third_row</th>\n",
              "      <td>-0.391266</td>\n",
              "    </tr>\n",
              "    <tr>\n",
              "      <th>fourth_row</th>\n",
              "      <td>-0.952707</td>\n",
              "    </tr>\n",
              "  </tbody>\n",
              "</table>\n",
              "</div>"
            ],
            "text/plain": [
              "            zeroth_col\n",
              "zeroth_row   -2.072030\n",
              "first_row     1.450970\n",
              "second_row   -0.065364\n",
              "third_row    -0.391266\n",
              "fourth_row   -0.952707"
            ]
          },
          "execution_count": 47,
          "metadata": {},
          "output_type": "execute_result"
        }
      ],
      "source": [
        "df[['zeroth_col']]"
      ]
    },
    {
      "cell_type": "code",
      "execution_count": 48,
      "metadata": {
        "colab": {
          "base_uri": "https://localhost:8080/",
          "height": 204
        },
        "id": "Ve_dmNd58q3m",
        "outputId": "b5238951-4604-4ec9-bd46-f29cef392dad"
      },
      "outputs": [
        {
          "data": {
            "text/html": [
              "<div>\n",
              "<style scoped>\n",
              "    .dataframe tbody tr th:only-of-type {\n",
              "        vertical-align: middle;\n",
              "    }\n",
              "\n",
              "    .dataframe tbody tr th {\n",
              "        vertical-align: top;\n",
              "    }\n",
              "\n",
              "    .dataframe thead th {\n",
              "        text-align: right;\n",
              "    }\n",
              "</style>\n",
              "<table border=\"1\" class=\"dataframe\">\n",
              "  <thead>\n",
              "    <tr style=\"text-align: right;\">\n",
              "      <th></th>\n",
              "      <th>second_col</th>\n",
              "    </tr>\n",
              "  </thead>\n",
              "  <tbody>\n",
              "    <tr>\n",
              "      <th>zeroth_row</th>\n",
              "      <td>0.800532</td>\n",
              "    </tr>\n",
              "    <tr>\n",
              "      <th>first_row</th>\n",
              "      <td>0.259304</td>\n",
              "    </tr>\n",
              "    <tr>\n",
              "      <th>second_row</th>\n",
              "      <td>-0.375354</td>\n",
              "    </tr>\n",
              "    <tr>\n",
              "      <th>third_row</th>\n",
              "      <td>-0.493540</td>\n",
              "    </tr>\n",
              "    <tr>\n",
              "      <th>fourth_row</th>\n",
              "      <td>1.465860</td>\n",
              "    </tr>\n",
              "  </tbody>\n",
              "</table>\n",
              "</div>"
            ],
            "text/plain": [
              "            second_col\n",
              "zeroth_row    0.800532\n",
              "first_row     0.259304\n",
              "second_row   -0.375354\n",
              "third_row    -0.493540\n",
              "fourth_row    1.465860"
            ]
          },
          "execution_count": 48,
          "metadata": {},
          "output_type": "execute_result"
        }
      ],
      "source": [
        "df[['second_col']]"
      ]
    },
    {
      "cell_type": "code",
      "execution_count": 49,
      "metadata": {
        "colab": {
          "base_uri": "https://localhost:8080/",
          "height": 204
        },
        "id": "EdgxWHHN8te1",
        "outputId": "835bac72-7b8f-48e6-aa07-dc4c07e46e87"
      },
      "outputs": [
        {
          "data": {
            "text/html": [
              "<div>\n",
              "<style scoped>\n",
              "    .dataframe tbody tr th:only-of-type {\n",
              "        vertical-align: middle;\n",
              "    }\n",
              "\n",
              "    .dataframe tbody tr th {\n",
              "        vertical-align: top;\n",
              "    }\n",
              "\n",
              "    .dataframe thead th {\n",
              "        text-align: right;\n",
              "    }\n",
              "</style>\n",
              "<table border=\"1\" class=\"dataframe\">\n",
              "  <thead>\n",
              "    <tr style=\"text-align: right;\">\n",
              "      <th></th>\n",
              "      <th>fourth_col</th>\n",
              "      <th>zeroth_col</th>\n",
              "    </tr>\n",
              "  </thead>\n",
              "  <tbody>\n",
              "    <tr>\n",
              "      <th>zeroth_row</th>\n",
              "      <td>1.036825</td>\n",
              "      <td>-2.072030</td>\n",
              "    </tr>\n",
              "    <tr>\n",
              "      <th>first_row</th>\n",
              "      <td>-1.130995</td>\n",
              "      <td>1.450970</td>\n",
              "    </tr>\n",
              "    <tr>\n",
              "      <th>second_row</th>\n",
              "      <td>0.827991</td>\n",
              "      <td>-0.065364</td>\n",
              "    </tr>\n",
              "    <tr>\n",
              "      <th>third_row</th>\n",
              "      <td>-0.153961</td>\n",
              "      <td>-0.391266</td>\n",
              "    </tr>\n",
              "    <tr>\n",
              "      <th>fourth_row</th>\n",
              "      <td>-0.101273</td>\n",
              "      <td>-0.952707</td>\n",
              "    </tr>\n",
              "  </tbody>\n",
              "</table>\n",
              "</div>"
            ],
            "text/plain": [
              "            fourth_col  zeroth_col\n",
              "zeroth_row    1.036825   -2.072030\n",
              "first_row    -1.130995    1.450970\n",
              "second_row    0.827991   -0.065364\n",
              "third_row    -0.153961   -0.391266\n",
              "fourth_row   -0.101273   -0.952707"
            ]
          },
          "execution_count": 49,
          "metadata": {},
          "output_type": "execute_result"
        }
      ],
      "source": [
        "#Access multiple columns in a dataframe\n",
        "df[['fourth_col','zeroth_col']]"
      ]
    },
    {
      "cell_type": "code",
      "execution_count": 50,
      "metadata": {
        "colab": {
          "base_uri": "https://localhost:8080/",
          "height": 204
        },
        "id": "_WG3Ka2T9EJr",
        "outputId": "92df4f1a-67e9-413a-c2dc-a71b9ba10045"
      },
      "outputs": [
        {
          "data": {
            "text/html": [
              "<div>\n",
              "<style scoped>\n",
              "    .dataframe tbody tr th:only-of-type {\n",
              "        vertical-align: middle;\n",
              "    }\n",
              "\n",
              "    .dataframe tbody tr th {\n",
              "        vertical-align: top;\n",
              "    }\n",
              "\n",
              "    .dataframe thead th {\n",
              "        text-align: right;\n",
              "    }\n",
              "</style>\n",
              "<table border=\"1\" class=\"dataframe\">\n",
              "  <thead>\n",
              "    <tr style=\"text-align: right;\">\n",
              "      <th></th>\n",
              "      <th>fourth_col</th>\n",
              "      <th>zeroth_col</th>\n",
              "      <th>second_col</th>\n",
              "    </tr>\n",
              "  </thead>\n",
              "  <tbody>\n",
              "    <tr>\n",
              "      <th>zeroth_row</th>\n",
              "      <td>1.036825</td>\n",
              "      <td>-2.072030</td>\n",
              "      <td>0.800532</td>\n",
              "    </tr>\n",
              "    <tr>\n",
              "      <th>first_row</th>\n",
              "      <td>-1.130995</td>\n",
              "      <td>1.450970</td>\n",
              "      <td>0.259304</td>\n",
              "    </tr>\n",
              "    <tr>\n",
              "      <th>second_row</th>\n",
              "      <td>0.827991</td>\n",
              "      <td>-0.065364</td>\n",
              "      <td>-0.375354</td>\n",
              "    </tr>\n",
              "    <tr>\n",
              "      <th>third_row</th>\n",
              "      <td>-0.153961</td>\n",
              "      <td>-0.391266</td>\n",
              "      <td>-0.493540</td>\n",
              "    </tr>\n",
              "    <tr>\n",
              "      <th>fourth_row</th>\n",
              "      <td>-0.101273</td>\n",
              "      <td>-0.952707</td>\n",
              "      <td>1.465860</td>\n",
              "    </tr>\n",
              "  </tbody>\n",
              "</table>\n",
              "</div>"
            ],
            "text/plain": [
              "            fourth_col  zeroth_col  second_col\n",
              "zeroth_row    1.036825   -2.072030    0.800532\n",
              "first_row    -1.130995    1.450970    0.259304\n",
              "second_row    0.827991   -0.065364   -0.375354\n",
              "third_row    -0.153961   -0.391266   -0.493540\n",
              "fourth_row   -0.101273   -0.952707    1.465860"
            ]
          },
          "execution_count": 50,
          "metadata": {},
          "output_type": "execute_result"
        }
      ],
      "source": [
        "df[['fourth_col','zeroth_col','second_col']]"
      ]
    },
    {
      "cell_type": "code",
      "execution_count": 51,
      "metadata": {
        "colab": {
          "base_uri": "https://localhost:8080/",
          "height": 204
        },
        "id": "rnXy1Qsw9XXg",
        "outputId": "e23acba1-b3f2-4e90-c17c-e486362c61ba"
      },
      "outputs": [
        {
          "data": {
            "text/html": [
              "<div>\n",
              "<style scoped>\n",
              "    .dataframe tbody tr th:only-of-type {\n",
              "        vertical-align: middle;\n",
              "    }\n",
              "\n",
              "    .dataframe tbody tr th {\n",
              "        vertical-align: top;\n",
              "    }\n",
              "\n",
              "    .dataframe thead th {\n",
              "        text-align: right;\n",
              "    }\n",
              "</style>\n",
              "<table border=\"1\" class=\"dataframe\">\n",
              "  <thead>\n",
              "    <tr style=\"text-align: right;\">\n",
              "      <th></th>\n",
              "      <th>zeroth_col</th>\n",
              "      <th>first_col</th>\n",
              "      <th>second_col</th>\n",
              "      <th>third_col</th>\n",
              "      <th>fourth_col</th>\n",
              "    </tr>\n",
              "  </thead>\n",
              "  <tbody>\n",
              "    <tr>\n",
              "      <th>zeroth_row</th>\n",
              "      <td>-2.072030</td>\n",
              "      <td>1.073720</td>\n",
              "      <td>0.800532</td>\n",
              "      <td>-0.998065</td>\n",
              "      <td>1.036825</td>\n",
              "    </tr>\n",
              "    <tr>\n",
              "      <th>first_row</th>\n",
              "      <td>1.450970</td>\n",
              "      <td>0.517635</td>\n",
              "      <td>0.259304</td>\n",
              "      <td>0.164285</td>\n",
              "      <td>-1.130995</td>\n",
              "    </tr>\n",
              "    <tr>\n",
              "      <th>second_row</th>\n",
              "      <td>-0.065364</td>\n",
              "      <td>-1.524064</td>\n",
              "      <td>-0.375354</td>\n",
              "      <td>1.711469</td>\n",
              "      <td>0.827991</td>\n",
              "    </tr>\n",
              "    <tr>\n",
              "      <th>third_row</th>\n",
              "      <td>-0.391266</td>\n",
              "      <td>0.148391</td>\n",
              "      <td>-0.493540</td>\n",
              "      <td>0.704497</td>\n",
              "      <td>-0.153961</td>\n",
              "    </tr>\n",
              "    <tr>\n",
              "      <th>fourth_row</th>\n",
              "      <td>-0.952707</td>\n",
              "      <td>-0.671805</td>\n",
              "      <td>1.465860</td>\n",
              "      <td>-0.627640</td>\n",
              "      <td>-0.101273</td>\n",
              "    </tr>\n",
              "  </tbody>\n",
              "</table>\n",
              "</div>"
            ],
            "text/plain": [
              "            zeroth_col  first_col  second_col  third_col  fourth_col\n",
              "zeroth_row   -2.072030   1.073720    0.800532  -0.998065    1.036825\n",
              "first_row     1.450970   0.517635    0.259304   0.164285   -1.130995\n",
              "second_row   -0.065364  -1.524064   -0.375354   1.711469    0.827991\n",
              "third_row    -0.391266   0.148391   -0.493540   0.704497   -0.153961\n",
              "fourth_row   -0.952707  -0.671805    1.465860  -0.627640   -0.101273"
            ]
          },
          "execution_count": 51,
          "metadata": {},
          "output_type": "execute_result"
        }
      ],
      "source": [
        "df"
      ]
    },
    {
      "cell_type": "code",
      "execution_count": 52,
      "metadata": {
        "colab": {
          "base_uri": "https://localhost:8080/"
        },
        "id": "Hj5AxQF_9gIm",
        "outputId": "b2a36ea3-e1ee-4b85-92a7-86281e970fd8"
      },
      "outputs": [
        {
          "data": {
            "text/plain": [
              "zeroth_col    1.450970\n",
              "first_col     0.517635\n",
              "second_col    0.259304\n",
              "third_col     0.164285\n",
              "fourth_col   -1.130995\n",
              "Name: first_row, dtype: float64"
            ]
          },
          "execution_count": 52,
          "metadata": {},
          "output_type": "execute_result"
        }
      ],
      "source": [
        "#Accessing of rows in series using .loc function\n",
        "df.loc['first_row']"
      ]
    },
    {
      "cell_type": "code",
      "execution_count": 53,
      "metadata": {
        "colab": {
          "base_uri": "https://localhost:8080/",
          "height": 80
        },
        "id": "c8UMPYX6-BHQ",
        "outputId": "ad0d8390-4b41-491e-fe01-9381361b8e3d"
      },
      "outputs": [
        {
          "data": {
            "text/html": [
              "<div>\n",
              "<style scoped>\n",
              "    .dataframe tbody tr th:only-of-type {\n",
              "        vertical-align: middle;\n",
              "    }\n",
              "\n",
              "    .dataframe tbody tr th {\n",
              "        vertical-align: top;\n",
              "    }\n",
              "\n",
              "    .dataframe thead th {\n",
              "        text-align: right;\n",
              "    }\n",
              "</style>\n",
              "<table border=\"1\" class=\"dataframe\">\n",
              "  <thead>\n",
              "    <tr style=\"text-align: right;\">\n",
              "      <th></th>\n",
              "      <th>zeroth_col</th>\n",
              "      <th>first_col</th>\n",
              "      <th>second_col</th>\n",
              "      <th>third_col</th>\n",
              "      <th>fourth_col</th>\n",
              "    </tr>\n",
              "  </thead>\n",
              "  <tbody>\n",
              "    <tr>\n",
              "      <th>first_row</th>\n",
              "      <td>1.45097</td>\n",
              "      <td>0.517635</td>\n",
              "      <td>0.259304</td>\n",
              "      <td>0.164285</td>\n",
              "      <td>-1.130995</td>\n",
              "    </tr>\n",
              "  </tbody>\n",
              "</table>\n",
              "</div>"
            ],
            "text/plain": [
              "           zeroth_col  first_col  second_col  third_col  fourth_col\n",
              "first_row     1.45097   0.517635    0.259304   0.164285   -1.130995"
            ]
          },
          "execution_count": 53,
          "metadata": {},
          "output_type": "execute_result"
        }
      ],
      "source": [
        "df.loc[['first_row']] #Accessing of rows in a data frame"
      ]
    },
    {
      "cell_type": "code",
      "execution_count": 54,
      "metadata": {
        "colab": {
          "base_uri": "https://localhost:8080/",
          "height": 204
        },
        "id": "-5M7hZX1-JBb",
        "outputId": "d19a6190-2677-4ecc-f88d-cd05a08f3a6f"
      },
      "outputs": [
        {
          "data": {
            "text/html": [
              "<div>\n",
              "<style scoped>\n",
              "    .dataframe tbody tr th:only-of-type {\n",
              "        vertical-align: middle;\n",
              "    }\n",
              "\n",
              "    .dataframe tbody tr th {\n",
              "        vertical-align: top;\n",
              "    }\n",
              "\n",
              "    .dataframe thead th {\n",
              "        text-align: right;\n",
              "    }\n",
              "</style>\n",
              "<table border=\"1\" class=\"dataframe\">\n",
              "  <thead>\n",
              "    <tr style=\"text-align: right;\">\n",
              "      <th></th>\n",
              "      <th>first_row</th>\n",
              "    </tr>\n",
              "  </thead>\n",
              "  <tbody>\n",
              "    <tr>\n",
              "      <th>zeroth_col</th>\n",
              "      <td>1.450970</td>\n",
              "    </tr>\n",
              "    <tr>\n",
              "      <th>first_col</th>\n",
              "      <td>0.517635</td>\n",
              "    </tr>\n",
              "    <tr>\n",
              "      <th>second_col</th>\n",
              "      <td>0.259304</td>\n",
              "    </tr>\n",
              "    <tr>\n",
              "      <th>third_col</th>\n",
              "      <td>0.164285</td>\n",
              "    </tr>\n",
              "    <tr>\n",
              "      <th>fourth_col</th>\n",
              "      <td>-1.130995</td>\n",
              "    </tr>\n",
              "  </tbody>\n",
              "</table>\n",
              "</div>"
            ],
            "text/plain": [
              "            first_row\n",
              "zeroth_col   1.450970\n",
              "first_col    0.517635\n",
              "second_col   0.259304\n",
              "third_col    0.164285\n",
              "fourth_col  -1.130995"
            ]
          },
          "execution_count": 54,
          "metadata": {},
          "output_type": "execute_result"
        }
      ],
      "source": [
        "df.loc[['first_row']].T #Transposing a dataframe using .loc function"
      ]
    },
    {
      "cell_type": "code",
      "execution_count": 55,
      "metadata": {
        "colab": {
          "base_uri": "https://localhost:8080/",
          "height": 111
        },
        "id": "3DKAfrMW-Uqj",
        "outputId": "ad27384a-3030-49d1-8985-87b0ba383a28"
      },
      "outputs": [
        {
          "data": {
            "text/html": [
              "<div>\n",
              "<style scoped>\n",
              "    .dataframe tbody tr th:only-of-type {\n",
              "        vertical-align: middle;\n",
              "    }\n",
              "\n",
              "    .dataframe tbody tr th {\n",
              "        vertical-align: top;\n",
              "    }\n",
              "\n",
              "    .dataframe thead th {\n",
              "        text-align: right;\n",
              "    }\n",
              "</style>\n",
              "<table border=\"1\" class=\"dataframe\">\n",
              "  <thead>\n",
              "    <tr style=\"text-align: right;\">\n",
              "      <th></th>\n",
              "      <th>zeroth_col</th>\n",
              "      <th>first_col</th>\n",
              "      <th>second_col</th>\n",
              "      <th>third_col</th>\n",
              "      <th>fourth_col</th>\n",
              "    </tr>\n",
              "  </thead>\n",
              "  <tbody>\n",
              "    <tr>\n",
              "      <th>second_row</th>\n",
              "      <td>-0.065364</td>\n",
              "      <td>-1.524064</td>\n",
              "      <td>-0.375354</td>\n",
              "      <td>1.711469</td>\n",
              "      <td>0.827991</td>\n",
              "    </tr>\n",
              "    <tr>\n",
              "      <th>zeroth_row</th>\n",
              "      <td>-2.072030</td>\n",
              "      <td>1.073720</td>\n",
              "      <td>0.800532</td>\n",
              "      <td>-0.998065</td>\n",
              "      <td>1.036825</td>\n",
              "    </tr>\n",
              "  </tbody>\n",
              "</table>\n",
              "</div>"
            ],
            "text/plain": [
              "            zeroth_col  first_col  second_col  third_col  fourth_col\n",
              "second_row   -0.065364  -1.524064   -0.375354   1.711469    0.827991\n",
              "zeroth_row   -2.072030   1.073720    0.800532  -0.998065    1.036825"
            ]
          },
          "execution_count": 55,
          "metadata": {},
          "output_type": "execute_result"
        }
      ],
      "source": [
        "#Accessing of multiple rows \n",
        "df.loc[['second_row','zeroth_row']]"
      ]
    },
    {
      "cell_type": "code",
      "execution_count": 56,
      "metadata": {
        "colab": {
          "base_uri": "https://localhost:8080/",
          "height": 204
        },
        "id": "_UhnRKZY-7tf",
        "outputId": "70704b3e-0dcd-4a7b-f1a0-eec6c94f060d"
      },
      "outputs": [
        {
          "data": {
            "text/html": [
              "<div>\n",
              "<style scoped>\n",
              "    .dataframe tbody tr th:only-of-type {\n",
              "        vertical-align: middle;\n",
              "    }\n",
              "\n",
              "    .dataframe tbody tr th {\n",
              "        vertical-align: top;\n",
              "    }\n",
              "\n",
              "    .dataframe thead th {\n",
              "        text-align: right;\n",
              "    }\n",
              "</style>\n",
              "<table border=\"1\" class=\"dataframe\">\n",
              "  <thead>\n",
              "    <tr style=\"text-align: right;\">\n",
              "      <th></th>\n",
              "      <th>zeroth_row</th>\n",
              "      <th>second_row</th>\n",
              "    </tr>\n",
              "  </thead>\n",
              "  <tbody>\n",
              "    <tr>\n",
              "      <th>zeroth_col</th>\n",
              "      <td>-2.072030</td>\n",
              "      <td>-0.065364</td>\n",
              "    </tr>\n",
              "    <tr>\n",
              "      <th>first_col</th>\n",
              "      <td>1.073720</td>\n",
              "      <td>-1.524064</td>\n",
              "    </tr>\n",
              "    <tr>\n",
              "      <th>second_col</th>\n",
              "      <td>0.800532</td>\n",
              "      <td>-0.375354</td>\n",
              "    </tr>\n",
              "    <tr>\n",
              "      <th>third_col</th>\n",
              "      <td>-0.998065</td>\n",
              "      <td>1.711469</td>\n",
              "    </tr>\n",
              "    <tr>\n",
              "      <th>fourth_col</th>\n",
              "      <td>1.036825</td>\n",
              "      <td>0.827991</td>\n",
              "    </tr>\n",
              "  </tbody>\n",
              "</table>\n",
              "</div>"
            ],
            "text/plain": [
              "            zeroth_row  second_row\n",
              "zeroth_col   -2.072030   -0.065364\n",
              "first_col     1.073720   -1.524064\n",
              "second_col    0.800532   -0.375354\n",
              "third_col    -0.998065    1.711469\n",
              "fourth_col    1.036825    0.827991"
            ]
          },
          "execution_count": 56,
          "metadata": {},
          "output_type": "execute_result"
        }
      ],
      "source": [
        "df.loc[['zeroth_row','second_row']].T"
      ]
    },
    {
      "cell_type": "code",
      "execution_count": 57,
      "metadata": {
        "colab": {
          "base_uri": "https://localhost:8080/",
          "height": 204
        },
        "id": "YeFz7vIy_BtJ",
        "outputId": "ed03d057-1922-4f87-fdc8-14710933bedf"
      },
      "outputs": [
        {
          "data": {
            "text/html": [
              "<div>\n",
              "<style scoped>\n",
              "    .dataframe tbody tr th:only-of-type {\n",
              "        vertical-align: middle;\n",
              "    }\n",
              "\n",
              "    .dataframe tbody tr th {\n",
              "        vertical-align: top;\n",
              "    }\n",
              "\n",
              "    .dataframe thead th {\n",
              "        text-align: right;\n",
              "    }\n",
              "</style>\n",
              "<table border=\"1\" class=\"dataframe\">\n",
              "  <thead>\n",
              "    <tr style=\"text-align: right;\">\n",
              "      <th></th>\n",
              "      <th>zeroth_col</th>\n",
              "      <th>first_col</th>\n",
              "      <th>second_col</th>\n",
              "      <th>third_col</th>\n",
              "      <th>fourth_col</th>\n",
              "    </tr>\n",
              "  </thead>\n",
              "  <tbody>\n",
              "    <tr>\n",
              "      <th>zeroth_row</th>\n",
              "      <td>-2.072030</td>\n",
              "      <td>1.073720</td>\n",
              "      <td>0.800532</td>\n",
              "      <td>-0.998065</td>\n",
              "      <td>1.036825</td>\n",
              "    </tr>\n",
              "    <tr>\n",
              "      <th>first_row</th>\n",
              "      <td>1.450970</td>\n",
              "      <td>0.517635</td>\n",
              "      <td>0.259304</td>\n",
              "      <td>0.164285</td>\n",
              "      <td>-1.130995</td>\n",
              "    </tr>\n",
              "    <tr>\n",
              "      <th>second_row</th>\n",
              "      <td>-0.065364</td>\n",
              "      <td>-1.524064</td>\n",
              "      <td>-0.375354</td>\n",
              "      <td>1.711469</td>\n",
              "      <td>0.827991</td>\n",
              "    </tr>\n",
              "    <tr>\n",
              "      <th>third_row</th>\n",
              "      <td>-0.391266</td>\n",
              "      <td>0.148391</td>\n",
              "      <td>-0.493540</td>\n",
              "      <td>0.704497</td>\n",
              "      <td>-0.153961</td>\n",
              "    </tr>\n",
              "    <tr>\n",
              "      <th>fourth_row</th>\n",
              "      <td>-0.952707</td>\n",
              "      <td>-0.671805</td>\n",
              "      <td>1.465860</td>\n",
              "      <td>-0.627640</td>\n",
              "      <td>-0.101273</td>\n",
              "    </tr>\n",
              "  </tbody>\n",
              "</table>\n",
              "</div>"
            ],
            "text/plain": [
              "            zeroth_col  first_col  second_col  third_col  fourth_col\n",
              "zeroth_row   -2.072030   1.073720    0.800532  -0.998065    1.036825\n",
              "first_row     1.450970   0.517635    0.259304   0.164285   -1.130995\n",
              "second_row   -0.065364  -1.524064   -0.375354   1.711469    0.827991\n",
              "third_row    -0.391266   0.148391   -0.493540   0.704497   -0.153961\n",
              "fourth_row   -0.952707  -0.671805    1.465860  -0.627640   -0.101273"
            ]
          },
          "execution_count": 57,
          "metadata": {},
          "output_type": "execute_result"
        }
      ],
      "source": [
        "df"
      ]
    },
    {
      "cell_type": "code",
      "execution_count": 58,
      "metadata": {
        "id": "jo_zr8a-_Ws9"
      },
      "outputs": [],
      "source": [
        "#Add a column using np.random.randn\n",
        "df['fifth_col'] = np.random.randn(5,1)"
      ]
    },
    {
      "cell_type": "code",
      "execution_count": 59,
      "metadata": {
        "colab": {
          "base_uri": "https://localhost:8080/",
          "height": 204
        },
        "id": "azDudWl2_5nw",
        "outputId": "43eb494b-2d9c-42e6-a4f7-91b02aa35373"
      },
      "outputs": [
        {
          "data": {
            "text/html": [
              "<div>\n",
              "<style scoped>\n",
              "    .dataframe tbody tr th:only-of-type {\n",
              "        vertical-align: middle;\n",
              "    }\n",
              "\n",
              "    .dataframe tbody tr th {\n",
              "        vertical-align: top;\n",
              "    }\n",
              "\n",
              "    .dataframe thead th {\n",
              "        text-align: right;\n",
              "    }\n",
              "</style>\n",
              "<table border=\"1\" class=\"dataframe\">\n",
              "  <thead>\n",
              "    <tr style=\"text-align: right;\">\n",
              "      <th></th>\n",
              "      <th>zeroth_col</th>\n",
              "      <th>first_col</th>\n",
              "      <th>second_col</th>\n",
              "      <th>third_col</th>\n",
              "      <th>fourth_col</th>\n",
              "      <th>fifth_col</th>\n",
              "    </tr>\n",
              "  </thead>\n",
              "  <tbody>\n",
              "    <tr>\n",
              "      <th>zeroth_row</th>\n",
              "      <td>-2.072030</td>\n",
              "      <td>1.073720</td>\n",
              "      <td>0.800532</td>\n",
              "      <td>-0.998065</td>\n",
              "      <td>1.036825</td>\n",
              "      <td>-0.055415</td>\n",
              "    </tr>\n",
              "    <tr>\n",
              "      <th>first_row</th>\n",
              "      <td>1.450970</td>\n",
              "      <td>0.517635</td>\n",
              "      <td>0.259304</td>\n",
              "      <td>0.164285</td>\n",
              "      <td>-1.130995</td>\n",
              "      <td>-0.205738</td>\n",
              "    </tr>\n",
              "    <tr>\n",
              "      <th>second_row</th>\n",
              "      <td>-0.065364</td>\n",
              "      <td>-1.524064</td>\n",
              "      <td>-0.375354</td>\n",
              "      <td>1.711469</td>\n",
              "      <td>0.827991</td>\n",
              "      <td>0.586820</td>\n",
              "    </tr>\n",
              "    <tr>\n",
              "      <th>third_row</th>\n",
              "      <td>-0.391266</td>\n",
              "      <td>0.148391</td>\n",
              "      <td>-0.493540</td>\n",
              "      <td>0.704497</td>\n",
              "      <td>-0.153961</td>\n",
              "      <td>0.254378</td>\n",
              "    </tr>\n",
              "    <tr>\n",
              "      <th>fourth_row</th>\n",
              "      <td>-0.952707</td>\n",
              "      <td>-0.671805</td>\n",
              "      <td>1.465860</td>\n",
              "      <td>-0.627640</td>\n",
              "      <td>-0.101273</td>\n",
              "      <td>1.005795</td>\n",
              "    </tr>\n",
              "  </tbody>\n",
              "</table>\n",
              "</div>"
            ],
            "text/plain": [
              "            zeroth_col  first_col  second_col  third_col  fourth_col  \\\n",
              "zeroth_row   -2.072030   1.073720    0.800532  -0.998065    1.036825   \n",
              "first_row     1.450970   0.517635    0.259304   0.164285   -1.130995   \n",
              "second_row   -0.065364  -1.524064   -0.375354   1.711469    0.827991   \n",
              "third_row    -0.391266   0.148391   -0.493540   0.704497   -0.153961   \n",
              "fourth_row   -0.952707  -0.671805    1.465860  -0.627640   -0.101273   \n",
              "\n",
              "            fifth_col  \n",
              "zeroth_row  -0.055415  \n",
              "first_row   -0.205738  \n",
              "second_row   0.586820  \n",
              "third_row    0.254378  \n",
              "fourth_row   1.005795  "
            ]
          },
          "execution_count": 59,
          "metadata": {},
          "output_type": "execute_result"
        }
      ],
      "source": [
        "df"
      ]
    },
    {
      "cell_type": "code",
      "execution_count": null,
      "metadata": {
        "id": "JfCGvBs9Eq-L"
      },
      "outputs": [],
      "source": []
    },
    {
      "cell_type": "code",
      "execution_count": 60,
      "metadata": {
        "id": "tj_jJGR8BRcX"
      },
      "outputs": [],
      "source": [
        "#Column Operations in another column\n",
        "df['subtract_col'] = df['fifth_col'] - df['fourth_col']"
      ]
    },
    {
      "cell_type": "code",
      "execution_count": 61,
      "metadata": {
        "colab": {
          "base_uri": "https://localhost:8080/",
          "height": 204
        },
        "id": "lw0slLkACiQp",
        "outputId": "a8175417-3978-4d01-d59b-88404b34f5c8"
      },
      "outputs": [
        {
          "data": {
            "text/html": [
              "<div>\n",
              "<style scoped>\n",
              "    .dataframe tbody tr th:only-of-type {\n",
              "        vertical-align: middle;\n",
              "    }\n",
              "\n",
              "    .dataframe tbody tr th {\n",
              "        vertical-align: top;\n",
              "    }\n",
              "\n",
              "    .dataframe thead th {\n",
              "        text-align: right;\n",
              "    }\n",
              "</style>\n",
              "<table border=\"1\" class=\"dataframe\">\n",
              "  <thead>\n",
              "    <tr style=\"text-align: right;\">\n",
              "      <th></th>\n",
              "      <th>zeroth_col</th>\n",
              "      <th>first_col</th>\n",
              "      <th>second_col</th>\n",
              "      <th>third_col</th>\n",
              "      <th>fourth_col</th>\n",
              "      <th>fifth_col</th>\n",
              "      <th>subtract_col</th>\n",
              "    </tr>\n",
              "  </thead>\n",
              "  <tbody>\n",
              "    <tr>\n",
              "      <th>zeroth_row</th>\n",
              "      <td>-2.072030</td>\n",
              "      <td>1.073720</td>\n",
              "      <td>0.800532</td>\n",
              "      <td>-0.998065</td>\n",
              "      <td>1.036825</td>\n",
              "      <td>-0.055415</td>\n",
              "      <td>-1.092240</td>\n",
              "    </tr>\n",
              "    <tr>\n",
              "      <th>first_row</th>\n",
              "      <td>1.450970</td>\n",
              "      <td>0.517635</td>\n",
              "      <td>0.259304</td>\n",
              "      <td>0.164285</td>\n",
              "      <td>-1.130995</td>\n",
              "      <td>-0.205738</td>\n",
              "      <td>0.925257</td>\n",
              "    </tr>\n",
              "    <tr>\n",
              "      <th>second_row</th>\n",
              "      <td>-0.065364</td>\n",
              "      <td>-1.524064</td>\n",
              "      <td>-0.375354</td>\n",
              "      <td>1.711469</td>\n",
              "      <td>0.827991</td>\n",
              "      <td>0.586820</td>\n",
              "      <td>-0.241171</td>\n",
              "    </tr>\n",
              "    <tr>\n",
              "      <th>third_row</th>\n",
              "      <td>-0.391266</td>\n",
              "      <td>0.148391</td>\n",
              "      <td>-0.493540</td>\n",
              "      <td>0.704497</td>\n",
              "      <td>-0.153961</td>\n",
              "      <td>0.254378</td>\n",
              "      <td>0.408338</td>\n",
              "    </tr>\n",
              "    <tr>\n",
              "      <th>fourth_row</th>\n",
              "      <td>-0.952707</td>\n",
              "      <td>-0.671805</td>\n",
              "      <td>1.465860</td>\n",
              "      <td>-0.627640</td>\n",
              "      <td>-0.101273</td>\n",
              "      <td>1.005795</td>\n",
              "      <td>1.107068</td>\n",
              "    </tr>\n",
              "  </tbody>\n",
              "</table>\n",
              "</div>"
            ],
            "text/plain": [
              "            zeroth_col  first_col  second_col  third_col  fourth_col  \\\n",
              "zeroth_row   -2.072030   1.073720    0.800532  -0.998065    1.036825   \n",
              "first_row     1.450970   0.517635    0.259304   0.164285   -1.130995   \n",
              "second_row   -0.065364  -1.524064   -0.375354   1.711469    0.827991   \n",
              "third_row    -0.391266   0.148391   -0.493540   0.704497   -0.153961   \n",
              "fourth_row   -0.952707  -0.671805    1.465860  -0.627640   -0.101273   \n",
              "\n",
              "            fifth_col  subtract_col  \n",
              "zeroth_row  -0.055415     -1.092240  \n",
              "first_row   -0.205738      0.925257  \n",
              "second_row   0.586820     -0.241171  \n",
              "third_row    0.254378      0.408338  \n",
              "fourth_row   1.005795      1.107068  "
            ]
          },
          "execution_count": 61,
          "metadata": {},
          "output_type": "execute_result"
        }
      ],
      "source": [
        "df"
      ]
    },
    {
      "cell_type": "code",
      "execution_count": 62,
      "metadata": {
        "colab": {
          "base_uri": "https://localhost:8080/"
        },
        "id": "ufIUwnKcCjVv",
        "outputId": "4a0f82ea-1309-46cb-951f-d1d836c07498"
      },
      "outputs": [
        {
          "data": {
            "text/plain": [
              "zeroth_col     -2.072030\n",
              "first_col       1.073720\n",
              "second_col      0.800532\n",
              "third_col      -0.998065\n",
              "fourth_col      1.036825\n",
              "fifth_col      -0.055415\n",
              "subtract_col   -1.092240\n",
              "Name: zeroth_row, dtype: float64"
            ]
          },
          "execution_count": 62,
          "metadata": {},
          "output_type": "execute_result"
        }
      ],
      "source": [
        "#accessing of rows using .iloc function in series \n",
        "df.iloc[0]"
      ]
    },
    {
      "cell_type": "code",
      "execution_count": 63,
      "metadata": {
        "colab": {
          "base_uri": "https://localhost:8080/",
          "height": 80
        },
        "id": "fN7eUZ7yDhRl",
        "outputId": "317656e4-7cea-4881-a4a0-df7811b03436"
      },
      "outputs": [
        {
          "data": {
            "text/html": [
              "<div>\n",
              "<style scoped>\n",
              "    .dataframe tbody tr th:only-of-type {\n",
              "        vertical-align: middle;\n",
              "    }\n",
              "\n",
              "    .dataframe tbody tr th {\n",
              "        vertical-align: top;\n",
              "    }\n",
              "\n",
              "    .dataframe thead th {\n",
              "        text-align: right;\n",
              "    }\n",
              "</style>\n",
              "<table border=\"1\" class=\"dataframe\">\n",
              "  <thead>\n",
              "    <tr style=\"text-align: right;\">\n",
              "      <th></th>\n",
              "      <th>zeroth_col</th>\n",
              "      <th>first_col</th>\n",
              "      <th>second_col</th>\n",
              "      <th>third_col</th>\n",
              "      <th>fourth_col</th>\n",
              "      <th>fifth_col</th>\n",
              "      <th>subtract_col</th>\n",
              "    </tr>\n",
              "  </thead>\n",
              "  <tbody>\n",
              "    <tr>\n",
              "      <th>second_row</th>\n",
              "      <td>-0.065364</td>\n",
              "      <td>-1.524064</td>\n",
              "      <td>-0.375354</td>\n",
              "      <td>1.711469</td>\n",
              "      <td>0.827991</td>\n",
              "      <td>0.58682</td>\n",
              "      <td>-0.241171</td>\n",
              "    </tr>\n",
              "  </tbody>\n",
              "</table>\n",
              "</div>"
            ],
            "text/plain": [
              "            zeroth_col  first_col  second_col  third_col  fourth_col  \\\n",
              "second_row   -0.065364  -1.524064   -0.375354   1.711469    0.827991   \n",
              "\n",
              "            fifth_col  subtract_col  \n",
              "second_row    0.58682     -0.241171  "
            ]
          },
          "execution_count": 63,
          "metadata": {},
          "output_type": "execute_result"
        }
      ],
      "source": [
        "df.iloc[[2]] #accessing of rows using .iloc in a dataframe"
      ]
    },
    {
      "cell_type": "code",
      "execution_count": 64,
      "metadata": {
        "colab": {
          "base_uri": "https://localhost:8080/",
          "height": 266
        },
        "id": "D0yQfgyVDl9S",
        "outputId": "0e311e0e-75f6-4315-e7d5-833533cc44eb"
      },
      "outputs": [
        {
          "data": {
            "text/html": [
              "<div>\n",
              "<style scoped>\n",
              "    .dataframe tbody tr th:only-of-type {\n",
              "        vertical-align: middle;\n",
              "    }\n",
              "\n",
              "    .dataframe tbody tr th {\n",
              "        vertical-align: top;\n",
              "    }\n",
              "\n",
              "    .dataframe thead th {\n",
              "        text-align: right;\n",
              "    }\n",
              "</style>\n",
              "<table border=\"1\" class=\"dataframe\">\n",
              "  <thead>\n",
              "    <tr style=\"text-align: right;\">\n",
              "      <th></th>\n",
              "      <th>third_row</th>\n",
              "      <th>second_row</th>\n",
              "    </tr>\n",
              "  </thead>\n",
              "  <tbody>\n",
              "    <tr>\n",
              "      <th>zeroth_col</th>\n",
              "      <td>-0.391266</td>\n",
              "      <td>-0.065364</td>\n",
              "    </tr>\n",
              "    <tr>\n",
              "      <th>first_col</th>\n",
              "      <td>0.148391</td>\n",
              "      <td>-1.524064</td>\n",
              "    </tr>\n",
              "    <tr>\n",
              "      <th>second_col</th>\n",
              "      <td>-0.493540</td>\n",
              "      <td>-0.375354</td>\n",
              "    </tr>\n",
              "    <tr>\n",
              "      <th>third_col</th>\n",
              "      <td>0.704497</td>\n",
              "      <td>1.711469</td>\n",
              "    </tr>\n",
              "    <tr>\n",
              "      <th>fourth_col</th>\n",
              "      <td>-0.153961</td>\n",
              "      <td>0.827991</td>\n",
              "    </tr>\n",
              "    <tr>\n",
              "      <th>fifth_col</th>\n",
              "      <td>0.254378</td>\n",
              "      <td>0.586820</td>\n",
              "    </tr>\n",
              "    <tr>\n",
              "      <th>subtract_col</th>\n",
              "      <td>0.408338</td>\n",
              "      <td>-0.241171</td>\n",
              "    </tr>\n",
              "  </tbody>\n",
              "</table>\n",
              "</div>"
            ],
            "text/plain": [
              "              third_row  second_row\n",
              "zeroth_col    -0.391266   -0.065364\n",
              "first_col      0.148391   -1.524064\n",
              "second_col    -0.493540   -0.375354\n",
              "third_col      0.704497    1.711469\n",
              "fourth_col    -0.153961    0.827991\n",
              "fifth_col      0.254378    0.586820\n",
              "subtract_col   0.408338   -0.241171"
            ]
          },
          "execution_count": 64,
          "metadata": {},
          "output_type": "execute_result"
        }
      ],
      "source": [
        "df.iloc[[3,2]].T"
      ]
    },
    {
      "cell_type": "code",
      "execution_count": 65,
      "metadata": {
        "colab": {
          "base_uri": "https://localhost:8080/"
        },
        "id": "RUGJxn_oFBY8",
        "outputId": "49510081-6e24-4692-9b59-02eec38b9877"
      },
      "outputs": [
        {
          "data": {
            "text/plain": [
              "array([[-1.970083]])"
            ]
          },
          "execution_count": 65,
          "metadata": {},
          "output_type": "execute_result"
        }
      ],
      "source": [
        "np.random.randn(1,1)"
      ]
    },
    {
      "cell_type": "code",
      "execution_count": 66,
      "metadata": {
        "id": "pKVxZZi4Fa7A"
      },
      "outputs": [],
      "source": [
        "df.drop('subtract_col',axis=1,inplace=True)"
      ]
    },
    {
      "cell_type": "code",
      "execution_count": 67,
      "metadata": {
        "id": "BuSdtIO4DtHq"
      },
      "outputs": [],
      "source": [
        "df2 = pd.DataFrame({'zeroth_col': [np.random.randn(1,1)], 'first_col': [np.random.randn(1,1)],'second_col':[np.random.randn(1,1)],'third_col':[np.random.randn(1,1)],'fourth_col':[np.random.randn(1,1)],'fifth_col':[np.random.randn(1,1)]})"
      ]
    },
    {
      "cell_type": "code",
      "execution_count": 68,
      "metadata": {
        "id": "8CASxhQPF25o"
      },
      "outputs": [
        {
          "name": "stderr",
          "output_type": "stream",
          "text": [
            "C:\\Users\\PKVidyarthi\\AppData\\Local\\Temp\\ipykernel_33936\\182344781.py:1: FutureWarning: The frame.append method is deprecated and will be removed from pandas in a future version. Use pandas.concat instead.\n",
            "  df = df.append(df2,ignore_index=True)\n"
          ]
        }
      ],
      "source": [
        "df = df.append(df2,ignore_index=True)"
      ]
    },
    {
      "cell_type": "code",
      "execution_count": 69,
      "metadata": {
        "colab": {
          "base_uri": "https://localhost:8080/",
          "height": 299
        },
        "id": "JAbM_UjhG11s",
        "outputId": "33b4c44f-6b8d-48e6-8217-7e8caec7ce6d"
      },
      "outputs": [
        {
          "data": {
            "text/html": [
              "<div>\n",
              "<style scoped>\n",
              "    .dataframe tbody tr th:only-of-type {\n",
              "        vertical-align: middle;\n",
              "    }\n",
              "\n",
              "    .dataframe tbody tr th {\n",
              "        vertical-align: top;\n",
              "    }\n",
              "\n",
              "    .dataframe thead th {\n",
              "        text-align: right;\n",
              "    }\n",
              "</style>\n",
              "<table border=\"1\" class=\"dataframe\">\n",
              "  <thead>\n",
              "    <tr style=\"text-align: right;\">\n",
              "      <th></th>\n",
              "      <th>zeroth_col</th>\n",
              "      <th>first_col</th>\n",
              "      <th>second_col</th>\n",
              "      <th>third_col</th>\n",
              "      <th>fourth_col</th>\n",
              "      <th>fifth_col</th>\n",
              "    </tr>\n",
              "  </thead>\n",
              "  <tbody>\n",
              "    <tr>\n",
              "      <th>0</th>\n",
              "      <td>-2.07203</td>\n",
              "      <td>1.07372</td>\n",
              "      <td>0.800532</td>\n",
              "      <td>-0.998065</td>\n",
              "      <td>1.036825</td>\n",
              "      <td>-0.055415</td>\n",
              "    </tr>\n",
              "    <tr>\n",
              "      <th>1</th>\n",
              "      <td>1.45097</td>\n",
              "      <td>0.517635</td>\n",
              "      <td>0.259304</td>\n",
              "      <td>0.164285</td>\n",
              "      <td>-1.130995</td>\n",
              "      <td>-0.205738</td>\n",
              "    </tr>\n",
              "    <tr>\n",
              "      <th>2</th>\n",
              "      <td>-0.065364</td>\n",
              "      <td>-1.524064</td>\n",
              "      <td>-0.375354</td>\n",
              "      <td>1.711469</td>\n",
              "      <td>0.827991</td>\n",
              "      <td>0.58682</td>\n",
              "    </tr>\n",
              "    <tr>\n",
              "      <th>3</th>\n",
              "      <td>-0.391266</td>\n",
              "      <td>0.148391</td>\n",
              "      <td>-0.49354</td>\n",
              "      <td>0.704497</td>\n",
              "      <td>-0.153961</td>\n",
              "      <td>0.254378</td>\n",
              "    </tr>\n",
              "    <tr>\n",
              "      <th>4</th>\n",
              "      <td>-0.952707</td>\n",
              "      <td>-0.671805</td>\n",
              "      <td>1.46586</td>\n",
              "      <td>-0.62764</td>\n",
              "      <td>-0.101273</td>\n",
              "      <td>1.005795</td>\n",
              "    </tr>\n",
              "    <tr>\n",
              "      <th>5</th>\n",
              "      <td>[[-0.9633301369692453]]</td>\n",
              "      <td>[[-0.08438772774132156]]</td>\n",
              "      <td>[[-0.6667732777548351]]</td>\n",
              "      <td>[[-0.33192438958895837]]</td>\n",
              "      <td>[[-1.337597261420002]]</td>\n",
              "      <td>[[0.8235733090785694]]</td>\n",
              "    </tr>\n",
              "  </tbody>\n",
              "</table>\n",
              "</div>"
            ],
            "text/plain": [
              "                zeroth_col                 first_col               second_col  \\\n",
              "0                 -2.07203                   1.07372                 0.800532   \n",
              "1                  1.45097                  0.517635                 0.259304   \n",
              "2                -0.065364                 -1.524064                -0.375354   \n",
              "3                -0.391266                  0.148391                 -0.49354   \n",
              "4                -0.952707                 -0.671805                  1.46586   \n",
              "5  [[-0.9633301369692453]]  [[-0.08438772774132156]]  [[-0.6667732777548351]]   \n",
              "\n",
              "                  third_col              fourth_col               fifth_col  \n",
              "0                 -0.998065                1.036825               -0.055415  \n",
              "1                  0.164285               -1.130995               -0.205738  \n",
              "2                  1.711469                0.827991                 0.58682  \n",
              "3                  0.704497               -0.153961                0.254378  \n",
              "4                  -0.62764               -0.101273                1.005795  \n",
              "5  [[-0.33192438958895837]]  [[-1.337597261420002]]  [[0.8235733090785694]]  "
            ]
          },
          "execution_count": 69,
          "metadata": {},
          "output_type": "execute_result"
        }
      ],
      "source": [
        "df.head(7)"
      ]
    },
    {
      "cell_type": "code",
      "execution_count": 70,
      "metadata": {
        "colab": {
          "base_uri": "https://localhost:8080/"
        },
        "id": "oUt3eZzoG2oT",
        "outputId": "5f279c16-64c5-458b-c074-dd5701d02e15"
      },
      "outputs": [
        {
          "data": {
            "text/plain": [
              "(6, 6)"
            ]
          },
          "execution_count": 70,
          "metadata": {},
          "output_type": "execute_result"
        }
      ],
      "source": [
        "df.shape"
      ]
    },
    {
      "cell_type": "code",
      "execution_count": 71,
      "metadata": {
        "id": "jH9VUuO4H05l"
      },
      "outputs": [],
      "source": [
        "#dropping off a column using drop function\n",
        "df.drop('fifth_col',axis=1,inplace=True)"
      ]
    },
    {
      "cell_type": "code",
      "execution_count": 72,
      "metadata": {
        "colab": {
          "base_uri": "https://localhost:8080/",
          "height": 299
        },
        "id": "WS9U935sKRkb",
        "outputId": "6d90c1f1-fdd3-4f96-a222-fe253838f37a"
      },
      "outputs": [
        {
          "data": {
            "text/html": [
              "<div>\n",
              "<style scoped>\n",
              "    .dataframe tbody tr th:only-of-type {\n",
              "        vertical-align: middle;\n",
              "    }\n",
              "\n",
              "    .dataframe tbody tr th {\n",
              "        vertical-align: top;\n",
              "    }\n",
              "\n",
              "    .dataframe thead th {\n",
              "        text-align: right;\n",
              "    }\n",
              "</style>\n",
              "<table border=\"1\" class=\"dataframe\">\n",
              "  <thead>\n",
              "    <tr style=\"text-align: right;\">\n",
              "      <th></th>\n",
              "      <th>zeroth_col</th>\n",
              "      <th>first_col</th>\n",
              "      <th>second_col</th>\n",
              "      <th>third_col</th>\n",
              "      <th>fourth_col</th>\n",
              "    </tr>\n",
              "  </thead>\n",
              "  <tbody>\n",
              "    <tr>\n",
              "      <th>0</th>\n",
              "      <td>-2.07203</td>\n",
              "      <td>1.07372</td>\n",
              "      <td>0.800532</td>\n",
              "      <td>-0.998065</td>\n",
              "      <td>1.036825</td>\n",
              "    </tr>\n",
              "    <tr>\n",
              "      <th>1</th>\n",
              "      <td>1.45097</td>\n",
              "      <td>0.517635</td>\n",
              "      <td>0.259304</td>\n",
              "      <td>0.164285</td>\n",
              "      <td>-1.130995</td>\n",
              "    </tr>\n",
              "    <tr>\n",
              "      <th>2</th>\n",
              "      <td>-0.065364</td>\n",
              "      <td>-1.524064</td>\n",
              "      <td>-0.375354</td>\n",
              "      <td>1.711469</td>\n",
              "      <td>0.827991</td>\n",
              "    </tr>\n",
              "    <tr>\n",
              "      <th>3</th>\n",
              "      <td>-0.391266</td>\n",
              "      <td>0.148391</td>\n",
              "      <td>-0.49354</td>\n",
              "      <td>0.704497</td>\n",
              "      <td>-0.153961</td>\n",
              "    </tr>\n",
              "    <tr>\n",
              "      <th>4</th>\n",
              "      <td>-0.952707</td>\n",
              "      <td>-0.671805</td>\n",
              "      <td>1.46586</td>\n",
              "      <td>-0.62764</td>\n",
              "      <td>-0.101273</td>\n",
              "    </tr>\n",
              "    <tr>\n",
              "      <th>5</th>\n",
              "      <td>[[-0.9633301369692453]]</td>\n",
              "      <td>[[-0.08438772774132156]]</td>\n",
              "      <td>[[-0.6667732777548351]]</td>\n",
              "      <td>[[-0.33192438958895837]]</td>\n",
              "      <td>[[-1.337597261420002]]</td>\n",
              "    </tr>\n",
              "  </tbody>\n",
              "</table>\n",
              "</div>"
            ],
            "text/plain": [
              "                zeroth_col                 first_col               second_col  \\\n",
              "0                 -2.07203                   1.07372                 0.800532   \n",
              "1                  1.45097                  0.517635                 0.259304   \n",
              "2                -0.065364                 -1.524064                -0.375354   \n",
              "3                -0.391266                  0.148391                 -0.49354   \n",
              "4                -0.952707                 -0.671805                  1.46586   \n",
              "5  [[-0.9633301369692453]]  [[-0.08438772774132156]]  [[-0.6667732777548351]]   \n",
              "\n",
              "                  third_col              fourth_col  \n",
              "0                 -0.998065                1.036825  \n",
              "1                  0.164285               -1.130995  \n",
              "2                  1.711469                0.827991  \n",
              "3                  0.704497               -0.153961  \n",
              "4                  -0.62764               -0.101273  \n",
              "5  [[-0.33192438958895837]]  [[-1.337597261420002]]  "
            ]
          },
          "execution_count": 72,
          "metadata": {},
          "output_type": "execute_result"
        }
      ],
      "source": [
        "df"
      ]
    },
    {
      "cell_type": "code",
      "execution_count": 73,
      "metadata": {
        "id": "mdcR5cO3KU-1"
      },
      "outputs": [],
      "source": [
        "#Creation of a data frame from scratch\n",
        "df1 = pd.DataFrame({'Laptop':['Dell','Lenovo','HP','Asus','Acer','Apple'],'Rating Out of 5':[3.5,3,4,4.25,3,5]})"
      ]
    },
    {
      "cell_type": "code",
      "execution_count": 74,
      "metadata": {
        "colab": {
          "base_uri": "https://localhost:8080/",
          "height": 235
        },
        "id": "uEy9-xUAMdoO",
        "outputId": "80afe1e8-51d8-4f6f-957f-8e82a6f344d2"
      },
      "outputs": [
        {
          "data": {
            "text/html": [
              "<div>\n",
              "<style scoped>\n",
              "    .dataframe tbody tr th:only-of-type {\n",
              "        vertical-align: middle;\n",
              "    }\n",
              "\n",
              "    .dataframe tbody tr th {\n",
              "        vertical-align: top;\n",
              "    }\n",
              "\n",
              "    .dataframe thead th {\n",
              "        text-align: right;\n",
              "    }\n",
              "</style>\n",
              "<table border=\"1\" class=\"dataframe\">\n",
              "  <thead>\n",
              "    <tr style=\"text-align: right;\">\n",
              "      <th></th>\n",
              "      <th>Laptop</th>\n",
              "      <th>Rating Out of 5</th>\n",
              "    </tr>\n",
              "  </thead>\n",
              "  <tbody>\n",
              "    <tr>\n",
              "      <th>0</th>\n",
              "      <td>Dell</td>\n",
              "      <td>3.50</td>\n",
              "    </tr>\n",
              "    <tr>\n",
              "      <th>1</th>\n",
              "      <td>Lenovo</td>\n",
              "      <td>3.00</td>\n",
              "    </tr>\n",
              "    <tr>\n",
              "      <th>2</th>\n",
              "      <td>HP</td>\n",
              "      <td>4.00</td>\n",
              "    </tr>\n",
              "    <tr>\n",
              "      <th>3</th>\n",
              "      <td>Asus</td>\n",
              "      <td>4.25</td>\n",
              "    </tr>\n",
              "    <tr>\n",
              "      <th>4</th>\n",
              "      <td>Acer</td>\n",
              "      <td>3.00</td>\n",
              "    </tr>\n",
              "    <tr>\n",
              "      <th>5</th>\n",
              "      <td>Apple</td>\n",
              "      <td>5.00</td>\n",
              "    </tr>\n",
              "  </tbody>\n",
              "</table>\n",
              "</div>"
            ],
            "text/plain": [
              "   Laptop  Rating Out of 5\n",
              "0    Dell             3.50\n",
              "1  Lenovo             3.00\n",
              "2      HP             4.00\n",
              "3    Asus             4.25\n",
              "4    Acer             3.00\n",
              "5   Apple             5.00"
            ]
          },
          "execution_count": 74,
          "metadata": {},
          "output_type": "execute_result"
        }
      ],
      "source": [
        "df1"
      ]
    },
    {
      "cell_type": "code",
      "execution_count": 75,
      "metadata": {
        "colab": {
          "base_uri": "https://localhost:8080/"
        },
        "id": "XmuikmtrMhyl",
        "outputId": "e715376a-2a97-4ad2-e7ff-d09f1a4463ca"
      },
      "outputs": [
        {
          "data": {
            "text/plain": [
              "(6, 2)"
            ]
          },
          "execution_count": 75,
          "metadata": {},
          "output_type": "execute_result"
        }
      ],
      "source": [
        "df1.shape"
      ]
    },
    {
      "cell_type": "code",
      "execution_count": 76,
      "metadata": {
        "id": "duMkbq2xMnK7"
      },
      "outputs": [],
      "source": [
        "df2 = pd.DataFrame({'CPU':['Core i7','Core i3','Core i5','Core i9','AMD Ryzen','M1/M2'],'GPU':['GTX','GTE','GTE3080','GTE3060','GTE3040','M1/M2']})"
      ]
    },
    {
      "cell_type": "code",
      "execution_count": 77,
      "metadata": {
        "colab": {
          "base_uri": "https://localhost:8080/",
          "height": 235
        },
        "id": "cn81ISnEOalz",
        "outputId": "86f21af4-1ae4-4cd7-97d9-4870f0c75032"
      },
      "outputs": [
        {
          "data": {
            "text/html": [
              "<div>\n",
              "<style scoped>\n",
              "    .dataframe tbody tr th:only-of-type {\n",
              "        vertical-align: middle;\n",
              "    }\n",
              "\n",
              "    .dataframe tbody tr th {\n",
              "        vertical-align: top;\n",
              "    }\n",
              "\n",
              "    .dataframe thead th {\n",
              "        text-align: right;\n",
              "    }\n",
              "</style>\n",
              "<table border=\"1\" class=\"dataframe\">\n",
              "  <thead>\n",
              "    <tr style=\"text-align: right;\">\n",
              "      <th></th>\n",
              "      <th>CPU</th>\n",
              "      <th>GPU</th>\n",
              "    </tr>\n",
              "  </thead>\n",
              "  <tbody>\n",
              "    <tr>\n",
              "      <th>0</th>\n",
              "      <td>Core i7</td>\n",
              "      <td>GTX</td>\n",
              "    </tr>\n",
              "    <tr>\n",
              "      <th>1</th>\n",
              "      <td>Core i3</td>\n",
              "      <td>GTE</td>\n",
              "    </tr>\n",
              "    <tr>\n",
              "      <th>2</th>\n",
              "      <td>Core i5</td>\n",
              "      <td>GTE3080</td>\n",
              "    </tr>\n",
              "    <tr>\n",
              "      <th>3</th>\n",
              "      <td>Core i9</td>\n",
              "      <td>GTE3060</td>\n",
              "    </tr>\n",
              "    <tr>\n",
              "      <th>4</th>\n",
              "      <td>AMD Ryzen</td>\n",
              "      <td>GTE3040</td>\n",
              "    </tr>\n",
              "    <tr>\n",
              "      <th>5</th>\n",
              "      <td>M1/M2</td>\n",
              "      <td>M1/M2</td>\n",
              "    </tr>\n",
              "  </tbody>\n",
              "</table>\n",
              "</div>"
            ],
            "text/plain": [
              "         CPU      GPU\n",
              "0    Core i7      GTX\n",
              "1    Core i3      GTE\n",
              "2    Core i5  GTE3080\n",
              "3    Core i9  GTE3060\n",
              "4  AMD Ryzen  GTE3040\n",
              "5      M1/M2    M1/M2"
            ]
          },
          "execution_count": 77,
          "metadata": {},
          "output_type": "execute_result"
        }
      ],
      "source": [
        "df2"
      ]
    },
    {
      "cell_type": "code",
      "execution_count": 78,
      "metadata": {
        "colab": {
          "base_uri": "https://localhost:8080/"
        },
        "id": "4fnGm5CLObee",
        "outputId": "10b8fd22-ce25-4984-95c6-0e2e76aa04cc"
      },
      "outputs": [
        {
          "data": {
            "text/plain": [
              "(6, 2)"
            ]
          },
          "execution_count": 78,
          "metadata": {},
          "output_type": "execute_result"
        }
      ],
      "source": [
        "df2.shape"
      ]
    },
    {
      "cell_type": "code",
      "execution_count": 79,
      "metadata": {
        "id": "W32yMShyOe4R"
      },
      "outputs": [],
      "source": [
        "#Concatenate/ Join of a data frame through columns\n",
        "df = pd.concat([df1,df2],axis=1)"
      ]
    },
    {
      "cell_type": "code",
      "execution_count": 80,
      "metadata": {
        "colab": {
          "base_uri": "https://localhost:8080/",
          "height": 235
        },
        "id": "VwGPkSTwOqQL",
        "outputId": "c534cb3d-37dc-40a1-b6b6-d6454fe255ce"
      },
      "outputs": [
        {
          "data": {
            "text/html": [
              "<div>\n",
              "<style scoped>\n",
              "    .dataframe tbody tr th:only-of-type {\n",
              "        vertical-align: middle;\n",
              "    }\n",
              "\n",
              "    .dataframe tbody tr th {\n",
              "        vertical-align: top;\n",
              "    }\n",
              "\n",
              "    .dataframe thead th {\n",
              "        text-align: right;\n",
              "    }\n",
              "</style>\n",
              "<table border=\"1\" class=\"dataframe\">\n",
              "  <thead>\n",
              "    <tr style=\"text-align: right;\">\n",
              "      <th></th>\n",
              "      <th>Laptop</th>\n",
              "      <th>Rating Out of 5</th>\n",
              "      <th>CPU</th>\n",
              "      <th>GPU</th>\n",
              "    </tr>\n",
              "  </thead>\n",
              "  <tbody>\n",
              "    <tr>\n",
              "      <th>0</th>\n",
              "      <td>Dell</td>\n",
              "      <td>3.50</td>\n",
              "      <td>Core i7</td>\n",
              "      <td>GTX</td>\n",
              "    </tr>\n",
              "    <tr>\n",
              "      <th>1</th>\n",
              "      <td>Lenovo</td>\n",
              "      <td>3.00</td>\n",
              "      <td>Core i3</td>\n",
              "      <td>GTE</td>\n",
              "    </tr>\n",
              "    <tr>\n",
              "      <th>2</th>\n",
              "      <td>HP</td>\n",
              "      <td>4.00</td>\n",
              "      <td>Core i5</td>\n",
              "      <td>GTE3080</td>\n",
              "    </tr>\n",
              "    <tr>\n",
              "      <th>3</th>\n",
              "      <td>Asus</td>\n",
              "      <td>4.25</td>\n",
              "      <td>Core i9</td>\n",
              "      <td>GTE3060</td>\n",
              "    </tr>\n",
              "    <tr>\n",
              "      <th>4</th>\n",
              "      <td>Acer</td>\n",
              "      <td>3.00</td>\n",
              "      <td>AMD Ryzen</td>\n",
              "      <td>GTE3040</td>\n",
              "    </tr>\n",
              "    <tr>\n",
              "      <th>5</th>\n",
              "      <td>Apple</td>\n",
              "      <td>5.00</td>\n",
              "      <td>M1/M2</td>\n",
              "      <td>M1/M2</td>\n",
              "    </tr>\n",
              "  </tbody>\n",
              "</table>\n",
              "</div>"
            ],
            "text/plain": [
              "   Laptop  Rating Out of 5        CPU      GPU\n",
              "0    Dell             3.50    Core i7      GTX\n",
              "1  Lenovo             3.00    Core i3      GTE\n",
              "2      HP             4.00    Core i5  GTE3080\n",
              "3    Asus             4.25    Core i9  GTE3060\n",
              "4    Acer             3.00  AMD Ryzen  GTE3040\n",
              "5   Apple             5.00      M1/M2    M1/M2"
            ]
          },
          "execution_count": 80,
          "metadata": {},
          "output_type": "execute_result"
        }
      ],
      "source": [
        "df"
      ]
    },
    {
      "cell_type": "code",
      "execution_count": 81,
      "metadata": {
        "id": "82zixMx9Oqh0"
      },
      "outputs": [],
      "source": [
        "#Converting a data frame into a csv file \n",
        "df.to_csv('PC_Data.csv')"
      ]
    },
    {
      "cell_type": "code",
      "execution_count": null,
      "metadata": {
        "id": "d0ZDmb7fPCcM"
      },
      "outputs": [],
      "source": []
    }
  ],
  "metadata": {
    "colab": {
      "name": "Pandas.ipynb",
      "provenance": []
    },
    "kernelspec": {
      "display_name": "Python 3.10.5 64-bit",
      "language": "python",
      "name": "python3"
    },
    "language_info": {
      "codemirror_mode": {
        "name": "ipython",
        "version": 3
      },
      "file_extension": ".py",
      "mimetype": "text/x-python",
      "name": "python",
      "nbconvert_exporter": "python",
      "pygments_lexer": "ipython3",
      "version": "3.10.5"
    },
    "vscode": {
      "interpreter": {
        "hash": "26de051ba29f2982a8de78e945f0abaf191376122a1563185a90213a26c5da77"
      }
    }
  },
  "nbformat": 4,
  "nbformat_minor": 0
}
