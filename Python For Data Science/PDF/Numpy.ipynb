{
  "cells": [
    {
      "cell_type": "code",
      "execution_count": 1,
      "metadata": {
        "id": "gjNxOk2gD5Au"
      },
      "outputs": [],
      "source": [
        "import numpy as np"
      ]
    },
    {
      "cell_type": "code",
      "execution_count": 2,
      "metadata": {
        "colab": {
          "base_uri": "https://localhost:8080/"
        },
        "id": "olv7FO1pE8kW",
        "outputId": "bcfd0ce9-91d2-481a-821b-c15977c10d5d"
      },
      "outputs": [
        {
          "data": {
            "text/plain": [
              "array([5, 2, 7, 4, 1])"
            ]
          },
          "execution_count": 2,
          "metadata": {},
          "output_type": "execute_result"
        }
      ],
      "source": [
        "#Create an array\n",
        "a = np.array([5,2,7,4,1])\n",
        "a"
      ]
    },
    {
      "cell_type": "code",
      "execution_count": 3,
      "metadata": {
        "colab": {
          "base_uri": "https://localhost:8080/"
        },
        "id": "HGahFfkMFUWz",
        "outputId": "aa7db3c8-a61e-45ed-a8f4-dca83a46419f"
      },
      "outputs": [
        {
          "name": "stdout",
          "output_type": "stream",
          "text": [
            "[5 2 7 4 1]\n"
          ]
        }
      ],
      "source": [
        "print(a)"
      ]
    },
    {
      "cell_type": "code",
      "execution_count": 4,
      "metadata": {
        "colab": {
          "base_uri": "https://localhost:8080/"
        },
        "id": "DPx7UtnJFa7B",
        "outputId": "c4db3aea-34f1-4819-9b3e-5250e4ea509d"
      },
      "outputs": [
        {
          "data": {
            "text/plain": [
              "numpy.ndarray"
            ]
          },
          "execution_count": 4,
          "metadata": {},
          "output_type": "execute_result"
        }
      ],
      "source": [
        "type(a)"
      ]
    },
    {
      "cell_type": "code",
      "execution_count": 5,
      "metadata": {
        "colab": {
          "base_uri": "https://localhost:8080/"
        },
        "id": "h8bPBO-vFfbb",
        "outputId": "16607141-2d5a-45e3-f803-b92ddddfe9fe"
      },
      "outputs": [
        {
          "data": {
            "text/plain": [
              "array([[ 5,  2,  7],\n",
              "       [ 4,  1,  8],\n",
              "       [11, 17, 25]])"
            ]
          },
          "execution_count": 5,
          "metadata": {},
          "output_type": "execute_result"
        }
      ],
      "source": [
        "#Creation of multiple dimensional array or a matrix\n",
        "v = np.array([[5,2,7],[4,1,8],[11,17,25]])\n",
        "v"
      ]
    },
    {
      "cell_type": "code",
      "execution_count": 6,
      "metadata": {
        "colab": {
          "base_uri": "https://localhost:8080/"
        },
        "id": "8RNzN7OwGABO",
        "outputId": "a95e8927-e5f7-4161-b702-fc8d6d9c198c"
      },
      "outputs": [
        {
          "name": "stdout",
          "output_type": "stream",
          "text": [
            "[[ 5  2  7]\n",
            " [ 4  1  8]\n",
            " [11 17 25]]\n"
          ]
        }
      ],
      "source": [
        "print(v)"
      ]
    },
    {
      "cell_type": "code",
      "execution_count": 7,
      "metadata": {
        "colab": {
          "base_uri": "https://localhost:8080/"
        },
        "id": "upjmH5FoGBQs",
        "outputId": "7ce90d28-7026-4fe4-b026-ebf39977b267"
      },
      "outputs": [
        {
          "data": {
            "text/plain": [
              "(3, 3)"
            ]
          },
          "execution_count": 7,
          "metadata": {},
          "output_type": "execute_result"
        }
      ],
      "source": [
        "v.shape #To check the rows & columns of a matrix"
      ]
    },
    {
      "cell_type": "code",
      "execution_count": 8,
      "metadata": {
        "colab": {
          "base_uri": "https://localhost:8080/"
        },
        "id": "62a4teCRGJm5",
        "outputId": "39a39f82-31a0-43fa-ca40-0b989b1a8748"
      },
      "outputs": [
        {
          "data": {
            "text/plain": [
              "array([[1, 2, 3],\n",
              "       [4, 5, 6],\n",
              "       [7, 8, 9]])"
            ]
          },
          "execution_count": 8,
          "metadata": {},
          "output_type": "execute_result"
        }
      ],
      "source": [
        "v1 = np.array([[1,2,3],[4,5,6],[7,8,9]])\n",
        "v1"
      ]
    },
    {
      "cell_type": "code",
      "execution_count": 9,
      "metadata": {
        "colab": {
          "base_uri": "https://localhost:8080/"
        },
        "id": "2BF7_1qmGxDM",
        "outputId": "b3a8dfb4-410b-4a0e-9075-ab2b96386c62"
      },
      "outputs": [
        {
          "data": {
            "text/plain": [
              "(3, 3)"
            ]
          },
          "execution_count": 9,
          "metadata": {},
          "output_type": "execute_result"
        }
      ],
      "source": [
        "v1.shape"
      ]
    },
    {
      "cell_type": "code",
      "execution_count": 10,
      "metadata": {
        "colab": {
          "base_uri": "https://localhost:8080/"
        },
        "id": "h3CSapE4HKNr",
        "outputId": "851ae158-a81c-4c4b-acb4-ccc27f9ed4d6"
      },
      "outputs": [
        {
          "data": {
            "text/plain": [
              "array([[ 5,  2,  7],\n",
              "       [ 4,  1,  8],\n",
              "       [11, 17, 25]])"
            ]
          },
          "execution_count": 10,
          "metadata": {},
          "output_type": "execute_result"
        }
      ],
      "source": [
        "v"
      ]
    },
    {
      "cell_type": "code",
      "execution_count": 11,
      "metadata": {
        "colab": {
          "base_uri": "https://localhost:8080/"
        },
        "id": "CNjVtY0MGyfH",
        "outputId": "8240067d-961c-4fea-b9ed-5b078bcc4d09"
      },
      "outputs": [
        {
          "data": {
            "text/plain": [
              "array([[ 46,  55,  98],\n",
              "       [106, 115, 218],\n",
              "       [166, 175, 338]])"
            ]
          },
          "execution_count": 11,
          "metadata": {},
          "output_type": "execute_result"
        }
      ],
      "source": [
        "#Matrix Multiplication\n",
        "a = np.matmul(v1,v)\n",
        "a"
      ]
    },
    {
      "cell_type": "code",
      "execution_count": 12,
      "metadata": {
        "colab": {
          "base_uri": "https://localhost:8080/"
        },
        "id": "QOFgvhjlHEFO",
        "outputId": "03e0cac8-297f-4fca-864e-80543e1355d6"
      },
      "outputs": [
        {
          "data": {
            "text/plain": [
              "array([[1, 2, 3],\n",
              "       [4, 5, 6],\n",
              "       [7, 8, 9]])"
            ]
          },
          "execution_count": 12,
          "metadata": {},
          "output_type": "execute_result"
        }
      ],
      "source": [
        "v1"
      ]
    },
    {
      "cell_type": "code",
      "execution_count": 13,
      "metadata": {
        "id": "Den32FvGHLoW"
      },
      "outputs": [],
      "source": [
        "#Alternative method for matmul\n",
        "b = np.dot(v,v1)"
      ]
    },
    {
      "cell_type": "code",
      "execution_count": 14,
      "metadata": {
        "colab": {
          "base_uri": "https://localhost:8080/"
        },
        "id": "5KVcE4z7IHSK",
        "outputId": "f6e90e9a-ba89-47fd-a4ef-05e59fb24b5c"
      },
      "outputs": [
        {
          "data": {
            "text/plain": [
              "array([[ 62,  76,  90],\n",
              "       [ 64,  77,  90],\n",
              "       [254, 307, 360]])"
            ]
          },
          "execution_count": 14,
          "metadata": {},
          "output_type": "execute_result"
        }
      ],
      "source": [
        "b"
      ]
    },
    {
      "cell_type": "code",
      "execution_count": 15,
      "metadata": {
        "id": "we3zw1nLIHp6"
      },
      "outputs": [],
      "source": [
        "#sum\n",
        "s = np.add(v,v1)"
      ]
    },
    {
      "cell_type": "code",
      "execution_count": 16,
      "metadata": {
        "colab": {
          "base_uri": "https://localhost:8080/"
        },
        "id": "IuGNd8EjLl8B",
        "outputId": "f2c5743b-8bcc-41d3-ec6c-3bad8f054389"
      },
      "outputs": [
        {
          "data": {
            "text/plain": [
              "array([[ 6,  4, 10],\n",
              "       [ 8,  6, 14],\n",
              "       [18, 25, 34]])"
            ]
          },
          "execution_count": 16,
          "metadata": {},
          "output_type": "execute_result"
        }
      ],
      "source": [
        "s"
      ]
    },
    {
      "cell_type": "code",
      "execution_count": 17,
      "metadata": {
        "id": "S1qBxuRYLq_R"
      },
      "outputs": [],
      "source": [
        "div = np.divide(v,v1)"
      ]
    },
    {
      "cell_type": "code",
      "execution_count": 18,
      "metadata": {
        "colab": {
          "base_uri": "https://localhost:8080/"
        },
        "id": "uTYiJDGGL3Dw",
        "outputId": "382da123-73f4-413a-d6d9-042917e3c8b8"
      },
      "outputs": [
        {
          "data": {
            "text/plain": [
              "array([[5.        , 1.        , 2.33333333],\n",
              "       [1.        , 0.2       , 1.33333333],\n",
              "       [1.57142857, 2.125     , 2.77777778]])"
            ]
          },
          "execution_count": 18,
          "metadata": {},
          "output_type": "execute_result"
        }
      ],
      "source": [
        "div"
      ]
    },
    {
      "cell_type": "code",
      "execution_count": 19,
      "metadata": {
        "colab": {
          "base_uri": "https://localhost:8080/"
        },
        "id": "Yzk5BWcTL5OS",
        "outputId": "27d04415-36b0-414e-a865-c55cee8b79cd"
      },
      "outputs": [
        {
          "data": {
            "text/plain": [
              "array([[ 5,  2,  7],\n",
              "       [ 4,  1,  8],\n",
              "       [11, 17, 25]])"
            ]
          },
          "execution_count": 19,
          "metadata": {},
          "output_type": "execute_result"
        }
      ],
      "source": [
        "v"
      ]
    },
    {
      "cell_type": "code",
      "execution_count": 20,
      "metadata": {
        "colab": {
          "base_uri": "https://localhost:8080/"
        },
        "id": "-S62_uQDL6sK",
        "outputId": "d7b751ad-2c44-4d03-b027-0b00d20684e3"
      },
      "outputs": [
        {
          "data": {
            "text/plain": [
              "array([[1, 2, 3],\n",
              "       [4, 5, 6],\n",
              "       [7, 8, 9]])"
            ]
          },
          "execution_count": 20,
          "metadata": {},
          "output_type": "execute_result"
        }
      ],
      "source": [
        "v1"
      ]
    },
    {
      "cell_type": "code",
      "execution_count": 21,
      "metadata": {
        "id": "JfQxDx4eL7Bz"
      },
      "outputs": [],
      "source": [
        "#linear multiplication in numpy\n",
        "m = np.multiply(v,v1)"
      ]
    },
    {
      "cell_type": "code",
      "execution_count": 22,
      "metadata": {
        "colab": {
          "base_uri": "https://localhost:8080/"
        },
        "id": "LfjOToaxMKPL",
        "outputId": "34ac73f4-6dfb-4e7e-ee9e-e8152ffdbb0d"
      },
      "outputs": [
        {
          "data": {
            "text/plain": [
              "array([[  5,   4,  21],\n",
              "       [ 16,   5,  48],\n",
              "       [ 77, 136, 225]])"
            ]
          },
          "execution_count": 22,
          "metadata": {},
          "output_type": "execute_result"
        }
      ],
      "source": [
        "m"
      ]
    },
    {
      "cell_type": "code",
      "execution_count": 23,
      "metadata": {
        "id": "e0VXsViLMKnN"
      },
      "outputs": [],
      "source": [
        "#subtract \n",
        "sub = np.subtract(v,v1)"
      ]
    },
    {
      "cell_type": "code",
      "execution_count": 24,
      "metadata": {
        "colab": {
          "base_uri": "https://localhost:8080/"
        },
        "id": "BSzLl1V_Ml3p",
        "outputId": "bbd86e0d-d8be-4df2-c5f1-c08a4bb3e4c9"
      },
      "outputs": [
        {
          "data": {
            "text/plain": [
              "array([[ 4,  0,  4],\n",
              "       [ 0, -4,  2],\n",
              "       [ 4,  9, 16]])"
            ]
          },
          "execution_count": 24,
          "metadata": {},
          "output_type": "execute_result"
        }
      ],
      "source": [
        "sub"
      ]
    },
    {
      "cell_type": "code",
      "execution_count": null,
      "metadata": {
        "id": "AJmjJyKEMmbU"
      },
      "outputs": [],
      "source": []
    }
  ],
  "metadata": {
    "colab": {
      "name": "Numpy.ipynb",
      "provenance": []
    },
    "kernelspec": {
      "display_name": "Python 3.10.5 64-bit",
      "language": "python",
      "name": "python3"
    },
    "language_info": {
      "codemirror_mode": {
        "name": "ipython",
        "version": 3
      },
      "file_extension": ".py",
      "mimetype": "text/x-python",
      "name": "python",
      "nbconvert_exporter": "python",
      "pygments_lexer": "ipython3",
      "version": "3.10.5"
    },
    "vscode": {
      "interpreter": {
        "hash": "26de051ba29f2982a8de78e945f0abaf191376122a1563185a90213a26c5da77"
      }
    }
  },
  "nbformat": 4,
  "nbformat_minor": 0
}
