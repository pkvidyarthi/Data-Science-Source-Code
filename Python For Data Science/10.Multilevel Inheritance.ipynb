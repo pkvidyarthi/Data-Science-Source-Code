{
 "cells": [
  {
   "cell_type": "code",
   "execution_count": null,
   "metadata": {},
   "outputs": [],
   "source": [
    "# Multi-Level Inheritance :\n",
    "''' \n",
    "=> In Multi-Level inheritance, we have Parent, Child and Grand-child relationship.\n",
    "\n",
    "                                PARENT\n",
    "                                  |\n",
    "                                CHILD\n",
    "                                  |\n",
    "                             GRAND-CHILD\n",
    "'''\n",
    "# Example: "
   ]
  },
  {
   "cell_type": "code",
   "execution_count": 11,
   "metadata": {},
   "outputs": [],
   "source": [
    "# Parent Class\n",
    "class Parent:\n",
    "    def get_name(self, name):\n",
    "        self.name = name\n",
    "    def show_name(self):\n",
    "        return self.name\n",
    "# Child Class\n",
    "class Child(Parent):\n",
    "    def get_age(self, age):\n",
    "        self.age = age\n",
    "    def show_age(self):\n",
    "        return self.age\n",
    "# Grand-Child Classs\n",
    "class Grand_Child(Child):\n",
    "    def get_gender(self, gender):\n",
    "        self.gender = gender\n",
    "    def shpw_gender(self):\n",
    "        return self.gender\n",
    "\n",
    "gc = Grand_Child()       # Instantiating object of class Grand Child.\n",
    "\n",
    "# Invoking Methods: \n",
    "gc.get_name(\"Prince\")\n",
    "gc.get_age(23)\n",
    "gc.get_gender(\"Male\")\n"
   ]
  },
  {
   "cell_type": "code",
   "execution_count": 12,
   "metadata": {},
   "outputs": [
    {
     "data": {
      "text/plain": [
       "'Prince'"
      ]
     },
     "execution_count": 12,
     "metadata": {},
     "output_type": "execute_result"
    }
   ],
   "source": [
    "gc.show_name()"
   ]
  },
  {
   "cell_type": "code",
   "execution_count": 6,
   "metadata": {},
   "outputs": [
    {
     "data": {
      "text/plain": [
       "23"
      ]
     },
     "execution_count": 6,
     "metadata": {},
     "output_type": "execute_result"
    }
   ],
   "source": [
    "gc.show_age()"
   ]
  },
  {
   "cell_type": "code",
   "execution_count": 10,
   "metadata": {},
   "outputs": [
    {
     "data": {
      "text/plain": [
       "'Male'"
      ]
     },
     "execution_count": 10,
     "metadata": {},
     "output_type": "execute_result"
    }
   ],
   "source": [
    "gc.shpw_gender()"
   ]
  }
 ],
 "metadata": {
  "kernelspec": {
   "display_name": "Python 3.10.5 64-bit",
   "language": "python",
   "name": "python3"
  },
  "language_info": {
   "codemirror_mode": {
    "name": "ipython",
    "version": 3
   },
   "file_extension": ".py",
   "mimetype": "text/x-python",
   "name": "python",
   "nbconvert_exporter": "python",
   "pygments_lexer": "ipython3",
   "version": "3.10.5"
  },
  "orig_nbformat": 4,
  "vscode": {
   "interpreter": {
    "hash": "26de051ba29f2982a8de78e945f0abaf191376122a1563185a90213a26c5da77"
   }
  }
 },
 "nbformat": 4,
 "nbformat_minor": 2
}
