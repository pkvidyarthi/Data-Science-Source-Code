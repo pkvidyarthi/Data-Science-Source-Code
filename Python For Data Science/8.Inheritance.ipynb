{
 "cells": [
  {
   "cell_type": "code",
   "execution_count": 13,
   "metadata": {},
   "outputs": [
    {
     "name": "stdout",
     "output_type": "stream",
     "text": [
      "Mileage of vehicle is:  200\n",
      "Cost of vehicle is:  500000\n",
      "I am a vehicle.\n",
      "Mileage of vehicle is:  350\n",
      "Cost of vehicle is:  1200000\n",
      "I am a vehicle.\n",
      "I am a car.\n"
     ]
    }
   ],
   "source": [
    "# Inheritance in Python : \n",
    "#! Single Inheritance:\n",
    "''' \n",
    "With inheritancce one class can derive the properties of another class.\n",
    "eg: Man inheriting features from his father (parent).\n",
    "'''\n",
    "# Example:\n",
    "#! Creating the base class (parent class)\n",
    "class Vehicle:\n",
    "    def __init__(self, mileage, cost):\n",
    "        self.mileage = mileage\n",
    "        self.cost = cost\n",
    "    def show_vehicle_details(self):\n",
    "        print(\"Mileage of vehicle is: \", self.mileage)\n",
    "        print(\"Cost of vehicle is: \", self.cost)\n",
    "        print(\"I am a vehicle.\")\n",
    "# Instantiating the object for base class :\n",
    "v1 = Vehicle(200, 500000)\n",
    "v1.show_vehicle_details()\n",
    "\n",
    "#! Creating the subclass (child class)\n",
    "class Car(Vehicle):\n",
    "    def show_car_details(self):\n",
    "        print(\"I am a car.\")\n",
    "# Instantiating the object for child class\n",
    "c1 = Car(350, 1200000)\n",
    "c1.show_vehicle_details()\n",
    "# Invoking the child class method\n",
    "c1.show_car_details()\n",
    "\n"
   ]
  },
  {
   "cell_type": "code",
   "execution_count": 9,
   "metadata": {},
   "outputs": [
    {
     "name": "stdout",
     "output_type": "stream",
     "text": [
      "Mileage of vehicle is:  250\n",
      "Cost of vehicle is:  700000\n",
      "I am a vehicle.\n",
      "Number of tyres in car:  6\n",
      "Horse Power of car is:  763\n",
      "I am a car.\n",
      "Mileage of vehicle is:  330\n",
      "Cost of vehicle is:  1700000\n",
      "I am a vehicle.\n"
     ]
    }
   ],
   "source": [
    "# Over-riding __init__ method: \n",
    "\n",
    "class Vehicle:                   # Parent Class (Base Class)\n",
    "    def __init__(self, mileage, cost):\n",
    "        self.mileage = mileage\n",
    "        self.cost = cost\n",
    "    def show_vehicle_details(self):\n",
    "        print(\"Mileage of vehicle is: \", self.mileage)\n",
    "        print(\"Cost of vehicle is: \", self.cost)\n",
    "        print(\"I am a vehicle.\")\n",
    "v1 = Vehicle(250, 700000)\n",
    "v1.show_vehicle_details()\n",
    "# Output:\n",
    "''' \n",
    "Mileage of vehicle is:  250\n",
    "Cost of vehicle is:  700000\n",
    "I am a vehicle.\n",
    "'''\n",
    "#! Overriding __init__ Method\n",
    "class Car(Vehicle):              # Child Class (Subclass)\n",
    "    def __init__(self, mileage, cost, tyre, hp):\n",
    "        super().__init__(mileage, cost)\n",
    "        self.tyre = tyre\n",
    "        self.hp = hp\n",
    "    def show_car_details(self):\n",
    "        print(\"Number of tyres in car: \", self.tyre)\n",
    "        print(\"Horse Power of car is: \", self.hp)\n",
    "        print(\"I am a car.\")\n",
    "c1 = Car(330, 1700000, 6, 763)\n",
    "c1.show_car_details()                      # invoking show_car_details() method from child class\n",
    "# Output:\n",
    "''' \n",
    "Number of tyres in car:  6\n",
    "Horse Power of car is:  763\n",
    "I am a car.\n",
    "'''\n",
    "c1.show_vehicle_details()                  # invoking shoe_vehicle_details() method from parent class\n",
    "# Output:\n",
    "''' \n",
    "Mileage of vehicle is:  330\n",
    "Cost of vehicle is:  1700000\n",
    "I am a vehicle.\n",
    "'''\n",
    "# Overrides Vehicle(Parent) Class and Car(Child) Class\n",
    "\n"
   ]
  },
  {
   "cell_type": "code",
   "execution_count": null,
   "metadata": {},
   "outputs": [],
   "source": [
    "# Types of Inheritance: \n",
    "''' \n",
    "1. Single Inheritance \n",
    "2. Multiple Inheritance \n",
    "3. Multilevel Inheritance \n",
    "4. Hybrid Inheritance \n",
    "'''\n",
    "# Single Inheritance: Discussed Above"
   ]
  }
 ],
 "metadata": {
  "kernelspec": {
   "display_name": "Python 3.10.5 64-bit",
   "language": "python",
   "name": "python3"
  },
  "language_info": {
   "codemirror_mode": {
    "name": "ipython",
    "version": 3
   },
   "file_extension": ".py",
   "mimetype": "text/x-python",
   "name": "python",
   "nbconvert_exporter": "python",
   "pygments_lexer": "ipython3",
   "version": "3.10.5"
  },
  "orig_nbformat": 4,
  "vscode": {
   "interpreter": {
    "hash": "26de051ba29f2982a8de78e945f0abaf191376122a1563185a90213a26c5da77"
   }
  }
 },
 "nbformat": 4,
 "nbformat_minor": 2
}
