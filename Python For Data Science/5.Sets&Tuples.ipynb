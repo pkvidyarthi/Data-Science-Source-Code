{
 "cells": [
  {
   "cell_type": "code",
   "execution_count": 2,
   "metadata": {},
   "outputs": [
    {
     "name": "stdout",
     "output_type": "stream",
     "text": [
      "set()\n",
      "<class 'set'>\n",
      "{1, 2, 4, 5, 7}\n",
      "<class 'set'>\n",
      "{1, 2, 4, 5, 7}\n"
     ]
    }
   ],
   "source": [
    "# SETS\n",
    "a = set()          \n",
    "print(a)                     # Output => set()     \n",
    "print(type(a))               # Output => <class 'set'>\n",
    "\n",
    "a = {5, 2, 7, 1, 4}\n",
    "print(a)                     # Output => set()        \n",
    "print(type(a))               # Output => {1, 2, 4, 5, 7}    \n",
    "\n",
    "''' \n",
    "=> This is based on a data structure known as a hash table. \n",
    "=> Sets are unordered, we cannot access items using indexes like we do in lists.\n",
    "=> The major advantage of using a set, as opposed to a list, \n",
    "   is that it has a highly optimized method for checking whether a specific element is contained in the set.\n",
    "'''\n",
    "print(a)"
   ]
  },
  {
   "cell_type": "code",
   "execution_count": 3,
   "metadata": {},
   "outputs": [
    {
     "name": "stdout",
     "output_type": "stream",
     "text": [
      "{1, 2, 4, 5, 7}\n",
      "{1, 2, 4, 5, 6, 7}\n",
      "{1, 2, 3, 4, 5, 6, 7}\n",
      "{0, 1, 2, 3, 4, 5, 6, 7}\n"
     ]
    }
   ],
   "source": [
    "#adding an element in set.\n",
    "print(a)\n",
    "a.add(6)\n",
    "print(a)                    # Output => {1, 2, 4, 5, 6, 7} => 6 is added.\n",
    "a.add(3)\n",
    "print(a)                    # Output => {1, 2, 3, 4, 5, 6, 7} => 3 is added.\n",
    "a.add(0)\n",
    "print(a)                    # Output => {0, 1, 2, 3, 4, 5, 6, 7} => 0 is added."
   ]
  },
  {
   "cell_type": "code",
   "execution_count": 4,
   "metadata": {},
   "outputs": [
    {
     "name": "stdout",
     "output_type": "stream",
     "text": [
      "{0, 1, 2, 3, 4, 5, 6, 7, -10}\n"
     ]
    },
    {
     "data": {
      "text/plain": [
       "{-10, 0, 1, 2, 3, 4, 5, 6, 7}"
      ]
     },
     "execution_count": 4,
     "metadata": {},
     "output_type": "execute_result"
    }
   ],
   "source": [
    "a.add(-10)\n",
    "print(a)\n",
    "a"
   ]
  },
  {
   "cell_type": "code",
   "execution_count": 5,
   "metadata": {},
   "outputs": [
    {
     "name": "stdout",
     "output_type": "stream",
     "text": [
      "{0, 1, 2, 3, 4, 5, 6, 7, 9, 10, -10, -2, -1}\n"
     ]
    },
    {
     "data": {
      "text/plain": [
       "{-10, -2, -1, 0, 1, 2, 3, 4, 5, 6, 7, 9, 10}"
      ]
     },
     "execution_count": 5,
     "metadata": {},
     "output_type": "execute_result"
    }
   ],
   "source": [
    "a.update([-1,9, 10, -2])\n",
    "print(a)\n",
    "a"
   ]
  },
  {
   "cell_type": "code",
   "execution_count": 6,
   "metadata": {},
   "outputs": [
    {
     "name": "stdout",
     "output_type": "stream",
     "text": [
      "True\n",
      "False\n"
     ]
    }
   ],
   "source": [
    "b = {0, 1, 2, 3, 4, 5, 6, 7}\n",
    "print(7 in b )                  # Output => True\n",
    "print(-2 in b)                  # Output => False"
   ]
  },
  {
   "cell_type": "code",
   "execution_count": 8,
   "metadata": {},
   "outputs": [
    {
     "name": "stdout",
     "output_type": "stream",
     "text": [
      "{0, 1, 2, 3, 4, 6, 7}\n",
      "{0, 1, 2, 3, 4, 6, 7}\n",
      "{0, 1, 2, 3, 4, 6, 7}\n",
      "{0, 1, 2, 3, 4, 6, 7}\n",
      "{0, 1, 2, 3, 4, 6, 7}\n"
     ]
    }
   ],
   "source": [
    "#discard() => Removes the element from the set only if the element is present in the set. \n",
    "#            If the element is not present in the set, then no error or exception is raised \n",
    "#            and the original set is printed.\n",
    "print(b)\n",
    "b.discard(5)\n",
    "print(b)                       # Output => {0, 1, 2, 3, 4, 6, 7}\n",
    "b.discard(5)\n",
    "print(b)                       # Output => {0, 1, 2, 3, 4, 6, 7} \n",
    "''' There is no error after using discard() for the same element again an again. '''\n",
    "b.discard(10)\n",
    "print(b)                       # Output => {0, 1, 2, 3, 4, 6, 7}\n",
    "\n",
    "''' There is also no error after using discard() \n",
    "    for the element which is not present in the given set. '''\n",
    "\n",
    "# NOTE => While remove() function will show error.\n",
    "\n",
    "print(b)"
   ]
  },
  {
   "cell_type": "code",
   "execution_count": 9,
   "metadata": {},
   "outputs": [
    {
     "name": "stdout",
     "output_type": "stream",
     "text": [
      "{0, 1, 2, 3, 4, 6, 7}\n",
      "{0, 1, 2, 4, 6, 7}\n"
     ]
    },
    {
     "ename": "KeyError",
     "evalue": "3",
     "output_type": "error",
     "traceback": [
      "\u001b[1;31m---------------------------------------------------------------------------\u001b[0m",
      "\u001b[1;31mKeyError\u001b[0m                                  Traceback (most recent call last)",
      "\u001b[1;32mc:\\Users\\PKVidyarthi\\Desktop\\Data Science\\Notes\\Sets&Tuples.ipynb Cell 7\u001b[0m in \u001b[0;36m<cell line: 8>\u001b[1;34m()\u001b[0m\n\u001b[0;32m      <a href='vscode-notebook-cell:/c%3A/Users/PKVidyarthi/Desktop/Data%20Science/Notes/Sets%26Tuples.ipynb#ch0000006?line=4'>5</a>\u001b[0m b\u001b[39m.\u001b[39mremove(\u001b[39m3\u001b[39m)\n\u001b[0;32m      <a href='vscode-notebook-cell:/c%3A/Users/PKVidyarthi/Desktop/Data%20Science/Notes/Sets%26Tuples.ipynb#ch0000006?line=5'>6</a>\u001b[0m \u001b[39mprint\u001b[39m(b)                      \u001b[39m# Output => {0, 1, 2, 4, 6, 7} => removed 3 from the given set.\u001b[39;00m\n\u001b[1;32m----> <a href='vscode-notebook-cell:/c%3A/Users/PKVidyarthi/Desktop/Data%20Science/Notes/Sets%26Tuples.ipynb#ch0000006?line=7'>8</a>\u001b[0m b\u001b[39m.\u001b[39;49mremove(\u001b[39m3\u001b[39;49m)                   \u001b[39m# shows an error because the element 3 is already removed from the set.\u001b[39;00m\n\u001b[0;32m      <a href='vscode-notebook-cell:/c%3A/Users/PKVidyarthi/Desktop/Data%20Science/Notes/Sets%26Tuples.ipynb#ch0000006?line=8'>9</a>\u001b[0m \u001b[39mprint\u001b[39m(b) \n\u001b[0;32m     <a href='vscode-notebook-cell:/c%3A/Users/PKVidyarthi/Desktop/Data%20Science/Notes/Sets%26Tuples.ipynb#ch0000006?line=10'>11</a>\u001b[0m b\u001b[39m.\u001b[39mremove(\u001b[39m9\u001b[39m)\n",
      "\u001b[1;31mKeyError\u001b[0m: 3"
     ]
    }
   ],
   "source": [
    "# remove() => Removes the element from the set only if the element is present in the set, \n",
    "#             just as the discard() method does but If the element is not present in the set, \n",
    "#             then an error or exception is raised.\n",
    "print(b)\n",
    "b.remove(3)\n",
    "print(b)                      # Output => {0, 1, 2, 4, 6, 7} => removed 3 from the given set.\n",
    "\n",
    "b.remove(3)                   # shows an error because the element 3 is already removed from the set.\n",
    "print(b) \n",
    "\n",
    "b.remove(9)\n",
    "print(b)                      # Shows an error. \n",
    "                    \n"
   ]
  },
  {
   "cell_type": "code",
   "execution_count": 10,
   "metadata": {},
   "outputs": [
    {
     "name": "stdout",
     "output_type": "stream",
     "text": [
      "{0, 1, 2, 4, 6, 7}\n",
      "0\n",
      "{1, 2, 4, 6, 7}\n"
     ]
    }
   ],
   "source": [
    "#pop() => The pop() method removes a random item from the set.\n",
    "        # This method returns the removed item.\n",
    "print(b)\n",
    "x = b.pop()           # Removed element will be store in x.\n",
    "print(x)              # Output => 0  => Removed 0\n",
    "print(b)              # Output => {1, 2, 4, 6, 7}\n"
   ]
  },
  {
   "cell_type": "code",
   "execution_count": 11,
   "metadata": {},
   "outputs": [
    {
     "name": "stdout",
     "output_type": "stream",
     "text": [
      "1\n",
      "{2, 4, 6, 7}\n"
     ]
    }
   ],
   "source": [
    "# pop() deletes random items from set.\n",
    "y = b.pop()\n",
    "print(y)\n",
    "print(b)\n",
    "\n"
   ]
  },
  {
   "cell_type": "code",
   "execution_count": 12,
   "metadata": {},
   "outputs": [
    {
     "name": "stdout",
     "output_type": "stream",
     "text": [
      "{'grapes', 'banana', 'apple', 'orange', 'cherry'}\n"
     ]
    }
   ],
   "source": [
    "set1 = {'apple', 'cherry', 'banana', 'orange', 'grapes'}\n",
    "print(set1)"
   ]
  },
  {
   "cell_type": "code",
   "execution_count": 13,
   "metadata": {},
   "outputs": [
    {
     "name": "stdout",
     "output_type": "stream",
     "text": [
      "{'grapes', 'banana', 'apple', 'orange', 'pineapple', 'cherry'}\n"
     ]
    }
   ],
   "source": [
    "set1.add('pineapple')\n",
    "print(set1)"
   ]
  },
  {
   "cell_type": "code",
   "execution_count": 14,
   "metadata": {},
   "outputs": [
    {
     "name": "stdout",
     "output_type": "stream",
     "text": [
      "{'grapes', 'banana', 'berry', 'apple', 'mango', 'orange', 'pineapple', 'cherry'}\n"
     ]
    }
   ],
   "source": [
    "set1.update(['mango', 'berry'])\n",
    "print(set1)"
   ]
  },
  {
   "cell_type": "code",
   "execution_count": 15,
   "metadata": {},
   "outputs": [
    {
     "name": "stdout",
     "output_type": "stream",
     "text": [
      "{'grapes', 'banana', 'apple', 'mango', 'orange', 'pineapple', 'cherry'}\n"
     ]
    }
   ],
   "source": [
    "set1.discard('berry')\n",
    "print(set1)\n",
    "\n",
    "set1.discard('melon')\n",
    "\n",
    "# This cell can be run again and again, doesn't show any error."
   ]
  },
  {
   "cell_type": "code",
   "execution_count": 16,
   "metadata": {},
   "outputs": [
    {
     "name": "stdout",
     "output_type": "stream",
     "text": [
      "cherry\n"
     ]
    }
   ],
   "source": [
    "set1.remove('cherry')\n",
    "print('cherry');"
   ]
  },
  {
   "cell_type": "code",
   "execution_count": 17,
   "metadata": {},
   "outputs": [
    {
     "ename": "KeyError",
     "evalue": "'cherry'",
     "output_type": "error",
     "traceback": [
      "\u001b[1;31m---------------------------------------------------------------------------\u001b[0m",
      "\u001b[1;31mKeyError\u001b[0m                                  Traceback (most recent call last)",
      "\u001b[1;32mc:\\Users\\PKVidyarthi\\Desktop\\Data Science\\Notes\\Sets&Tuples.ipynb Cell 15\u001b[0m in \u001b[0;36m<cell line: 1>\u001b[1;34m()\u001b[0m\n\u001b[1;32m----> <a href='vscode-notebook-cell:/c%3A/Users/PKVidyarthi/Desktop/Data%20Science/Notes/Sets%26Tuples.ipynb#ch0000014?line=0'>1</a>\u001b[0m set1\u001b[39m.\u001b[39;49mremove(\u001b[39m'\u001b[39;49m\u001b[39mcherry\u001b[39;49m\u001b[39m'\u001b[39;49m)\n\u001b[0;32m      <a href='vscode-notebook-cell:/c%3A/Users/PKVidyarthi/Desktop/Data%20Science/Notes/Sets%26Tuples.ipynb#ch0000014?line=1'>2</a>\u001b[0m \u001b[39mprint\u001b[39m(set1)\n",
      "\u001b[1;31mKeyError\u001b[0m: 'cherry'"
     ]
    }
   ],
   "source": [
    "set1.remove('cherry')\n",
    "print(set1)\n",
    "# shows error because 'cherry' is already removed."
   ]
  },
  {
   "cell_type": "code",
   "execution_count": 18,
   "metadata": {},
   "outputs": [
    {
     "ename": "KeyError",
     "evalue": "'melon'",
     "output_type": "error",
     "traceback": [
      "\u001b[1;31m---------------------------------------------------------------------------\u001b[0m",
      "\u001b[1;31mKeyError\u001b[0m                                  Traceback (most recent call last)",
      "\u001b[1;32mc:\\Users\\PKVidyarthi\\Desktop\\Data Science\\Notes\\Sets&Tuples.ipynb Cell 16\u001b[0m in \u001b[0;36m<cell line: 1>\u001b[1;34m()\u001b[0m\n\u001b[1;32m----> <a href='vscode-notebook-cell:/c%3A/Users/PKVidyarthi/Desktop/Data%20Science/Notes/Sets%26Tuples.ipynb#ch0000015?line=0'>1</a>\u001b[0m set1\u001b[39m.\u001b[39;49mremove(\u001b[39m'\u001b[39;49m\u001b[39mmelon\u001b[39;49m\u001b[39m'\u001b[39;49m)\n\u001b[0;32m      <a href='vscode-notebook-cell:/c%3A/Users/PKVidyarthi/Desktop/Data%20Science/Notes/Sets%26Tuples.ipynb#ch0000015?line=1'>2</a>\u001b[0m \u001b[39mprint\u001b[39m(set1)\n",
      "\u001b[1;31mKeyError\u001b[0m: 'melon'"
     ]
    }
   ],
   "source": [
    "set1.remove('melon')\n",
    "print(set1)\n",
    "# shows error because 'melon' does not exist in the given set."
   ]
  },
  {
   "cell_type": "code",
   "execution_count": 19,
   "metadata": {},
   "outputs": [
    {
     "name": "stdout",
     "output_type": "stream",
     "text": [
      "grapes\n",
      "{'banana', 'apple', 'mango', 'orange', 'pineapple'}\n"
     ]
    }
   ],
   "source": [
    "popped = set1.pop() \n",
    "# It will remove random element from the set and will store in variable 'popped'.         \n",
    "print(popped)  \n",
    "# popped => removed element.   \n",
    "print(set1)  \n",
    "# set1 => updated set. \n",
    "\n"
   ]
  },
  {
   "cell_type": "code",
   "execution_count": 20,
   "metadata": {},
   "outputs": [
    {
     "name": "stdout",
     "output_type": "stream",
     "text": [
      "set()\n"
     ]
    }
   ],
   "source": [
    "# clear()\n",
    "b.clear()\n",
    "print(b)\n",
    "# can be run again and again."
   ]
  },
  {
   "cell_type": "code",
   "execution_count": 21,
   "metadata": {},
   "outputs": [
    {
     "ename": "NameError",
     "evalue": "name 'b' is not defined",
     "output_type": "error",
     "traceback": [
      "\u001b[1;31m---------------------------------------------------------------------------\u001b[0m",
      "\u001b[1;31mNameError\u001b[0m                                 Traceback (most recent call last)",
      "\u001b[1;32mc:\\Users\\PKVidyarthi\\Desktop\\Data Science\\Notes\\Sets&Tuples.ipynb Cell 19\u001b[0m in \u001b[0;36m<cell line: 3>\u001b[1;34m()\u001b[0m\n\u001b[0;32m      <a href='vscode-notebook-cell:/c%3A/Users/PKVidyarthi/Desktop/Data%20Science/Notes/Sets%26Tuples.ipynb#ch0000018?line=0'>1</a>\u001b[0m \u001b[39m# del => delete the given set from root.\u001b[39;00m\n\u001b[0;32m      <a href='vscode-notebook-cell:/c%3A/Users/PKVidyarthi/Desktop/Data%20Science/Notes/Sets%26Tuples.ipynb#ch0000018?line=1'>2</a>\u001b[0m \u001b[39mdel\u001b[39;00m b\n\u001b[1;32m----> <a href='vscode-notebook-cell:/c%3A/Users/PKVidyarthi/Desktop/Data%20Science/Notes/Sets%26Tuples.ipynb#ch0000018?line=2'>3</a>\u001b[0m \u001b[39mprint\u001b[39m(b)\n",
      "\u001b[1;31mNameError\u001b[0m: name 'b' is not defined"
     ]
    }
   ],
   "source": [
    "# del => delete the given set from root.\n",
    "del b\n",
    "print(b)               # Error => name 'b' is not defined"
   ]
  },
  {
   "cell_type": "code",
   "execution_count": 22,
   "metadata": {},
   "outputs": [
    {
     "name": "stdout",
     "output_type": "stream",
     "text": [
      "{'banana', 'apple', 'mango', 'orange', 'pineapple'}\n"
     ]
    },
    {
     "ename": "NameError",
     "evalue": "name 'set1' is not defined",
     "output_type": "error",
     "traceback": [
      "\u001b[1;31m---------------------------------------------------------------------------\u001b[0m",
      "\u001b[1;31mNameError\u001b[0m                                 Traceback (most recent call last)",
      "\u001b[1;32mc:\\Users\\PKVidyarthi\\Desktop\\Data Science\\Notes\\Sets&Tuples.ipynb Cell 20\u001b[0m in \u001b[0;36m<cell line: 3>\u001b[1;34m()\u001b[0m\n\u001b[0;32m      <a href='vscode-notebook-cell:/c%3A/Users/PKVidyarthi/Desktop/Data%20Science/Notes/Sets%26Tuples.ipynb#ch0000019?line=0'>1</a>\u001b[0m \u001b[39mprint\u001b[39m(set1)           \u001b[39m# Output => {'orange', 'pineapple', 'banana', 'mango', 'apple'}\u001b[39;00m\n\u001b[0;32m      <a href='vscode-notebook-cell:/c%3A/Users/PKVidyarthi/Desktop/Data%20Science/Notes/Sets%26Tuples.ipynb#ch0000019?line=1'>2</a>\u001b[0m \u001b[39mdel\u001b[39;00m set1\n\u001b[1;32m----> <a href='vscode-notebook-cell:/c%3A/Users/PKVidyarthi/Desktop/Data%20Science/Notes/Sets%26Tuples.ipynb#ch0000019?line=2'>3</a>\u001b[0m \u001b[39mprint\u001b[39m(set1)\n",
      "\u001b[1;31mNameError\u001b[0m: name 'set1' is not defined"
     ]
    }
   ],
   "source": [
    "print(set1)           # Output => {'orange', 'pineapple', 'banana', 'mango', 'apple'}\n",
    "del set1\n",
    "print(set1)           # Error => name 'set1' is not defined"
   ]
  },
  {
   "cell_type": "code",
   "execution_count": 23,
   "metadata": {},
   "outputs": [
    {
     "name": "stdout",
     "output_type": "stream",
     "text": [
      "{'a', 'i', 'e', 'u', 'o'}\n",
      "<class 'set'>\n",
      "5\n"
     ]
    },
    {
     "data": {
      "text/plain": [
       "{'a', 'e', 'i', 'o', 'u'}"
      ]
     },
     "execution_count": 23,
     "metadata": {},
     "output_type": "execute_result"
    }
   ],
   "source": [
    "b = set(['a','e','i','u','o'])\n",
    "print(b)              # Output => {'o', 'a', 'i', 'u', 'e'}\n",
    "print(type(b))        # Output => <class 'set'>\n",
    "print(len(b))         # Output => 5\n",
    "b                     # Output => {'a', 'e', 'i', 'o', 'u'}"
   ]
  },
  {
   "cell_type": "code",
   "execution_count": 24,
   "metadata": {},
   "outputs": [
    {
     "name": "stdout",
     "output_type": "stream",
     "text": [
      "{1, 2, 3, 4, 5}\n",
      "<class 'set'>\n",
      "{0, 4, 5, 6, 7, 8}\n",
      "<class 'set'>\n"
     ]
    }
   ],
   "source": [
    "A = set([1, 2, 3, 4, 5])\n",
    "B = {0, 4, 5, 6, 7, 8}\n",
    "\n",
    "print(A)\n",
    "print(type(A))\n",
    "print(B)\n",
    "print(type(B))"
   ]
  },
  {
   "cell_type": "code",
   "execution_count": 25,
   "metadata": {},
   "outputs": [
    {
     "name": "stdout",
     "output_type": "stream",
     "text": [
      "{0, 1, 2, 3, 4, 5, 6, 7, 8}\n"
     ]
    }
   ],
   "source": [
    "# Union Operator\n",
    "print(A.union(B))"
   ]
  },
  {
   "cell_type": "code",
   "execution_count": 27,
   "metadata": {},
   "outputs": [
    {
     "name": "stdout",
     "output_type": "stream",
     "text": [
      "{0, 1, 2, 3, 4, 5, 6, 7, 8}\n"
     ]
    }
   ],
   "source": [
    "print(A | B)"
   ]
  },
  {
   "cell_type": "code",
   "execution_count": 28,
   "metadata": {},
   "outputs": [
    {
     "name": "stdout",
     "output_type": "stream",
     "text": [
      "{0, 1, 2, 3, 4, 5, 6, 7, 8}\n"
     ]
    }
   ],
   "source": [
    "print(B | A)"
   ]
  },
  {
   "cell_type": "code",
   "execution_count": 29,
   "metadata": {},
   "outputs": [
    {
     "name": "stdout",
     "output_type": "stream",
     "text": [
      "{4, 5}\n"
     ]
    }
   ],
   "source": [
    "# Intersection Operator\n",
    "C = A.intersection(B)\n",
    "print(C)"
   ]
  },
  {
   "cell_type": "code",
   "execution_count": 30,
   "metadata": {},
   "outputs": [
    {
     "name": "stdout",
     "output_type": "stream",
     "text": [
      "{4, 5}\n"
     ]
    }
   ],
   "source": [
    "print(A & B)         # Intersection => '&'"
   ]
  },
  {
   "cell_type": "code",
   "execution_count": 31,
   "metadata": {},
   "outputs": [
    {
     "name": "stdout",
     "output_type": "stream",
     "text": [
      "{4, 5}\n"
     ]
    }
   ],
   "source": [
    "print(B & A)"
   ]
  },
  {
   "cell_type": "code",
   "execution_count": 32,
   "metadata": {},
   "outputs": [
    {
     "name": "stdout",
     "output_type": "stream",
     "text": [
      "{1, 2, 3, 4, 5}\n",
      "{0, 4, 5, 6, 7, 8}\n"
     ]
    }
   ],
   "source": [
    "print(A)\n",
    "print(B)"
   ]
  },
  {
   "cell_type": "code",
   "execution_count": 33,
   "metadata": {},
   "outputs": [
    {
     "name": "stdout",
     "output_type": "stream",
     "text": [
      "{1, 2, 3}\n"
     ]
    }
   ],
   "source": [
    "# Difference\n",
    "D = A.difference(B)\n",
    "print(D)"
   ]
  },
  {
   "cell_type": "code",
   "execution_count": 34,
   "metadata": {},
   "outputs": [
    {
     "name": "stdout",
     "output_type": "stream",
     "text": [
      "{0, 8, 6, 7}\n"
     ]
    }
   ],
   "source": [
    "D = B.difference(A)\n",
    "print(D)"
   ]
  },
  {
   "cell_type": "code",
   "execution_count": 35,
   "metadata": {},
   "outputs": [
    {
     "name": "stdout",
     "output_type": "stream",
     "text": [
      "{0, 1, 2, 3, 6, 7, 8}\n",
      "{0, 1, 2, 3, 6, 7, 8}\n"
     ]
    }
   ],
   "source": [
    "# Symmetric Difference\n",
    "SD1 = A.symmetric_difference(B)\n",
    "print(SD1)\n",
    "SD2 = B.symmetric_difference(A)\n",
    "print(SD2)"
   ]
  },
  {
   "cell_type": "code",
   "execution_count": 36,
   "metadata": {},
   "outputs": [
    {
     "name": "stdout",
     "output_type": "stream",
     "text": [
      "{0, 1, 2, 3, 6, 7, 8}\n",
      "{0, 1, 2, 3, 6, 7, 8}\n"
     ]
    }
   ],
   "source": [
    "''' Symmetric Difference => ^  '''\n",
    "print(A ^ B)\n",
    "print(B ^ A)"
   ]
  },
  {
   "cell_type": "code",
   "execution_count": 37,
   "metadata": {},
   "outputs": [
    {
     "name": "stdout",
     "output_type": "stream",
     "text": [
      "{0, 1, 2, 3, 4, 5, 6, 7, 9, 10, -10, -2, -1}\n"
     ]
    }
   ],
   "source": [
    "print(a)"
   ]
  },
  {
   "cell_type": "code",
   "execution_count": 38,
   "metadata": {},
   "outputs": [
    {
     "name": "stdout",
     "output_type": "stream",
     "text": [
      "{0, 1, 2, 3, 4, 5, 6, 7, 9, 10, -10, -1, -2}\n"
     ]
    }
   ],
   "source": [
    "# copy()\n",
    "c = a.copy()\n",
    "print(c)"
   ]
  },
  {
   "cell_type": "code",
   "execution_count": 39,
   "metadata": {},
   "outputs": [
    {
     "name": "stdout",
     "output_type": "stream",
     "text": [
      "set()\n"
     ]
    }
   ],
   "source": [
    "# clear()\n",
    "c.clear()\n",
    "print(c)       # It can be run again and again"
   ]
  },
  {
   "cell_type": "code",
   "execution_count": 40,
   "metadata": {},
   "outputs": [],
   "source": [
    "# del => It deletes set from root.\n",
    "del c\n",
    "# after deletion of set 'c' we can't run again or can't print elements of set 'c'.\n",
    "# 1st time this cell will run but 2nd time this cell can't run otherwise it will show an error."
   ]
  },
  {
   "cell_type": "code",
   "execution_count": 139,
   "metadata": {},
   "outputs": [
    {
     "ename": "NameError",
     "evalue": "name 'c' is not defined",
     "output_type": "error",
     "traceback": [
      "\u001b[1;31m---------------------------------------------------------------------------\u001b[0m",
      "\u001b[1;31mNameError\u001b[0m                                 Traceback (most recent call last)",
      "\u001b[1;32mc:\\Users\\PKVidyarthi\\Desktop\\Data Science\\Notes\\Sets&Tuples.ipynb Cell 38\u001b[0m in \u001b[0;36m<cell line: 1>\u001b[1;34m()\u001b[0m\n\u001b[1;32m----> <a href='vscode-notebook-cell:/c%3A/Users/PKVidyarthi/Desktop/Data%20Science/Notes/Sets%26Tuples.ipynb#ch0000041?line=0'>1</a>\u001b[0m \u001b[39mprint\u001b[39m(c)\n",
      "\u001b[1;31mNameError\u001b[0m: name 'c' is not defined"
     ]
    }
   ],
   "source": [
    "print(c)            # It will show an error"
   ]
  },
  {
   "cell_type": "code",
   "execution_count": 41,
   "metadata": {},
   "outputs": [
    {
     "name": "stdout",
     "output_type": "stream",
     "text": [
      "{1, 2, 3, 4, 7, 9, 10, -1}\n",
      "<class 'set'>\n",
      "[1, 2, 3, 4, 7, 9, 10, -1]\n",
      "<class 'list'>\n"
     ]
    }
   ],
   "source": [
    "# Converting a set into a list.\n",
    "c = {-1, 1, 2, 3, 4, 7, 9, 10}\n",
    "print(c)\n",
    "print(type(c))            # Output => <class 'set'>\n",
    "\n",
    "c = list(c)               # set to list.\n",
    "print(c)                  # Output => [1, 2, 3, 4, 7, 9, 10, -1]\n",
    "print(type(c))            # Output => <class 'list'>\n",
    "\n"
   ]
  },
  {
   "cell_type": "code",
   "execution_count": 42,
   "metadata": {},
   "outputs": [
    {
     "name": "stdout",
     "output_type": "stream",
     "text": [
      "()\n",
      "<class 'tuple'>\n",
      "(3, 2, 5, 7, 6, 1)\n",
      "<class 'tuple'>\n"
     ]
    }
   ],
   "source": [
    "# TUPLES\n",
    "''' \n",
    "=> Tuples are used to store multiple items in a single variable.\n",
    "=> A tuple is a collection which is ordered and unchangeable.\n",
    "=> Tuples are written with round brackets.\n",
    "'''\n",
    "t = ()                  # Output => ()\n",
    "print(t)\n",
    "print(type(t))          # Output => <class 'tuple'>\n",
    "t = (3, 2, 5, 7, 6, 1)\n",
    "print(t)                # Output => (3, 2, 5, 7, 6, 1)\n",
    "print(type(t))          # Output => <class 'tuple'>"
   ]
  },
  {
   "cell_type": "code",
   "execution_count": 43,
   "metadata": {},
   "outputs": [
    {
     "name": "stdout",
     "output_type": "stream",
     "text": [
      "('MS DHONI', 'VIRAT KOHLI')\n",
      "<class 'tuple'>\n"
     ]
    }
   ],
   "source": [
    "player = 'MS DHONI', 'VIRAT KOHLI'\n",
    "print(player)           # Output => ('MS DHONI', 'VIRAT KOHLI')\n",
    "print(type(player))     # Output => <class 'tuple'>"
   ]
  },
  {
   "cell_type": "code",
   "execution_count": 44,
   "metadata": {},
   "outputs": [],
   "source": [
    "\n",
    "#! Tuples are :\n",
    "# Ordered => It means that the items have a defined order, and that order will not change.\n",
    "# Unchangeable => We cannot change, add or remove items after the tuple has been created.\n",
    "# Allow Duplicates => Since tuples are indexed, they can have items with the same value."
   ]
  },
  {
   "cell_type": "code",
   "execution_count": 45,
   "metadata": {},
   "outputs": [
    {
     "name": "stdout",
     "output_type": "stream",
     "text": [
      "('banana', 'apple', 'cherry', 'apple', 'berry')\n",
      "<class 'tuple'>\n"
     ]
    }
   ],
   "source": [
    "fruits = ('banana', 'apple', 'cherry', 'apple','berry')\n",
    "print(fruits)           # Output => ('banana', 'apple', 'cherry', 'apple', 'berry')\n",
    "print(type(fruits))     # Output => <class 'tuple'>\n",
    "# There is a duplicate item as 'apple'."
   ]
  },
  {
   "cell_type": "code",
   "execution_count": 46,
   "metadata": {},
   "outputs": [
    {
     "name": "stdout",
     "output_type": "stream",
     "text": [
      "(6, 7, 10, 1)\n",
      "<class 'tuple'>\n"
     ]
    }
   ],
   "source": [
    "a = 6,7,10,1\n",
    "print(a)               # Output => (6, 7, 10, 1)\n",
    "print(type(a))         # Output => <class 'tuple'>\n",
    "\n",
    "# It means tuples can be written without round brackets."
   ]
  },
  {
   "cell_type": "code",
   "execution_count": 47,
   "metadata": {},
   "outputs": [
    {
     "name": "stdout",
     "output_type": "stream",
     "text": [
      "3 2 5 7 6 1\n"
     ]
    },
    {
     "data": {
      "text/plain": [
       "' \\nExplanation:\\nThe asterisk operator * is used to unpack an iterable into the argument list of a given function. \\nThe expression print(*t) will print the elements in my_tuple, empty-space separated, without the enclosing parentheses!\\n'"
      ]
     },
     "execution_count": 47,
     "metadata": {},
     "output_type": "execute_result"
    }
   ],
   "source": [
    "# Question : How to print the tuple without enclosing parentheses? tuple => t = (3, 2, 5, 7, 6, 1)\n",
    "# Solution: \n",
    "t = (3, 2, 5, 7, 6, 1)\n",
    "print(*t)            # Output => 3 2 5 7 6 1\n",
    "\n",
    "''' \n",
    "Explanation:\n",
    "The asterisk operator * is used to unpack an iterable into the argument list of a given function. \n",
    "The expression print(*t) will print the elements in my_tuple, empty-space separated, without the enclosing parentheses!\n",
    "'''"
   ]
  },
  {
   "cell_type": "code",
   "execution_count": 48,
   "metadata": {},
   "outputs": [
    {
     "name": "stdout",
     "output_type": "stream",
     "text": [
      "3, 2, 5, 7, 6, 1\n",
      "3 | 2 | 5 | 7 | 6 | 1\n"
     ]
    },
    {
     "data": {
      "text/plain": [
       "\" Explanation :\\nTo print a comma-separated tuple without enclosing parentheses, \\nthe most Pythonic way is to unpack all tuple values into the print() function and \\nuse the sep=', ' argument to separate the tuple elements with a comma and a space. \\nSpecifically, the expression print(*t, sep=', ') will print the tuple elements without parentheses and \\nwith a comma between subsequent tuple elements.\\n\""
      ]
     },
     "execution_count": 48,
     "metadata": {},
     "output_type": "execute_result"
    }
   ],
   "source": [
    "# How to unpack tuple with separator ?\n",
    "''' Solution: '''\n",
    "print(*t, sep = ', ')    # Output => 3, 2, 5, 7, 6, 1 \n",
    "\n",
    "# can be use any symbol to seperate as place of comma.\n",
    "print(*t, sep = ' | ')   # Output => 3 | 2 | 5 | 7 | 6 | 1\n",
    "\n",
    "''' Explanation :\n",
    "To print a comma-separated tuple without enclosing parentheses, \n",
    "the most Pythonic way is to unpack all tuple values into the print() function and \n",
    "use the sep=', ' argument to separate the tuple elements with a comma and a space. \n",
    "Specifically, the expression print(*t, sep=', ') will print the tuple elements without parentheses and \n",
    "with a comma between subsequent tuple elements.\n",
    "'''"
   ]
  },
  {
   "cell_type": "code",
   "execution_count": 49,
   "metadata": {},
   "outputs": [
    {
     "name": "stdout",
     "output_type": "stream",
     "text": [
      "11\n"
     ]
    }
   ],
   "source": [
    "a = (5,2,7,4,1,8,11,15,17,21,25)\n",
    "print(len(a))"
   ]
  },
  {
   "cell_type": "code",
   "execution_count": 50,
   "metadata": {},
   "outputs": [
    {
     "name": "stdout",
     "output_type": "stream",
     "text": [
      "(5, 2, 7, 4, 1, 8, 11, 15, 17, 21, 25)\n",
      "(7, 4, 1, 8, 11, 15)\n"
     ]
    }
   ],
   "source": [
    "# We can perform slicing, dicing and indexing on tuples.\n",
    "print(a)\n",
    "b = a[2:8]\n",
    "print(b)"
   ]
  },
  {
   "cell_type": "code",
   "execution_count": 51,
   "metadata": {},
   "outputs": [
    {
     "name": "stdout",
     "output_type": "stream",
     "text": [
      "(7, 1, 11)\n"
     ]
    }
   ],
   "source": [
    "c = a[2:8:2]\n",
    "print(c)"
   ]
  },
  {
   "cell_type": "code",
   "execution_count": 12,
   "metadata": {},
   "outputs": [],
   "source": [
    "del a"
   ]
  },
  {
   "cell_type": "code",
   "execution_count": 53,
   "metadata": {},
   "outputs": [
    {
     "name": "stdout",
     "output_type": "stream",
     "text": [
      "(5, 2, 7, 4, 1, 8, 11, 15, 17, 21, 25)\n"
     ]
    }
   ],
   "source": [
    "print(a)"
   ]
  },
  {
   "cell_type": "code",
   "execution_count": 55,
   "metadata": {},
   "outputs": [
    {
     "name": "stdout",
     "output_type": "stream",
     "text": [
      "(1, 2, 3, 4, 5, 6, 7, 8)\n"
     ]
    }
   ],
   "source": [
    "# Concatenation or merging of a tuple.\n",
    "t1 = (1, 2, 3, 4)\n",
    "t2 = (5, 6, 7, 8)\n",
    "\n",
    "t3 = t1 + t2\n",
    "print(t3)             # Output => (1, 2, 3, 4, 5, 6, 7, 8)"
   ]
  },
  {
   "cell_type": "code",
   "execution_count": 56,
   "metadata": {},
   "outputs": [
    {
     "name": "stdout",
     "output_type": "stream",
     "text": [
      "('a', 'p', 'p', 'l', 'e')\n",
      "<class 'tuple'>\n"
     ]
    }
   ],
   "source": [
    "a = 'a','p','p','l','e'\n",
    "print(a)\n",
    "print(type(a))"
   ]
  },
  {
   "cell_type": "code",
   "execution_count": 57,
   "metadata": {},
   "outputs": [
    {
     "name": "stdout",
     "output_type": "stream",
     "text": [
      "2\n"
     ]
    }
   ],
   "source": [
    "# print count\n",
    "# 1\n",
    "print(a.count('p'))"
   ]
  },
  {
   "cell_type": "code",
   "execution_count": 58,
   "metadata": {},
   "outputs": [
    {
     "name": "stdout",
     "output_type": "stream",
     "text": [
      "2\n"
     ]
    }
   ],
   "source": [
    "# 2\n",
    "b = a.count('p')\n",
    "print(b)"
   ]
  },
  {
   "cell_type": "code",
   "execution_count": 61,
   "metadata": {},
   "outputs": [
    {
     "name": "stdout",
     "output_type": "stream",
     "text": [
      "4\n",
      "4\n"
     ]
    }
   ],
   "source": [
    "# print index\n",
    "# 1.\n",
    "print(a.index('e'))\n",
    "# 2\n",
    "i = a.index('e')\n",
    "print(i)"
   ]
  },
  {
   "cell_type": "code",
   "execution_count": 62,
   "metadata": {},
   "outputs": [
    {
     "name": "stdout",
     "output_type": "stream",
     "text": [
      "(4, 2, 3, [5, 6])\n",
      "<class 'tuple'>\n"
     ]
    }
   ],
   "source": [
    "t1 = (4, 2, 3, [5, 6])\n",
    "print(t1)                # Output => (4, 2, 3, [5, 6])\n",
    "print(type(t1))          # Output => <class 'tuple'>"
   ]
  },
  {
   "cell_type": "code",
   "execution_count": 74,
   "metadata": {},
   "outputs": [
    {
     "name": "stdout",
     "output_type": "stream",
     "text": [
      "2\n"
     ]
    }
   ],
   "source": [
    "i = t1.index(3)\n",
    "print(i)"
   ]
  },
  {
   "cell_type": "code",
   "execution_count": 75,
   "metadata": {},
   "outputs": [
    {
     "data": {
      "text/plain": [
       "3"
      ]
     },
     "execution_count": 75,
     "metadata": {},
     "output_type": "execute_result"
    }
   ],
   "source": [
    "print(t1[2])\n",
    "# prints 3 bcz 3is at the index position 2. "
   ]
  },
  {
   "cell_type": "code",
   "execution_count": 76,
   "metadata": {},
   "outputs": [
    {
     "name": "stdout",
     "output_type": "stream",
     "text": [
      "[5, 6]\n"
     ]
    }
   ],
   "source": [
    "print(t1[3])"
   ]
  },
  {
   "cell_type": "code",
   "execution_count": 77,
   "metadata": {},
   "outputs": [
    {
     "ename": "IndexError",
     "evalue": "tuple index out of range",
     "output_type": "error",
     "traceback": [
      "\u001b[1;31m---------------------------------------------------------------------------\u001b[0m",
      "\u001b[1;31mIndexError\u001b[0m                                Traceback (most recent call last)",
      "\u001b[1;32mc:\\Users\\PKVidyarthi\\Desktop\\Data Science\\Notes\\Sets&Tuples.ipynb Cell 61\u001b[0m in \u001b[0;36m<cell line: 1>\u001b[1;34m()\u001b[0m\n\u001b[1;32m----> <a href='vscode-notebook-cell:/c%3A/Users/PKVidyarthi/Desktop/Data%20Science/Notes/Sets%26Tuples.ipynb#ch0000062?line=0'>1</a>\u001b[0m \u001b[39mprint\u001b[39m(t1[\u001b[39m5\u001b[39;49m])\n",
      "\u001b[1;31mIndexError\u001b[0m: tuple index out of range"
     ]
    }
   ],
   "source": [
    "print(t1[5])"
   ]
  },
  {
   "cell_type": "code",
   "execution_count": 81,
   "metadata": {},
   "outputs": [
    {
     "name": "stdout",
     "output_type": "stream",
     "text": [
      "(4, 2, 3, [5, 6])\n",
      "5\n",
      "6\n"
     ]
    }
   ],
   "source": [
    "print(t1)\n",
    "print(t1[3][0])\n",
    "print(t1[3][1])"
   ]
  },
  {
   "cell_type": "code",
   "execution_count": 83,
   "metadata": {},
   "outputs": [
    {
     "name": "stdout",
     "output_type": "stream",
     "text": [
      "(4, 2, 3, [400, 600])\n"
     ]
    }
   ],
   "source": [
    "t1[3][0] = 400\n",
    "t1[3][1] = 600\n",
    "print(t1)"
   ]
  },
  {
   "cell_type": "code",
   "execution_count": 85,
   "metadata": {},
   "outputs": [
    {
     "ename": "TypeError",
     "evalue": "'tuple' object does not support item assignment",
     "output_type": "error",
     "traceback": [
      "\u001b[1;31m---------------------------------------------------------------------------\u001b[0m",
      "\u001b[1;31mTypeError\u001b[0m                                 Traceback (most recent call last)",
      "\u001b[1;32mc:\\Users\\PKVidyarthi\\Desktop\\Data Science\\Notes\\Sets&Tuples.ipynb Cell 64\u001b[0m in \u001b[0;36m<cell line: 1>\u001b[1;34m()\u001b[0m\n\u001b[1;32m----> <a href='vscode-notebook-cell:/c%3A/Users/PKVidyarthi/Desktop/Data%20Science/Notes/Sets%26Tuples.ipynb#ch0000065?line=0'>1</a>\u001b[0m t1[\u001b[39m0\u001b[39m] \u001b[39m=\u001b[39m \u001b[39m200\u001b[39m\n",
      "\u001b[1;31mTypeError\u001b[0m: 'tuple' object does not support item assignment"
     ]
    }
   ],
   "source": [
    "t1[0] = 200   \n",
    "# TypeError: 'tuple' object does not support item assignment.\n",
    "# Can not be change or assign values in tuples.     "
   ]
  },
  {
   "cell_type": "code",
   "execution_count": 87,
   "metadata": {},
   "outputs": [
    {
     "name": "stdout",
     "output_type": "stream",
     "text": [
      "(4, 2, 3, [400, 600])\n",
      "<class 'tuple'>\n",
      "[400, 600]\n",
      "[400, 600]\n",
      "<class 'list'>\n"
     ]
    }
   ],
   "source": [
    "# See the difference: \n",
    "print(t1)\n",
    "print(type(t1))\n",
    "print(t1[3])\n",
    "\n",
    "c = t1[3]\n",
    "print(c)\n",
    "print(type(c))"
   ]
  },
  {
   "cell_type": "code",
   "execution_count": 89,
   "metadata": {},
   "outputs": [
    {
     "name": "stdout",
     "output_type": "stream",
     "text": [
      "(4, 2, 3, [400, 600])\n",
      "<class 'tuple'>\n",
      "[4, 2, 3, [400, 600]]\n",
      "<class 'list'>\n"
     ]
    }
   ],
   "source": [
    "# Converting a tuple into a list.\n",
    "t1 = (4, 2, 3, [400, 600])\n",
    "print(t1)                          # Output => (4, 2, 3, [400, 600])\n",
    "print(type(t1))                    # Output => <class 'tuple'>\n",
    "lst = list(t1)\n",
    "print(lst)                         # Output => [4, 2, 3, [400, 600]]\n",
    "print(type(lst))                   # Output => <class 'list'>"
   ]
  },
  {
   "cell_type": "code",
   "execution_count": 95,
   "metadata": {},
   "outputs": [
    {
     "name": "stdout",
     "output_type": "stream",
     "text": [
      "[200, 2, 3, [400, 100]]\n",
      "[400, 100]\n",
      "100\n",
      "[200, 2, 3, [400, 100]]\n",
      "[200, 2, 3, 1000]\n"
     ]
    }
   ],
   "source": [
    "# Now we can change, update or assign the value of lst[0]\n",
    "\n",
    "lst[0] = 200\n",
    "print(lst)                        # Output => [200, 2, 3, [400, 600]]\n",
    "\n",
    "print(lst[3])                     # Output => [400, 600]\n",
    "print(lst[3][1])                  # Output => 600\n",
    "\n",
    "lst[3][1] = 100\n",
    "print(lst)                        # Output => [200, 2, 3, [400, 100]]\n",
    "\n",
    "lst[3] = 1000                     # It will change [400, 100] to 1000.\n",
    "print(lst)                        # Output => [200, 2, 3, 1000]   "
   ]
  }
 ],
 "metadata": {
  "kernelspec": {
   "display_name": "Python 3.9.12 ('base')",
   "language": "python",
   "name": "python3"
  },
  "language_info": {
   "codemirror_mode": {
    "name": "ipython",
    "version": 3
   },
   "file_extension": ".py",
   "mimetype": "text/x-python",
   "name": "python",
   "nbconvert_exporter": "python",
   "pygments_lexer": "ipython3",
   "version": "3.9.12"
  },
  "orig_nbformat": 4,
  "vscode": {
   "interpreter": {
    "hash": "dcfc0490250201be3bacaee72815d188724ead5dd8e0f022433c84fb6ce39933"
   }
  }
 },
 "nbformat": 4,
 "nbformat_minor": 2
}
