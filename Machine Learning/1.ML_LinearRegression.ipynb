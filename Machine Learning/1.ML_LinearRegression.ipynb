{
  "nbformat": 4,
  "nbformat_minor": 0,
  "metadata": {
    "colab": {
      "provenance": []
    },
    "kernelspec": {
      "name": "python3",
      "display_name": "Python 3"
    },
    "language_info": {
      "name": "python"
    }
  },
  "cells": [
    {
      "cell_type": "markdown",
      "source": [
        "##**Machine Learning 🖥**\n",
        "---\n",
        "#**Linear Regression**\n",
        "> **𝓑𝔂 ⟹ 𝓟𝓡𝓘𝓝𝓒𝓔💗**\n",
        "---\n",
        "\n"
      ],
      "metadata": {
        "id": "hLJR3YaCWs4t"
      }
    },
    {
      "cell_type": "markdown",
      "source": [
        "####***Mounting Google Drive***"
      ],
      "metadata": {
        "id": "Fi2YDucLWKWi"
      }
    },
    {
      "cell_type": "code",
      "execution_count": 1,
      "metadata": {
        "colab": {
          "base_uri": "https://localhost:8080/"
        },
        "id": "zBIHFXSpGatt",
        "outputId": "a63854c7-3119-44c6-f588-06de89dba7ea"
      },
      "outputs": [
        {
          "output_type": "stream",
          "name": "stdout",
          "text": [
            "Drive already mounted at /content/drive; to attempt to forcibly remount, call drive.mount(\"/content/drive\", force_remount=True).\n"
          ]
        }
      ],
      "source": [
        "from google.colab import drive\n",
        "drive.mount('/content/drive')"
      ]
    },
    {
      "cell_type": "markdown",
      "source": [
        "####**Importing some important libraries**"
      ],
      "metadata": {
        "id": "U-2FQ-7vWS9J"
      }
    },
    {
      "cell_type": "code",
      "source": [
        "import pandas as pd\n",
        "import numpy as np\n",
        "import warnings\n",
        "warnings.filterwarnings('ignore')"
      ],
      "metadata": {
        "id": "ro0TdzfhHlCu"
      },
      "execution_count": 2,
      "outputs": []
    },
    {
      "cell_type": "markdown",
      "source": [
        "####**Loading and Reading Dataset**"
      ],
      "metadata": {
        "id": "U777fXypWceb"
      }
    },
    {
      "cell_type": "code",
      "source": [
        "df = pd.read_csv('/content/drive/MyDrive/Weather.csv')\n",
        "df.head()"
      ],
      "metadata": {
        "colab": {
          "base_uri": "https://localhost:8080/",
          "height": 235
        },
        "id": "taWb8PdMIiI1",
        "outputId": "a5d3b9a0-f62d-40b6-e292-fb264f32adbe"
      },
      "execution_count": 3,
      "outputs": [
        {
          "output_type": "execute_result",
          "data": {
            "text/plain": [
              "     STA      Date Precip  WindGustSpd    MaxTemp    MinTemp   MeanTemp  \\\n",
              "0  10001  7/1/1942  1.016          NaN  25.555556  22.222222  23.888889   \n",
              "1  10001  7/2/1942      0          NaN  28.888889  21.666667  25.555556   \n",
              "2  10001  7/3/1942   2.54          NaN  26.111111  22.222222  24.444444   \n",
              "3  10001  7/4/1942   2.54          NaN  26.666667  22.222222  24.444444   \n",
              "4  10001  7/5/1942      0          NaN  26.666667  21.666667  24.444444   \n",
              "\n",
              "  Snowfall PoorWeather  YR  ...  FT  FB FTI  PGT  TSHDSBRSGF  SD3  RHX  RHN  \\\n",
              "0      0.0         NaN  42  ... NaN NaN NaN  NaN         NaN  NaN  NaN  NaN   \n",
              "1      0.0         NaN  42  ... NaN NaN NaN  NaN         NaN  NaN  NaN  NaN   \n",
              "2      0.0         NaN  42  ... NaN NaN NaN  NaN         NaN  NaN  NaN  NaN   \n",
              "3      0.0         NaN  42  ... NaN NaN NaN  NaN         NaN  NaN  NaN  NaN   \n",
              "4      0.0         NaN  42  ... NaN NaN NaN  NaN         NaN  NaN  NaN  NaN   \n",
              "\n",
              "  RVG  WTE  \n",
              "0 NaN  NaN  \n",
              "1 NaN  NaN  \n",
              "2 NaN  NaN  \n",
              "3 NaN  NaN  \n",
              "4 NaN  NaN  \n",
              "\n",
              "[5 rows x 30 columns]"
            ],
            "text/html": [
              "\n",
              "  <div id=\"df-9912204c-3180-4484-8b78-146495b5385f\">\n",
              "    <div class=\"colab-df-container\">\n",
              "      <div>\n",
              "<style scoped>\n",
              "    .dataframe tbody tr th:only-of-type {\n",
              "        vertical-align: middle;\n",
              "    }\n",
              "\n",
              "    .dataframe tbody tr th {\n",
              "        vertical-align: top;\n",
              "    }\n",
              "\n",
              "    .dataframe thead th {\n",
              "        text-align: right;\n",
              "    }\n",
              "</style>\n",
              "<table border=\"1\" class=\"dataframe\">\n",
              "  <thead>\n",
              "    <tr style=\"text-align: right;\">\n",
              "      <th></th>\n",
              "      <th>STA</th>\n",
              "      <th>Date</th>\n",
              "      <th>Precip</th>\n",
              "      <th>WindGustSpd</th>\n",
              "      <th>MaxTemp</th>\n",
              "      <th>MinTemp</th>\n",
              "      <th>MeanTemp</th>\n",
              "      <th>Snowfall</th>\n",
              "      <th>PoorWeather</th>\n",
              "      <th>YR</th>\n",
              "      <th>...</th>\n",
              "      <th>FT</th>\n",
              "      <th>FB</th>\n",
              "      <th>FTI</th>\n",
              "      <th>PGT</th>\n",
              "      <th>TSHDSBRSGF</th>\n",
              "      <th>SD3</th>\n",
              "      <th>RHX</th>\n",
              "      <th>RHN</th>\n",
              "      <th>RVG</th>\n",
              "      <th>WTE</th>\n",
              "    </tr>\n",
              "  </thead>\n",
              "  <tbody>\n",
              "    <tr>\n",
              "      <th>0</th>\n",
              "      <td>10001</td>\n",
              "      <td>7/1/1942</td>\n",
              "      <td>1.016</td>\n",
              "      <td>NaN</td>\n",
              "      <td>25.555556</td>\n",
              "      <td>22.222222</td>\n",
              "      <td>23.888889</td>\n",
              "      <td>0.0</td>\n",
              "      <td>NaN</td>\n",
              "      <td>42</td>\n",
              "      <td>...</td>\n",
              "      <td>NaN</td>\n",
              "      <td>NaN</td>\n",
              "      <td>NaN</td>\n",
              "      <td>NaN</td>\n",
              "      <td>NaN</td>\n",
              "      <td>NaN</td>\n",
              "      <td>NaN</td>\n",
              "      <td>NaN</td>\n",
              "      <td>NaN</td>\n",
              "      <td>NaN</td>\n",
              "    </tr>\n",
              "    <tr>\n",
              "      <th>1</th>\n",
              "      <td>10001</td>\n",
              "      <td>7/2/1942</td>\n",
              "      <td>0</td>\n",
              "      <td>NaN</td>\n",
              "      <td>28.888889</td>\n",
              "      <td>21.666667</td>\n",
              "      <td>25.555556</td>\n",
              "      <td>0.0</td>\n",
              "      <td>NaN</td>\n",
              "      <td>42</td>\n",
              "      <td>...</td>\n",
              "      <td>NaN</td>\n",
              "      <td>NaN</td>\n",
              "      <td>NaN</td>\n",
              "      <td>NaN</td>\n",
              "      <td>NaN</td>\n",
              "      <td>NaN</td>\n",
              "      <td>NaN</td>\n",
              "      <td>NaN</td>\n",
              "      <td>NaN</td>\n",
              "      <td>NaN</td>\n",
              "    </tr>\n",
              "    <tr>\n",
              "      <th>2</th>\n",
              "      <td>10001</td>\n",
              "      <td>7/3/1942</td>\n",
              "      <td>2.54</td>\n",
              "      <td>NaN</td>\n",
              "      <td>26.111111</td>\n",
              "      <td>22.222222</td>\n",
              "      <td>24.444444</td>\n",
              "      <td>0.0</td>\n",
              "      <td>NaN</td>\n",
              "      <td>42</td>\n",
              "      <td>...</td>\n",
              "      <td>NaN</td>\n",
              "      <td>NaN</td>\n",
              "      <td>NaN</td>\n",
              "      <td>NaN</td>\n",
              "      <td>NaN</td>\n",
              "      <td>NaN</td>\n",
              "      <td>NaN</td>\n",
              "      <td>NaN</td>\n",
              "      <td>NaN</td>\n",
              "      <td>NaN</td>\n",
              "    </tr>\n",
              "    <tr>\n",
              "      <th>3</th>\n",
              "      <td>10001</td>\n",
              "      <td>7/4/1942</td>\n",
              "      <td>2.54</td>\n",
              "      <td>NaN</td>\n",
              "      <td>26.666667</td>\n",
              "      <td>22.222222</td>\n",
              "      <td>24.444444</td>\n",
              "      <td>0.0</td>\n",
              "      <td>NaN</td>\n",
              "      <td>42</td>\n",
              "      <td>...</td>\n",
              "      <td>NaN</td>\n",
              "      <td>NaN</td>\n",
              "      <td>NaN</td>\n",
              "      <td>NaN</td>\n",
              "      <td>NaN</td>\n",
              "      <td>NaN</td>\n",
              "      <td>NaN</td>\n",
              "      <td>NaN</td>\n",
              "      <td>NaN</td>\n",
              "      <td>NaN</td>\n",
              "    </tr>\n",
              "    <tr>\n",
              "      <th>4</th>\n",
              "      <td>10001</td>\n",
              "      <td>7/5/1942</td>\n",
              "      <td>0</td>\n",
              "      <td>NaN</td>\n",
              "      <td>26.666667</td>\n",
              "      <td>21.666667</td>\n",
              "      <td>24.444444</td>\n",
              "      <td>0.0</td>\n",
              "      <td>NaN</td>\n",
              "      <td>42</td>\n",
              "      <td>...</td>\n",
              "      <td>NaN</td>\n",
              "      <td>NaN</td>\n",
              "      <td>NaN</td>\n",
              "      <td>NaN</td>\n",
              "      <td>NaN</td>\n",
              "      <td>NaN</td>\n",
              "      <td>NaN</td>\n",
              "      <td>NaN</td>\n",
              "      <td>NaN</td>\n",
              "      <td>NaN</td>\n",
              "    </tr>\n",
              "  </tbody>\n",
              "</table>\n",
              "<p>5 rows × 30 columns</p>\n",
              "</div>\n",
              "      <button class=\"colab-df-convert\" onclick=\"convertToInteractive('df-9912204c-3180-4484-8b78-146495b5385f')\"\n",
              "              title=\"Convert this dataframe to an interactive table.\"\n",
              "              style=\"display:none;\">\n",
              "        \n",
              "  <svg xmlns=\"http://www.w3.org/2000/svg\" height=\"24px\"viewBox=\"0 0 24 24\"\n",
              "       width=\"24px\">\n",
              "    <path d=\"M0 0h24v24H0V0z\" fill=\"none\"/>\n",
              "    <path d=\"M18.56 5.44l.94 2.06.94-2.06 2.06-.94-2.06-.94-.94-2.06-.94 2.06-2.06.94zm-11 1L8.5 8.5l.94-2.06 2.06-.94-2.06-.94L8.5 2.5l-.94 2.06-2.06.94zm10 10l.94 2.06.94-2.06 2.06-.94-2.06-.94-.94-2.06-.94 2.06-2.06.94z\"/><path d=\"M17.41 7.96l-1.37-1.37c-.4-.4-.92-.59-1.43-.59-.52 0-1.04.2-1.43.59L10.3 9.45l-7.72 7.72c-.78.78-.78 2.05 0 2.83L4 21.41c.39.39.9.59 1.41.59.51 0 1.02-.2 1.41-.59l7.78-7.78 2.81-2.81c.8-.78.8-2.07 0-2.86zM5.41 20L4 18.59l7.72-7.72 1.47 1.35L5.41 20z\"/>\n",
              "  </svg>\n",
              "      </button>\n",
              "      \n",
              "  <style>\n",
              "    .colab-df-container {\n",
              "      display:flex;\n",
              "      flex-wrap:wrap;\n",
              "      gap: 12px;\n",
              "    }\n",
              "\n",
              "    .colab-df-convert {\n",
              "      background-color: #E8F0FE;\n",
              "      border: none;\n",
              "      border-radius: 50%;\n",
              "      cursor: pointer;\n",
              "      display: none;\n",
              "      fill: #1967D2;\n",
              "      height: 32px;\n",
              "      padding: 0 0 0 0;\n",
              "      width: 32px;\n",
              "    }\n",
              "\n",
              "    .colab-df-convert:hover {\n",
              "      background-color: #E2EBFA;\n",
              "      box-shadow: 0px 1px 2px rgba(60, 64, 67, 0.3), 0px 1px 3px 1px rgba(60, 64, 67, 0.15);\n",
              "      fill: #174EA6;\n",
              "    }\n",
              "\n",
              "    [theme=dark] .colab-df-convert {\n",
              "      background-color: #3B4455;\n",
              "      fill: #D2E3FC;\n",
              "    }\n",
              "\n",
              "    [theme=dark] .colab-df-convert:hover {\n",
              "      background-color: #434B5C;\n",
              "      box-shadow: 0px 1px 3px 1px rgba(0, 0, 0, 0.15);\n",
              "      filter: drop-shadow(0px 1px 2px rgba(0, 0, 0, 0.3));\n",
              "      fill: #FFFFFF;\n",
              "    }\n",
              "  </style>\n",
              "\n",
              "      <script>\n",
              "        const buttonEl =\n",
              "          document.querySelector('#df-9912204c-3180-4484-8b78-146495b5385f button.colab-df-convert');\n",
              "        buttonEl.style.display =\n",
              "          google.colab.kernel.accessAllowed ? 'block' : 'none';\n",
              "\n",
              "        async function convertToInteractive(key) {\n",
              "          const element = document.querySelector('#df-9912204c-3180-4484-8b78-146495b5385f');\n",
              "          const dataTable =\n",
              "            await google.colab.kernel.invokeFunction('convertToInteractive',\n",
              "                                                     [key], {});\n",
              "          if (!dataTable) return;\n",
              "\n",
              "          const docLinkHtml = 'Like what you see? Visit the ' +\n",
              "            '<a target=\"_blank\" href=https://colab.research.google.com/notebooks/data_table.ipynb>data table notebook</a>'\n",
              "            + ' to learn more about interactive tables.';\n",
              "          element.innerHTML = '';\n",
              "          dataTable['output_type'] = 'display_data';\n",
              "          await google.colab.output.renderOutput(dataTable, element);\n",
              "          const docLink = document.createElement('div');\n",
              "          docLink.innerHTML = docLinkHtml;\n",
              "          element.appendChild(docLink);\n",
              "        }\n",
              "      </script>\n",
              "    </div>\n",
              "  </div>\n",
              "  "
            ]
          },
          "metadata": {},
          "execution_count": 3
        }
      ]
    },
    {
      "cell_type": "code",
      "source": [
        "df.tail()"
      ],
      "metadata": {
        "colab": {
          "base_uri": "https://localhost:8080/",
          "height": 235
        },
        "id": "sPX8hnuuIpG4",
        "outputId": "1009456d-38f4-490e-edb6-207010a28e3e"
      },
      "execution_count": 4,
      "outputs": [
        {
          "output_type": "execute_result",
          "data": {
            "text/plain": [
              "          STA        Date Precip  WindGustSpd    MaxTemp    MinTemp  \\\n",
              "119035  82506  12/27/1945      0          NaN  28.333333  18.333333   \n",
              "119036  82506  12/28/1945  9.906          NaN  29.444444  18.333333   \n",
              "119037  82506  12/29/1945      0          NaN  28.333333  18.333333   \n",
              "119038  82506  12/30/1945      0          NaN  28.333333  18.333333   \n",
              "119039  82506  12/31/1945      0          NaN  29.444444  17.222222   \n",
              "\n",
              "         MeanTemp Snowfall PoorWeather  YR  ...  FT  FB FTI  PGT  TSHDSBRSGF  \\\n",
              "119035  23.333333      0.0         NaN  45  ... NaN NaN NaN  NaN         NaN   \n",
              "119036  23.888889      0.0         1.0  45  ... NaN NaN NaN  NaN         1.0   \n",
              "119037  23.333333      0.0         1.0  45  ... NaN NaN NaN  NaN         1.0   \n",
              "119038  23.333333      0.0         NaN  45  ... NaN NaN NaN  NaN         NaN   \n",
              "119039  23.333333      0.0         NaN  45  ... NaN NaN NaN  NaN         NaN   \n",
              "\n",
              "        SD3  RHX  RHN RVG  WTE  \n",
              "119035  NaN  NaN  NaN NaN  NaN  \n",
              "119036  NaN  NaN  NaN NaN  NaN  \n",
              "119037  NaN  NaN  NaN NaN  NaN  \n",
              "119038  NaN  NaN  NaN NaN  NaN  \n",
              "119039  NaN  NaN  NaN NaN  NaN  \n",
              "\n",
              "[5 rows x 30 columns]"
            ],
            "text/html": [
              "\n",
              "  <div id=\"df-db715a0b-2339-43f3-927d-cb6661d8beb5\">\n",
              "    <div class=\"colab-df-container\">\n",
              "      <div>\n",
              "<style scoped>\n",
              "    .dataframe tbody tr th:only-of-type {\n",
              "        vertical-align: middle;\n",
              "    }\n",
              "\n",
              "    .dataframe tbody tr th {\n",
              "        vertical-align: top;\n",
              "    }\n",
              "\n",
              "    .dataframe thead th {\n",
              "        text-align: right;\n",
              "    }\n",
              "</style>\n",
              "<table border=\"1\" class=\"dataframe\">\n",
              "  <thead>\n",
              "    <tr style=\"text-align: right;\">\n",
              "      <th></th>\n",
              "      <th>STA</th>\n",
              "      <th>Date</th>\n",
              "      <th>Precip</th>\n",
              "      <th>WindGustSpd</th>\n",
              "      <th>MaxTemp</th>\n",
              "      <th>MinTemp</th>\n",
              "      <th>MeanTemp</th>\n",
              "      <th>Snowfall</th>\n",
              "      <th>PoorWeather</th>\n",
              "      <th>YR</th>\n",
              "      <th>...</th>\n",
              "      <th>FT</th>\n",
              "      <th>FB</th>\n",
              "      <th>FTI</th>\n",
              "      <th>PGT</th>\n",
              "      <th>TSHDSBRSGF</th>\n",
              "      <th>SD3</th>\n",
              "      <th>RHX</th>\n",
              "      <th>RHN</th>\n",
              "      <th>RVG</th>\n",
              "      <th>WTE</th>\n",
              "    </tr>\n",
              "  </thead>\n",
              "  <tbody>\n",
              "    <tr>\n",
              "      <th>119035</th>\n",
              "      <td>82506</td>\n",
              "      <td>12/27/1945</td>\n",
              "      <td>0</td>\n",
              "      <td>NaN</td>\n",
              "      <td>28.333333</td>\n",
              "      <td>18.333333</td>\n",
              "      <td>23.333333</td>\n",
              "      <td>0.0</td>\n",
              "      <td>NaN</td>\n",
              "      <td>45</td>\n",
              "      <td>...</td>\n",
              "      <td>NaN</td>\n",
              "      <td>NaN</td>\n",
              "      <td>NaN</td>\n",
              "      <td>NaN</td>\n",
              "      <td>NaN</td>\n",
              "      <td>NaN</td>\n",
              "      <td>NaN</td>\n",
              "      <td>NaN</td>\n",
              "      <td>NaN</td>\n",
              "      <td>NaN</td>\n",
              "    </tr>\n",
              "    <tr>\n",
              "      <th>119036</th>\n",
              "      <td>82506</td>\n",
              "      <td>12/28/1945</td>\n",
              "      <td>9.906</td>\n",
              "      <td>NaN</td>\n",
              "      <td>29.444444</td>\n",
              "      <td>18.333333</td>\n",
              "      <td>23.888889</td>\n",
              "      <td>0.0</td>\n",
              "      <td>1.0</td>\n",
              "      <td>45</td>\n",
              "      <td>...</td>\n",
              "      <td>NaN</td>\n",
              "      <td>NaN</td>\n",
              "      <td>NaN</td>\n",
              "      <td>NaN</td>\n",
              "      <td>1.0</td>\n",
              "      <td>NaN</td>\n",
              "      <td>NaN</td>\n",
              "      <td>NaN</td>\n",
              "      <td>NaN</td>\n",
              "      <td>NaN</td>\n",
              "    </tr>\n",
              "    <tr>\n",
              "      <th>119037</th>\n",
              "      <td>82506</td>\n",
              "      <td>12/29/1945</td>\n",
              "      <td>0</td>\n",
              "      <td>NaN</td>\n",
              "      <td>28.333333</td>\n",
              "      <td>18.333333</td>\n",
              "      <td>23.333333</td>\n",
              "      <td>0.0</td>\n",
              "      <td>1.0</td>\n",
              "      <td>45</td>\n",
              "      <td>...</td>\n",
              "      <td>NaN</td>\n",
              "      <td>NaN</td>\n",
              "      <td>NaN</td>\n",
              "      <td>NaN</td>\n",
              "      <td>1.0</td>\n",
              "      <td>NaN</td>\n",
              "      <td>NaN</td>\n",
              "      <td>NaN</td>\n",
              "      <td>NaN</td>\n",
              "      <td>NaN</td>\n",
              "    </tr>\n",
              "    <tr>\n",
              "      <th>119038</th>\n",
              "      <td>82506</td>\n",
              "      <td>12/30/1945</td>\n",
              "      <td>0</td>\n",
              "      <td>NaN</td>\n",
              "      <td>28.333333</td>\n",
              "      <td>18.333333</td>\n",
              "      <td>23.333333</td>\n",
              "      <td>0.0</td>\n",
              "      <td>NaN</td>\n",
              "      <td>45</td>\n",
              "      <td>...</td>\n",
              "      <td>NaN</td>\n",
              "      <td>NaN</td>\n",
              "      <td>NaN</td>\n",
              "      <td>NaN</td>\n",
              "      <td>NaN</td>\n",
              "      <td>NaN</td>\n",
              "      <td>NaN</td>\n",
              "      <td>NaN</td>\n",
              "      <td>NaN</td>\n",
              "      <td>NaN</td>\n",
              "    </tr>\n",
              "    <tr>\n",
              "      <th>119039</th>\n",
              "      <td>82506</td>\n",
              "      <td>12/31/1945</td>\n",
              "      <td>0</td>\n",
              "      <td>NaN</td>\n",
              "      <td>29.444444</td>\n",
              "      <td>17.222222</td>\n",
              "      <td>23.333333</td>\n",
              "      <td>0.0</td>\n",
              "      <td>NaN</td>\n",
              "      <td>45</td>\n",
              "      <td>...</td>\n",
              "      <td>NaN</td>\n",
              "      <td>NaN</td>\n",
              "      <td>NaN</td>\n",
              "      <td>NaN</td>\n",
              "      <td>NaN</td>\n",
              "      <td>NaN</td>\n",
              "      <td>NaN</td>\n",
              "      <td>NaN</td>\n",
              "      <td>NaN</td>\n",
              "      <td>NaN</td>\n",
              "    </tr>\n",
              "  </tbody>\n",
              "</table>\n",
              "<p>5 rows × 30 columns</p>\n",
              "</div>\n",
              "      <button class=\"colab-df-convert\" onclick=\"convertToInteractive('df-db715a0b-2339-43f3-927d-cb6661d8beb5')\"\n",
              "              title=\"Convert this dataframe to an interactive table.\"\n",
              "              style=\"display:none;\">\n",
              "        \n",
              "  <svg xmlns=\"http://www.w3.org/2000/svg\" height=\"24px\"viewBox=\"0 0 24 24\"\n",
              "       width=\"24px\">\n",
              "    <path d=\"M0 0h24v24H0V0z\" fill=\"none\"/>\n",
              "    <path d=\"M18.56 5.44l.94 2.06.94-2.06 2.06-.94-2.06-.94-.94-2.06-.94 2.06-2.06.94zm-11 1L8.5 8.5l.94-2.06 2.06-.94-2.06-.94L8.5 2.5l-.94 2.06-2.06.94zm10 10l.94 2.06.94-2.06 2.06-.94-2.06-.94-.94-2.06-.94 2.06-2.06.94z\"/><path d=\"M17.41 7.96l-1.37-1.37c-.4-.4-.92-.59-1.43-.59-.52 0-1.04.2-1.43.59L10.3 9.45l-7.72 7.72c-.78.78-.78 2.05 0 2.83L4 21.41c.39.39.9.59 1.41.59.51 0 1.02-.2 1.41-.59l7.78-7.78 2.81-2.81c.8-.78.8-2.07 0-2.86zM5.41 20L4 18.59l7.72-7.72 1.47 1.35L5.41 20z\"/>\n",
              "  </svg>\n",
              "      </button>\n",
              "      \n",
              "  <style>\n",
              "    .colab-df-container {\n",
              "      display:flex;\n",
              "      flex-wrap:wrap;\n",
              "      gap: 12px;\n",
              "    }\n",
              "\n",
              "    .colab-df-convert {\n",
              "      background-color: #E8F0FE;\n",
              "      border: none;\n",
              "      border-radius: 50%;\n",
              "      cursor: pointer;\n",
              "      display: none;\n",
              "      fill: #1967D2;\n",
              "      height: 32px;\n",
              "      padding: 0 0 0 0;\n",
              "      width: 32px;\n",
              "    }\n",
              "\n",
              "    .colab-df-convert:hover {\n",
              "      background-color: #E2EBFA;\n",
              "      box-shadow: 0px 1px 2px rgba(60, 64, 67, 0.3), 0px 1px 3px 1px rgba(60, 64, 67, 0.15);\n",
              "      fill: #174EA6;\n",
              "    }\n",
              "\n",
              "    [theme=dark] .colab-df-convert {\n",
              "      background-color: #3B4455;\n",
              "      fill: #D2E3FC;\n",
              "    }\n",
              "\n",
              "    [theme=dark] .colab-df-convert:hover {\n",
              "      background-color: #434B5C;\n",
              "      box-shadow: 0px 1px 3px 1px rgba(0, 0, 0, 0.15);\n",
              "      filter: drop-shadow(0px 1px 2px rgba(0, 0, 0, 0.3));\n",
              "      fill: #FFFFFF;\n",
              "    }\n",
              "  </style>\n",
              "\n",
              "      <script>\n",
              "        const buttonEl =\n",
              "          document.querySelector('#df-db715a0b-2339-43f3-927d-cb6661d8beb5 button.colab-df-convert');\n",
              "        buttonEl.style.display =\n",
              "          google.colab.kernel.accessAllowed ? 'block' : 'none';\n",
              "\n",
              "        async function convertToInteractive(key) {\n",
              "          const element = document.querySelector('#df-db715a0b-2339-43f3-927d-cb6661d8beb5');\n",
              "          const dataTable =\n",
              "            await google.colab.kernel.invokeFunction('convertToInteractive',\n",
              "                                                     [key], {});\n",
              "          if (!dataTable) return;\n",
              "\n",
              "          const docLinkHtml = 'Like what you see? Visit the ' +\n",
              "            '<a target=\"_blank\" href=https://colab.research.google.com/notebooks/data_table.ipynb>data table notebook</a>'\n",
              "            + ' to learn more about interactive tables.';\n",
              "          element.innerHTML = '';\n",
              "          dataTable['output_type'] = 'display_data';\n",
              "          await google.colab.output.renderOutput(dataTable, element);\n",
              "          const docLink = document.createElement('div');\n",
              "          docLink.innerHTML = docLinkHtml;\n",
              "          element.appendChild(docLink);\n",
              "        }\n",
              "      </script>\n",
              "    </div>\n",
              "  </div>\n",
              "  "
            ]
          },
          "metadata": {},
          "execution_count": 4
        }
      ]
    },
    {
      "cell_type": "code",
      "source": [
        "df.shape"
      ],
      "metadata": {
        "colab": {
          "base_uri": "https://localhost:8080/"
        },
        "id": "6ifYUV3xItQr",
        "outputId": "db271906-04f9-402d-c006-be30966af4f3"
      },
      "execution_count": 5,
      "outputs": [
        {
          "output_type": "execute_result",
          "data": {
            "text/plain": [
              "(119040, 30)"
            ]
          },
          "metadata": {},
          "execution_count": 5
        }
      ]
    },
    {
      "cell_type": "code",
      "source": [
        "df.info()"
      ],
      "metadata": {
        "colab": {
          "base_uri": "https://localhost:8080/"
        },
        "id": "1hUro-IpIwq4",
        "outputId": "493f9aa6-da6a-4070-dddc-9e34ae3d0e4c"
      },
      "execution_count": 6,
      "outputs": [
        {
          "output_type": "stream",
          "name": "stdout",
          "text": [
            "<class 'pandas.core.frame.DataFrame'>\n",
            "RangeIndex: 119040 entries, 0 to 119039\n",
            "Data columns (total 30 columns):\n",
            " #   Column       Non-Null Count   Dtype  \n",
            "---  ------       --------------   -----  \n",
            " 0   STA          119040 non-null  int64  \n",
            " 1   Date         119040 non-null  object \n",
            " 2   Precip       119040 non-null  object \n",
            " 3   WindGustSpd  532 non-null     float64\n",
            " 4   MaxTemp      119040 non-null  float64\n",
            " 5   MinTemp      119040 non-null  float64\n",
            " 6   MeanTemp     119040 non-null  float64\n",
            " 7   Snowfall     117877 non-null  object \n",
            " 8   PoorWeather  34237 non-null   object \n",
            " 9   YR           119040 non-null  int64  \n",
            " 10  MO           119040 non-null  int64  \n",
            " 11  DA           119040 non-null  int64  \n",
            " 12  PRCP         117108 non-null  object \n",
            " 13  DR           533 non-null     float64\n",
            " 14  SPD          532 non-null     float64\n",
            " 15  MAX          118566 non-null  float64\n",
            " 16  MIN          118572 non-null  float64\n",
            " 17  MEA          118542 non-null  float64\n",
            " 18  SNF          117877 non-null  object \n",
            " 19  SND          5563 non-null    float64\n",
            " 20  FT           0 non-null       float64\n",
            " 21  FB           0 non-null       float64\n",
            " 22  FTI          0 non-null       float64\n",
            " 23  PGT          525 non-null     float64\n",
            " 24  TSHDSBRSGF   34237 non-null   object \n",
            " 25  SD3          0 non-null       float64\n",
            " 26  RHX          0 non-null       float64\n",
            " 27  RHN          0 non-null       float64\n",
            " 28  RVG          0 non-null       float64\n",
            " 29  WTE          0 non-null       float64\n",
            "dtypes: float64(19), int64(4), object(7)\n",
            "memory usage: 27.2+ MB\n"
          ]
        }
      ]
    },
    {
      "cell_type": "markdown",
      "source": [
        "##**Based on Minimum Temperature we have to predict Maximum Temperature.**"
      ],
      "metadata": {
        "id": "_NNnX1TXVb9N"
      }
    },
    {
      "cell_type": "markdown",
      "source": [
        "####**Define independent variable :**"
      ],
      "metadata": {
        "id": "5vGReKyKVv95"
      }
    },
    {
      "cell_type": "code",
      "source": [
        "# Define independent variable\n",
        "x = df['MinTemp'].values.reshape(-1,1)\n",
        "x"
      ],
      "metadata": {
        "colab": {
          "base_uri": "https://localhost:8080/"
        },
        "id": "OmiZJZJ7JZFD",
        "outputId": "c040fbda-6a1e-4e15-aec3-1c6bdddd0640"
      },
      "execution_count": 8,
      "outputs": [
        {
          "output_type": "execute_result",
          "data": {
            "text/plain": [
              "array([[22.22222222],\n",
              "       [21.66666667],\n",
              "       [22.22222222],\n",
              "       ...,\n",
              "       [18.33333333],\n",
              "       [18.33333333],\n",
              "       [17.22222222]])"
            ]
          },
          "metadata": {},
          "execution_count": 8
        }
      ]
    },
    {
      "cell_type": "markdown",
      "source": [
        "####**Define dependent variable :**"
      ],
      "metadata": {
        "id": "SDjcH39LV4Lf"
      }
    },
    {
      "cell_type": "code",
      "source": [
        "# Define dependent variable\n",
        "y = df['MaxTemp'].values.reshape(-1,1)\n",
        "y"
      ],
      "metadata": {
        "colab": {
          "base_uri": "https://localhost:8080/"
        },
        "id": "QlHMopw7JnGD",
        "outputId": "2c92f4b6-e5f7-42d3-a086-aca5ae62f4df"
      },
      "execution_count": 9,
      "outputs": [
        {
          "output_type": "execute_result",
          "data": {
            "text/plain": [
              "array([[25.55555556],\n",
              "       [28.88888889],\n",
              "       [26.11111111],\n",
              "       ...,\n",
              "       [28.33333333],\n",
              "       [28.33333333],\n",
              "       [29.44444444]])"
            ]
          },
          "metadata": {},
          "execution_count": 9
        }
      ]
    },
    {
      "cell_type": "markdown",
      "source": [
        "####**Train_Test_Split  :**\n",
        "Used to split the dataset to train and test"
      ],
      "metadata": {
        "id": "tzzsvC6bVQ_0"
      }
    },
    {
      "cell_type": "code",
      "source": [
        "# Train_Test_Split  : Used to split the dataset to train and test\n",
        "from sklearn.model_selection import train_test_split     # sklearn => Scikit Learn"
      ],
      "metadata": {
        "id": "nbs6mWxqKF_j"
      },
      "execution_count": 11,
      "outputs": []
    },
    {
      "cell_type": "markdown",
      "source": [
        "####**Splitting**"
      ],
      "metadata": {
        "id": "gZKIaGrKVBi6"
      }
    },
    {
      "cell_type": "code",
      "source": [
        "# Splitting at 70:30 ratio\n",
        "x_train, x_test, y_train, y_test = train_test_split(x,y,test_size = 0.3, train_size = 0.7, random_state = 1)\n",
        "# train_size, random_state can be exclude"
      ],
      "metadata": {
        "id": "xKSrwar_J6Fs"
      },
      "execution_count": 12,
      "outputs": []
    },
    {
      "cell_type": "markdown",
      "source": [
        "####**To check ⟶**"
      ],
      "metadata": {
        "id": "JiWKU35aU7yD"
      }
    },
    {
      "cell_type": "code",
      "source": [
        "# To check\n",
        "x_train.shape      # 0.7 * 119040"
      ],
      "metadata": {
        "colab": {
          "base_uri": "https://localhost:8080/"
        },
        "id": "nieaDbZ6LYv4",
        "outputId": "d822b5c5-51a0-4d10-e7fc-af6a37d277c4"
      },
      "execution_count": 15,
      "outputs": [
        {
          "output_type": "execute_result",
          "data": {
            "text/plain": [
              "((83328, 1), (83328, 1))"
            ]
          },
          "metadata": {},
          "execution_count": 15
        }
      ]
    },
    {
      "cell_type": "code",
      "source": [
        "y_train.shape      # 0.7 * 119040"
      ],
      "metadata": {
        "colab": {
          "base_uri": "https://localhost:8080/"
        },
        "id": "E4gOU-jJLfq9",
        "outputId": "aa5d42f1-f2d5-4643-e861-f709ffda6ef8"
      },
      "execution_count": 14,
      "outputs": [
        {
          "output_type": "execute_result",
          "data": {
            "text/plain": [
              "(83328, 1)"
            ]
          },
          "metadata": {},
          "execution_count": 14
        }
      ]
    },
    {
      "cell_type": "code",
      "source": [
        "x_test.shape       # 0.3 * 119040"
      ],
      "metadata": {
        "colab": {
          "base_uri": "https://localhost:8080/"
        },
        "id": "Qq6skBWlLmS3",
        "outputId": "a21db3cf-df95-41c6-b9c4-6ef9cbe1013f"
      },
      "execution_count": 16,
      "outputs": [
        {
          "output_type": "execute_result",
          "data": {
            "text/plain": [
              "(35712, 1)"
            ]
          },
          "metadata": {},
          "execution_count": 16
        }
      ]
    },
    {
      "cell_type": "code",
      "source": [
        "y_test.shape       # 0.3 * 119040"
      ],
      "metadata": {
        "colab": {
          "base_uri": "https://localhost:8080/"
        },
        "id": "5auAQ6_DMBHw",
        "outputId": "edab0b95-2e4a-4d04-b6a3-9cc1db8a3ade"
      },
      "execution_count": 18,
      "outputs": [
        {
          "output_type": "execute_result",
          "data": {
            "text/plain": [
              "(35712, 1)"
            ]
          },
          "metadata": {},
          "execution_count": 18
        }
      ]
    },
    {
      "cell_type": "code",
      "source": [
        "df.shape[0]"
      ],
      "metadata": {
        "colab": {
          "base_uri": "https://localhost:8080/"
        },
        "id": "bXFObL8AMGf2",
        "outputId": "432a86d0-7dff-477e-aaee-5ed60c9ae610"
      },
      "execution_count": 20,
      "outputs": [
        {
          "output_type": "execute_result",
          "data": {
            "text/plain": [
              "119040"
            ]
          },
          "metadata": {},
          "execution_count": 20
        }
      ]
    },
    {
      "cell_type": "markdown",
      "source": [
        "####**Importing our first Machine Learning Model**"
      ],
      "metadata": {
        "id": "zmoS2dN3Uz4L"
      }
    },
    {
      "cell_type": "code",
      "source": [
        "# Importing our first Machine Learning Model\n",
        "from sklearn.linear_model import LinearRegression"
      ],
      "metadata": {
        "id": "iJeZQAUrMM_v"
      },
      "execution_count": 21,
      "outputs": []
    },
    {
      "cell_type": "markdown",
      "source": [
        "####**Create an object of the Linear Regression Model**"
      ],
      "metadata": {
        "id": "ZST09SxzUvj-"
      }
    },
    {
      "cell_type": "code",
      "source": [
        "# Create an object of the Linear Regression Model\n",
        "model = LinearRegression()"
      ],
      "metadata": {
        "id": "eUOi0kOIOBA9"
      },
      "execution_count": 22,
      "outputs": []
    },
    {
      "cell_type": "markdown",
      "source": [
        "####**Train the model  ⟶ .fit( )**"
      ],
      "metadata": {
        "id": "QwZmE83RUicj"
      }
    },
    {
      "cell_type": "code",
      "source": [
        "# Train the model  : .fit()\n",
        "model.fit(x_train, y_train)"
      ],
      "metadata": {
        "colab": {
          "base_uri": "https://localhost:8080/"
        },
        "id": "nNIVGPZROMIg",
        "outputId": "09b37ffa-b4e2-43fd-d1a3-7385a8ae7f91"
      },
      "execution_count": 23,
      "outputs": [
        {
          "output_type": "execute_result",
          "data": {
            "text/plain": [
              "LinearRegression()"
            ]
          },
          "metadata": {},
          "execution_count": 23
        }
      ]
    },
    {
      "cell_type": "markdown",
      "source": [
        "####**Predict the model :**"
      ],
      "metadata": {
        "id": "HjPNvGLbUcNW"
      }
    },
    {
      "cell_type": "code",
      "source": [
        "# Predict the model\n",
        "y_pred = model.predict(x_test) \n",
        "y_pred"
      ],
      "metadata": {
        "colab": {
          "base_uri": "https://localhost:8080/"
        },
        "id": "RpZXMFrgOam4",
        "outputId": "cbf685ff-7fe4-450c-cddb-a7e9ab82b07e"
      },
      "execution_count": 24,
      "outputs": [
        {
          "output_type": "execute_result",
          "data": {
            "text/plain": [
              "array([[20.88972865],\n",
              "       [28.56451499],\n",
              "       [31.63442954],\n",
              "       ...,\n",
              "       [31.12277711],\n",
              "       [28.56451499],\n",
              "       [31.12277711]])"
            ]
          },
          "metadata": {},
          "execution_count": 24
        }
      ]
    },
    {
      "cell_type": "markdown",
      "source": [
        "###**R2_Score (R Square) →**"
      ],
      "metadata": {
        "id": "_Vgn3iRWUUo0"
      }
    },
    {
      "cell_type": "code",
      "source": [
        "# R2_Score (R Square)    :    model.score(x_test, y_test)\n",
        "r2 = model.score(x_test, y_test)"
      ],
      "metadata": {
        "id": "NhbqtBX4OuCi"
      },
      "execution_count": 30,
      "outputs": []
    },
    {
      "cell_type": "code",
      "source": [
        "model.score(x_train, y_train)   # It's not R2_Score"
      ],
      "metadata": {
        "id": "38NwJt9uPV0W"
      },
      "execution_count": null,
      "outputs": []
    },
    {
      "cell_type": "markdown",
      "source": [
        "###**Accuracy →**"
      ],
      "metadata": {
        "id": "bFpaCzrmUMLJ"
      }
    },
    {
      "cell_type": "code",
      "source": [
        "# Accuracy\n",
        "r2 * 100"
      ],
      "metadata": {
        "colab": {
          "base_uri": "https://localhost:8080/"
        },
        "id": "kyZHS-TMO_qI",
        "outputId": "ef458b7d-08ee-4d02-ce3c-863fc56b8a74"
      },
      "execution_count": 31,
      "outputs": [
        {
          "output_type": "execute_result",
          "data": {
            "text/plain": [
              "76.5801933965467"
            ]
          },
          "metadata": {},
          "execution_count": 31
        }
      ]
    },
    {
      "cell_type": "markdown",
      "source": [
        "###**Another method to calculate R2_Score :**"
      ],
      "metadata": {
        "id": "Us1o1xFsUALO"
      }
    },
    {
      "cell_type": "code",
      "source": [
        "# Another method to calculate R2_Score\n",
        "from sklearn.metrics import r2_score\n",
        "r2_score(y_test, y_pred)"
      ],
      "metadata": {
        "colab": {
          "base_uri": "https://localhost:8080/"
        },
        "id": "DkWcIB-MPJlP",
        "outputId": "5baf6539-60f8-4ccd-fd61-15df60240782"
      },
      "execution_count": 29,
      "outputs": [
        {
          "output_type": "execute_result",
          "data": {
            "text/plain": [
              "0.765801933965467"
            ]
          },
          "metadata": {},
          "execution_count": 29
        }
      ]
    },
    {
      "cell_type": "markdown",
      "source": [
        "###**Adjusted R2_Score  =  1 - [ ( 1 - R² ) * ( N - 1 ) / (N - p - 1) ]**\n",
        "where, \n",
        "\n",
        "R² = R2_Score or R Square\n",
        "\n",
        "N = Total number of samples or Total number of rows\n",
        "\n",
        "p = Total  number of training or test size of independet features(variable)\n"
      ],
      "metadata": {
        "id": "0jkehPnlQSIC"
      }
    },
    {
      "cell_type": "code",
      "source": [
        "# Adjusted R2_Score\n",
        "adj_r2 = 1 - ((1-r2)*(len(df)-1)) / (len(df)-len(x_test)-1)\n",
        "adj_r2"
      ],
      "metadata": {
        "colab": {
          "base_uri": "https://localhost:8080/"
        },
        "id": "TC-SHsfYPzBB",
        "outputId": "d5e3bb5b-e97a-4486-e6e6-585b2a6c5a03"
      },
      "execution_count": 32,
      "outputs": [
        {
          "output_type": "execute_result",
          "data": {
            "text/plain": [
              "0.6654301296976397"
            ]
          },
          "metadata": {},
          "execution_count": 32
        }
      ]
    },
    {
      "cell_type": "markdown",
      "source": [
        "###**Save as an Excel File ⟶**"
      ],
      "metadata": {
        "id": "PUiXRQq0T2No"
      }
    },
    {
      "cell_type": "code",
      "source": [
        "# Save as an excel file\n",
        "y_pred = pd.DataFrame(y_pred)        # First change y_pred to a DataFrame\n",
        "max_temp_pred = y_pred.to_csv('MaxTemp Prediction.csv') "
      ],
      "metadata": {
        "id": "kt1hDE8YSS8d"
      },
      "execution_count": 33,
      "outputs": []
    },
    {
      "cell_type": "code",
      "source": [],
      "metadata": {
        "id": "l2YnFr-YS9Ls"
      },
      "execution_count": null,
      "outputs": []
    }
  ]
}